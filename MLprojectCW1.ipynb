{
  "nbformat": 4,
  "nbformat_minor": 0,
  "metadata": {
    "colab": {
      "provenance": [],
      "authorship_tag": "ABX9TyNno6cW3QfOJN95X5jgO0TW",
      "include_colab_link": true
    },
    "kernelspec": {
      "name": "python3",
      "display_name": "Python 3"
    },
    "language_info": {
      "name": "python"
    }
  },
  "cells": [
    {
      "cell_type": "markdown",
      "metadata": {
        "id": "view-in-github",
        "colab_type": "text"
      },
      "source": [
        "<a href=\"https://colab.research.google.com/github/goitoom/Lung-cancer-detection-models/blob/main/MLprojectCW1.ipynb\" target=\"_parent\"><img src=\"https://colab.research.google.com/assets/colab-badge.svg\" alt=\"Open In Colab\"/></a>"
      ]
    },
    {
      "cell_type": "code",
      "source": [
        "#Importing pandas library\n",
        "import pandas as pd\n",
        "\n",
        "#Loading data into a DataFrame\n",
        "df=pd.read_csv('/content/lung_cancer.csv')"
      ],
      "metadata": {
        "id": "kIYL47zhSBmN"
      },
      "execution_count": null,
      "outputs": []
    },
    {
      "cell_type": "code",
      "source": [
        "df"
      ],
      "metadata": {
        "colab": {
          "base_uri": "https://localhost:8080/",
          "height": 461
        },
        "id": "SL5hj3HXSPnS",
        "outputId": "5f3063dd-b535-4191-bfdb-ae5c522aa95b",
        "collapsed": true
      },
      "execution_count": null,
      "outputs": [
        {
          "output_type": "execute_result",
          "data": {
            "text/plain": [
              "     PATIENT_ID GENOMIC SEX AGE BLOOD_TYPE  NUMBER_OF_SIBLINGS  YEAR_OF_BIRTH  \\\n",
              "0        A10230           M  69          A                 5.0         1945.0   \n",
              "1        A10231           M  74          B                 1.0         1940.0   \n",
              "2        A10232           F  59         AB                 0.0         1955.0   \n",
              "3        A10233           M  63          O                 3.0         1951.0   \n",
              "4        A10234           F  63          A                 4.0         1951.0   \n",
              "...         ...         ...  ..        ...                 ...            ...   \n",
              "1115     A11345      FEMALE  57          A                 3.0         1957.0   \n",
              "1116     A11346      FEMALE  51          A                 2.0         1963.0   \n",
              "1117     A11347      FEMALE  65          A                 1.0         1949.0   \n",
              "1118     A11348      FEMALE  57          A                 2.0         1957.0   \n",
              "1119     A11349      FEMALE  20          A                 1.0         1994.0   \n",
              "\n",
              "      ADOPTED_STATUS  NUMBER_OF_PREGNANCIES  MONTH_OF_BIRTH  PARENT_ALIVE  \\\n",
              "0                  1                    NaN               1             3   \n",
              "1                  1                    NaN              10             2   \n",
              "2                  1                    5.0              10             2   \n",
              "3                  1                    NaN               8             2   \n",
              "4                  1                    3.0               5             1   \n",
              "...              ...                    ...             ...           ...   \n",
              "1115               1                    1.0              12             3   \n",
              "1116               1                    0.0              11             2   \n",
              "1117               1                    2.0               7             1   \n",
              "1118               1                    5.0               1             1   \n",
              "1119               1                    1.0               7             1   \n",
              "\n",
              "      ...  Constant_Exhaustion FATIGUE   ALLERGY   WHEEZING  \\\n",
              "0     ...                  Yes      2.0         1       2.0   \n",
              "1     ...                  Yes      2.0         2       1.0   \n",
              "2     ...                  Yes      2.0         1       2.0   \n",
              "3     ...                   No      1.0         1       1.0   \n",
              "4     ...                   No      1.0         1       2.0   \n",
              "...   ...                  ...      ...       ...       ...   \n",
              "1115  ...                  Yes      2.0         1       2.0   \n",
              "1116  ...                   No      1.0         1       1.0   \n",
              "1117  ...                  Yes      2.0         1       2.0   \n",
              "1118  ...                  Yes      2.0         1       2.0   \n",
              "1119  ...                   No      1.0         1       1.0   \n",
              "\n",
              "      ALCOHOL_CONSUMPTION  COUGHING SHORTNESS_OF_BREATH  \\\n",
              "0                       2         2                 2.0   \n",
              "1                       1         1                 2.0   \n",
              "2                       1         2                 2.0   \n",
              "3                       2         1                 1.0   \n",
              "4                       1         2                 2.0   \n",
              "...                   ...       ...                 ...   \n",
              "1115                    2         2                 1.0   \n",
              "1116                    1         1                 2.0   \n",
              "1117                    1         2                 1.0   \n",
              "1118                    1         2                 1.0   \n",
              "1119                    1         1                 1.0   \n",
              "\n",
              "      SWALLOWING_DIFFICULTY  CHEST_PAIN  LUNG_CANCER  \n",
              "0                         2           2          YES  \n",
              "1                         2           2          YES  \n",
              "2                         1           2           NO  \n",
              "3                         2           2           NO  \n",
              "4                         1           1           NO  \n",
              "...                     ...         ...          ...  \n",
              "1115                      1           1           NO  \n",
              "1116                      1           2           NO  \n",
              "1117                      1           1           NO  \n",
              "1118                      1           1           NO  \n",
              "1119                      1           2           NO  \n",
              "\n",
              "[1120 rows x 26 columns]"
            ],
            "text/html": [
              "\n",
              "  <div id=\"df-3ffcce90-0641-4ead-859a-7ae8c5f35224\" class=\"colab-df-container\">\n",
              "    <div>\n",
              "<style scoped>\n",
              "    .dataframe tbody tr th:only-of-type {\n",
              "        vertical-align: middle;\n",
              "    }\n",
              "\n",
              "    .dataframe tbody tr th {\n",
              "        vertical-align: top;\n",
              "    }\n",
              "\n",
              "    .dataframe thead th {\n",
              "        text-align: right;\n",
              "    }\n",
              "</style>\n",
              "<table border=\"1\" class=\"dataframe\">\n",
              "  <thead>\n",
              "    <tr style=\"text-align: right;\">\n",
              "      <th></th>\n",
              "      <th>PATIENT_ID</th>\n",
              "      <th>GENOMIC SEX</th>\n",
              "      <th>AGE</th>\n",
              "      <th>BLOOD_TYPE</th>\n",
              "      <th>NUMBER_OF_SIBLINGS</th>\n",
              "      <th>YEAR_OF_BIRTH</th>\n",
              "      <th>ADOPTED_STATUS</th>\n",
              "      <th>NUMBER_OF_PREGNANCIES</th>\n",
              "      <th>MONTH_OF_BIRTH</th>\n",
              "      <th>PARENT_ALIVE</th>\n",
              "      <th>...</th>\n",
              "      <th>Constant_Exhaustion</th>\n",
              "      <th>FATIGUE</th>\n",
              "      <th>ALLERGY</th>\n",
              "      <th>WHEEZING</th>\n",
              "      <th>ALCOHOL_CONSUMPTION</th>\n",
              "      <th>COUGHING</th>\n",
              "      <th>SHORTNESS_OF_BREATH</th>\n",
              "      <th>SWALLOWING_DIFFICULTY</th>\n",
              "      <th>CHEST_PAIN</th>\n",
              "      <th>LUNG_CANCER</th>\n",
              "    </tr>\n",
              "  </thead>\n",
              "  <tbody>\n",
              "    <tr>\n",
              "      <th>0</th>\n",
              "      <td>A10230</td>\n",
              "      <td>M</td>\n",
              "      <td>69</td>\n",
              "      <td>A</td>\n",
              "      <td>5.0</td>\n",
              "      <td>1945.0</td>\n",
              "      <td>1</td>\n",
              "      <td>NaN</td>\n",
              "      <td>1</td>\n",
              "      <td>3</td>\n",
              "      <td>...</td>\n",
              "      <td>Yes</td>\n",
              "      <td>2.0</td>\n",
              "      <td>1</td>\n",
              "      <td>2.0</td>\n",
              "      <td>2</td>\n",
              "      <td>2</td>\n",
              "      <td>2.0</td>\n",
              "      <td>2</td>\n",
              "      <td>2</td>\n",
              "      <td>YES</td>\n",
              "    </tr>\n",
              "    <tr>\n",
              "      <th>1</th>\n",
              "      <td>A10231</td>\n",
              "      <td>M</td>\n",
              "      <td>74</td>\n",
              "      <td>B</td>\n",
              "      <td>1.0</td>\n",
              "      <td>1940.0</td>\n",
              "      <td>1</td>\n",
              "      <td>NaN</td>\n",
              "      <td>10</td>\n",
              "      <td>2</td>\n",
              "      <td>...</td>\n",
              "      <td>Yes</td>\n",
              "      <td>2.0</td>\n",
              "      <td>2</td>\n",
              "      <td>1.0</td>\n",
              "      <td>1</td>\n",
              "      <td>1</td>\n",
              "      <td>2.0</td>\n",
              "      <td>2</td>\n",
              "      <td>2</td>\n",
              "      <td>YES</td>\n",
              "    </tr>\n",
              "    <tr>\n",
              "      <th>2</th>\n",
              "      <td>A10232</td>\n",
              "      <td>F</td>\n",
              "      <td>59</td>\n",
              "      <td>AB</td>\n",
              "      <td>0.0</td>\n",
              "      <td>1955.0</td>\n",
              "      <td>1</td>\n",
              "      <td>5.0</td>\n",
              "      <td>10</td>\n",
              "      <td>2</td>\n",
              "      <td>...</td>\n",
              "      <td>Yes</td>\n",
              "      <td>2.0</td>\n",
              "      <td>1</td>\n",
              "      <td>2.0</td>\n",
              "      <td>1</td>\n",
              "      <td>2</td>\n",
              "      <td>2.0</td>\n",
              "      <td>1</td>\n",
              "      <td>2</td>\n",
              "      <td>NO</td>\n",
              "    </tr>\n",
              "    <tr>\n",
              "      <th>3</th>\n",
              "      <td>A10233</td>\n",
              "      <td>M</td>\n",
              "      <td>63</td>\n",
              "      <td>O</td>\n",
              "      <td>3.0</td>\n",
              "      <td>1951.0</td>\n",
              "      <td>1</td>\n",
              "      <td>NaN</td>\n",
              "      <td>8</td>\n",
              "      <td>2</td>\n",
              "      <td>...</td>\n",
              "      <td>No</td>\n",
              "      <td>1.0</td>\n",
              "      <td>1</td>\n",
              "      <td>1.0</td>\n",
              "      <td>2</td>\n",
              "      <td>1</td>\n",
              "      <td>1.0</td>\n",
              "      <td>2</td>\n",
              "      <td>2</td>\n",
              "      <td>NO</td>\n",
              "    </tr>\n",
              "    <tr>\n",
              "      <th>4</th>\n",
              "      <td>A10234</td>\n",
              "      <td>F</td>\n",
              "      <td>63</td>\n",
              "      <td>A</td>\n",
              "      <td>4.0</td>\n",
              "      <td>1951.0</td>\n",
              "      <td>1</td>\n",
              "      <td>3.0</td>\n",
              "      <td>5</td>\n",
              "      <td>1</td>\n",
              "      <td>...</td>\n",
              "      <td>No</td>\n",
              "      <td>1.0</td>\n",
              "      <td>1</td>\n",
              "      <td>2.0</td>\n",
              "      <td>1</td>\n",
              "      <td>2</td>\n",
              "      <td>2.0</td>\n",
              "      <td>1</td>\n",
              "      <td>1</td>\n",
              "      <td>NO</td>\n",
              "    </tr>\n",
              "    <tr>\n",
              "      <th>...</th>\n",
              "      <td>...</td>\n",
              "      <td>...</td>\n",
              "      <td>...</td>\n",
              "      <td>...</td>\n",
              "      <td>...</td>\n",
              "      <td>...</td>\n",
              "      <td>...</td>\n",
              "      <td>...</td>\n",
              "      <td>...</td>\n",
              "      <td>...</td>\n",
              "      <td>...</td>\n",
              "      <td>...</td>\n",
              "      <td>...</td>\n",
              "      <td>...</td>\n",
              "      <td>...</td>\n",
              "      <td>...</td>\n",
              "      <td>...</td>\n",
              "      <td>...</td>\n",
              "      <td>...</td>\n",
              "      <td>...</td>\n",
              "      <td>...</td>\n",
              "    </tr>\n",
              "    <tr>\n",
              "      <th>1115</th>\n",
              "      <td>A11345</td>\n",
              "      <td>FEMALE</td>\n",
              "      <td>57</td>\n",
              "      <td>A</td>\n",
              "      <td>3.0</td>\n",
              "      <td>1957.0</td>\n",
              "      <td>1</td>\n",
              "      <td>1.0</td>\n",
              "      <td>12</td>\n",
              "      <td>3</td>\n",
              "      <td>...</td>\n",
              "      <td>Yes</td>\n",
              "      <td>2.0</td>\n",
              "      <td>1</td>\n",
              "      <td>2.0</td>\n",
              "      <td>2</td>\n",
              "      <td>2</td>\n",
              "      <td>1.0</td>\n",
              "      <td>1</td>\n",
              "      <td>1</td>\n",
              "      <td>NO</td>\n",
              "    </tr>\n",
              "    <tr>\n",
              "      <th>1116</th>\n",
              "      <td>A11346</td>\n",
              "      <td>FEMALE</td>\n",
              "      <td>51</td>\n",
              "      <td>A</td>\n",
              "      <td>2.0</td>\n",
              "      <td>1963.0</td>\n",
              "      <td>1</td>\n",
              "      <td>0.0</td>\n",
              "      <td>11</td>\n",
              "      <td>2</td>\n",
              "      <td>...</td>\n",
              "      <td>No</td>\n",
              "      <td>1.0</td>\n",
              "      <td>1</td>\n",
              "      <td>1.0</td>\n",
              "      <td>1</td>\n",
              "      <td>1</td>\n",
              "      <td>2.0</td>\n",
              "      <td>1</td>\n",
              "      <td>2</td>\n",
              "      <td>NO</td>\n",
              "    </tr>\n",
              "    <tr>\n",
              "      <th>1117</th>\n",
              "      <td>A11347</td>\n",
              "      <td>FEMALE</td>\n",
              "      <td>65</td>\n",
              "      <td>A</td>\n",
              "      <td>1.0</td>\n",
              "      <td>1949.0</td>\n",
              "      <td>1</td>\n",
              "      <td>2.0</td>\n",
              "      <td>7</td>\n",
              "      <td>1</td>\n",
              "      <td>...</td>\n",
              "      <td>Yes</td>\n",
              "      <td>2.0</td>\n",
              "      <td>1</td>\n",
              "      <td>2.0</td>\n",
              "      <td>1</td>\n",
              "      <td>2</td>\n",
              "      <td>1.0</td>\n",
              "      <td>1</td>\n",
              "      <td>1</td>\n",
              "      <td>NO</td>\n",
              "    </tr>\n",
              "    <tr>\n",
              "      <th>1118</th>\n",
              "      <td>A11348</td>\n",
              "      <td>FEMALE</td>\n",
              "      <td>57</td>\n",
              "      <td>A</td>\n",
              "      <td>2.0</td>\n",
              "      <td>1957.0</td>\n",
              "      <td>1</td>\n",
              "      <td>5.0</td>\n",
              "      <td>1</td>\n",
              "      <td>1</td>\n",
              "      <td>...</td>\n",
              "      <td>Yes</td>\n",
              "      <td>2.0</td>\n",
              "      <td>1</td>\n",
              "      <td>2.0</td>\n",
              "      <td>1</td>\n",
              "      <td>2</td>\n",
              "      <td>1.0</td>\n",
              "      <td>1</td>\n",
              "      <td>1</td>\n",
              "      <td>NO</td>\n",
              "    </tr>\n",
              "    <tr>\n",
              "      <th>1119</th>\n",
              "      <td>A11349</td>\n",
              "      <td>FEMALE</td>\n",
              "      <td>20</td>\n",
              "      <td>A</td>\n",
              "      <td>1.0</td>\n",
              "      <td>1994.0</td>\n",
              "      <td>1</td>\n",
              "      <td>1.0</td>\n",
              "      <td>7</td>\n",
              "      <td>1</td>\n",
              "      <td>...</td>\n",
              "      <td>No</td>\n",
              "      <td>1.0</td>\n",
              "      <td>1</td>\n",
              "      <td>1.0</td>\n",
              "      <td>1</td>\n",
              "      <td>1</td>\n",
              "      <td>1.0</td>\n",
              "      <td>1</td>\n",
              "      <td>2</td>\n",
              "      <td>NO</td>\n",
              "    </tr>\n",
              "  </tbody>\n",
              "</table>\n",
              "<p>1120 rows × 26 columns</p>\n",
              "</div>\n",
              "    <div class=\"colab-df-buttons\">\n",
              "\n",
              "  <div class=\"colab-df-container\">\n",
              "    <button class=\"colab-df-convert\" onclick=\"convertToInteractive('df-3ffcce90-0641-4ead-859a-7ae8c5f35224')\"\n",
              "            title=\"Convert this dataframe to an interactive table.\"\n",
              "            style=\"display:none;\">\n",
              "\n",
              "  <svg xmlns=\"http://www.w3.org/2000/svg\" height=\"24px\" viewBox=\"0 -960 960 960\">\n",
              "    <path d=\"M120-120v-720h720v720H120Zm60-500h600v-160H180v160Zm220 220h160v-160H400v160Zm0 220h160v-160H400v160ZM180-400h160v-160H180v160Zm440 0h160v-160H620v160ZM180-180h160v-160H180v160Zm440 0h160v-160H620v160Z\"/>\n",
              "  </svg>\n",
              "    </button>\n",
              "\n",
              "  <style>\n",
              "    .colab-df-container {\n",
              "      display:flex;\n",
              "      gap: 12px;\n",
              "    }\n",
              "\n",
              "    .colab-df-convert {\n",
              "      background-color: #E8F0FE;\n",
              "      border: none;\n",
              "      border-radius: 50%;\n",
              "      cursor: pointer;\n",
              "      display: none;\n",
              "      fill: #1967D2;\n",
              "      height: 32px;\n",
              "      padding: 0 0 0 0;\n",
              "      width: 32px;\n",
              "    }\n",
              "\n",
              "    .colab-df-convert:hover {\n",
              "      background-color: #E2EBFA;\n",
              "      box-shadow: 0px 1px 2px rgba(60, 64, 67, 0.3), 0px 1px 3px 1px rgba(60, 64, 67, 0.15);\n",
              "      fill: #174EA6;\n",
              "    }\n",
              "\n",
              "    .colab-df-buttons div {\n",
              "      margin-bottom: 4px;\n",
              "    }\n",
              "\n",
              "    [theme=dark] .colab-df-convert {\n",
              "      background-color: #3B4455;\n",
              "      fill: #D2E3FC;\n",
              "    }\n",
              "\n",
              "    [theme=dark] .colab-df-convert:hover {\n",
              "      background-color: #434B5C;\n",
              "      box-shadow: 0px 1px 3px 1px rgba(0, 0, 0, 0.15);\n",
              "      filter: drop-shadow(0px 1px 2px rgba(0, 0, 0, 0.3));\n",
              "      fill: #FFFFFF;\n",
              "    }\n",
              "  </style>\n",
              "\n",
              "    <script>\n",
              "      const buttonEl =\n",
              "        document.querySelector('#df-3ffcce90-0641-4ead-859a-7ae8c5f35224 button.colab-df-convert');\n",
              "      buttonEl.style.display =\n",
              "        google.colab.kernel.accessAllowed ? 'block' : 'none';\n",
              "\n",
              "      async function convertToInteractive(key) {\n",
              "        const element = document.querySelector('#df-3ffcce90-0641-4ead-859a-7ae8c5f35224');\n",
              "        const dataTable =\n",
              "          await google.colab.kernel.invokeFunction('convertToInteractive',\n",
              "                                                    [key], {});\n",
              "        if (!dataTable) return;\n",
              "\n",
              "        const docLinkHtml = 'Like what you see? Visit the ' +\n",
              "          '<a target=\"_blank\" href=https://colab.research.google.com/notebooks/data_table.ipynb>data table notebook</a>'\n",
              "          + ' to learn more about interactive tables.';\n",
              "        element.innerHTML = '';\n",
              "        dataTable['output_type'] = 'display_data';\n",
              "        await google.colab.output.renderOutput(dataTable, element);\n",
              "        const docLink = document.createElement('div');\n",
              "        docLink.innerHTML = docLinkHtml;\n",
              "        element.appendChild(docLink);\n",
              "      }\n",
              "    </script>\n",
              "  </div>\n",
              "\n",
              "\n",
              "<div id=\"df-82067397-bdc9-459b-ac91-00cb290d52a4\">\n",
              "  <button class=\"colab-df-quickchart\" onclick=\"quickchart('df-82067397-bdc9-459b-ac91-00cb290d52a4')\"\n",
              "            title=\"Suggest charts\"\n",
              "            style=\"display:none;\">\n",
              "\n",
              "<svg xmlns=\"http://www.w3.org/2000/svg\" height=\"24px\"viewBox=\"0 0 24 24\"\n",
              "     width=\"24px\">\n",
              "    <g>\n",
              "        <path d=\"M19 3H5c-1.1 0-2 .9-2 2v14c0 1.1.9 2 2 2h14c1.1 0 2-.9 2-2V5c0-1.1-.9-2-2-2zM9 17H7v-7h2v7zm4 0h-2V7h2v10zm4 0h-2v-4h2v4z\"/>\n",
              "    </g>\n",
              "</svg>\n",
              "  </button>\n",
              "\n",
              "<style>\n",
              "  .colab-df-quickchart {\n",
              "      --bg-color: #E8F0FE;\n",
              "      --fill-color: #1967D2;\n",
              "      --hover-bg-color: #E2EBFA;\n",
              "      --hover-fill-color: #174EA6;\n",
              "      --disabled-fill-color: #AAA;\n",
              "      --disabled-bg-color: #DDD;\n",
              "  }\n",
              "\n",
              "  [theme=dark] .colab-df-quickchart {\n",
              "      --bg-color: #3B4455;\n",
              "      --fill-color: #D2E3FC;\n",
              "      --hover-bg-color: #434B5C;\n",
              "      --hover-fill-color: #FFFFFF;\n",
              "      --disabled-bg-color: #3B4455;\n",
              "      --disabled-fill-color: #666;\n",
              "  }\n",
              "\n",
              "  .colab-df-quickchart {\n",
              "    background-color: var(--bg-color);\n",
              "    border: none;\n",
              "    border-radius: 50%;\n",
              "    cursor: pointer;\n",
              "    display: none;\n",
              "    fill: var(--fill-color);\n",
              "    height: 32px;\n",
              "    padding: 0;\n",
              "    width: 32px;\n",
              "  }\n",
              "\n",
              "  .colab-df-quickchart:hover {\n",
              "    background-color: var(--hover-bg-color);\n",
              "    box-shadow: 0 1px 2px rgba(60, 64, 67, 0.3), 0 1px 3px 1px rgba(60, 64, 67, 0.15);\n",
              "    fill: var(--button-hover-fill-color);\n",
              "  }\n",
              "\n",
              "  .colab-df-quickchart-complete:disabled,\n",
              "  .colab-df-quickchart-complete:disabled:hover {\n",
              "    background-color: var(--disabled-bg-color);\n",
              "    fill: var(--disabled-fill-color);\n",
              "    box-shadow: none;\n",
              "  }\n",
              "\n",
              "  .colab-df-spinner {\n",
              "    border: 2px solid var(--fill-color);\n",
              "    border-color: transparent;\n",
              "    border-bottom-color: var(--fill-color);\n",
              "    animation:\n",
              "      spin 1s steps(1) infinite;\n",
              "  }\n",
              "\n",
              "  @keyframes spin {\n",
              "    0% {\n",
              "      border-color: transparent;\n",
              "      border-bottom-color: var(--fill-color);\n",
              "      border-left-color: var(--fill-color);\n",
              "    }\n",
              "    20% {\n",
              "      border-color: transparent;\n",
              "      border-left-color: var(--fill-color);\n",
              "      border-top-color: var(--fill-color);\n",
              "    }\n",
              "    30% {\n",
              "      border-color: transparent;\n",
              "      border-left-color: var(--fill-color);\n",
              "      border-top-color: var(--fill-color);\n",
              "      border-right-color: var(--fill-color);\n",
              "    }\n",
              "    40% {\n",
              "      border-color: transparent;\n",
              "      border-right-color: var(--fill-color);\n",
              "      border-top-color: var(--fill-color);\n",
              "    }\n",
              "    60% {\n",
              "      border-color: transparent;\n",
              "      border-right-color: var(--fill-color);\n",
              "    }\n",
              "    80% {\n",
              "      border-color: transparent;\n",
              "      border-right-color: var(--fill-color);\n",
              "      border-bottom-color: var(--fill-color);\n",
              "    }\n",
              "    90% {\n",
              "      border-color: transparent;\n",
              "      border-bottom-color: var(--fill-color);\n",
              "    }\n",
              "  }\n",
              "</style>\n",
              "\n",
              "  <script>\n",
              "    async function quickchart(key) {\n",
              "      const quickchartButtonEl =\n",
              "        document.querySelector('#' + key + ' button');\n",
              "      quickchartButtonEl.disabled = true;  // To prevent multiple clicks.\n",
              "      quickchartButtonEl.classList.add('colab-df-spinner');\n",
              "      try {\n",
              "        const charts = await google.colab.kernel.invokeFunction(\n",
              "            'suggestCharts', [key], {});\n",
              "      } catch (error) {\n",
              "        console.error('Error during call to suggestCharts:', error);\n",
              "      }\n",
              "      quickchartButtonEl.classList.remove('colab-df-spinner');\n",
              "      quickchartButtonEl.classList.add('colab-df-quickchart-complete');\n",
              "    }\n",
              "    (() => {\n",
              "      let quickchartButtonEl =\n",
              "        document.querySelector('#df-82067397-bdc9-459b-ac91-00cb290d52a4 button');\n",
              "      quickchartButtonEl.style.display =\n",
              "        google.colab.kernel.accessAllowed ? 'block' : 'none';\n",
              "    })();\n",
              "  </script>\n",
              "</div>\n",
              "\n",
              "  <div id=\"id_9dfaebf9-e3da-403c-b637-e12459b35a2e\">\n",
              "    <style>\n",
              "      .colab-df-generate {\n",
              "        background-color: #E8F0FE;\n",
              "        border: none;\n",
              "        border-radius: 50%;\n",
              "        cursor: pointer;\n",
              "        display: none;\n",
              "        fill: #1967D2;\n",
              "        height: 32px;\n",
              "        padding: 0 0 0 0;\n",
              "        width: 32px;\n",
              "      }\n",
              "\n",
              "      .colab-df-generate:hover {\n",
              "        background-color: #E2EBFA;\n",
              "        box-shadow: 0px 1px 2px rgba(60, 64, 67, 0.3), 0px 1px 3px 1px rgba(60, 64, 67, 0.15);\n",
              "        fill: #174EA6;\n",
              "      }\n",
              "\n",
              "      [theme=dark] .colab-df-generate {\n",
              "        background-color: #3B4455;\n",
              "        fill: #D2E3FC;\n",
              "      }\n",
              "\n",
              "      [theme=dark] .colab-df-generate:hover {\n",
              "        background-color: #434B5C;\n",
              "        box-shadow: 0px 1px 3px 1px rgba(0, 0, 0, 0.15);\n",
              "        filter: drop-shadow(0px 1px 2px rgba(0, 0, 0, 0.3));\n",
              "        fill: #FFFFFF;\n",
              "      }\n",
              "    </style>\n",
              "    <button class=\"colab-df-generate\" onclick=\"generateWithVariable('df')\"\n",
              "            title=\"Generate code using this dataframe.\"\n",
              "            style=\"display:none;\">\n",
              "\n",
              "  <svg xmlns=\"http://www.w3.org/2000/svg\" height=\"24px\"viewBox=\"0 0 24 24\"\n",
              "       width=\"24px\">\n",
              "    <path d=\"M7,19H8.4L18.45,9,17,7.55,7,17.6ZM5,21V16.75L18.45,3.32a2,2,0,0,1,2.83,0l1.4,1.43a1.91,1.91,0,0,1,.58,1.4,1.91,1.91,0,0,1-.58,1.4L9.25,21ZM18.45,9,17,7.55Zm-12,3A5.31,5.31,0,0,0,4.9,8.1,5.31,5.31,0,0,0,1,6.5,5.31,5.31,0,0,0,4.9,4.9,5.31,5.31,0,0,0,6.5,1,5.31,5.31,0,0,0,8.1,4.9,5.31,5.31,0,0,0,12,6.5,5.46,5.46,0,0,0,6.5,12Z\"/>\n",
              "  </svg>\n",
              "    </button>\n",
              "    <script>\n",
              "      (() => {\n",
              "      const buttonEl =\n",
              "        document.querySelector('#id_9dfaebf9-e3da-403c-b637-e12459b35a2e button.colab-df-generate');\n",
              "      buttonEl.style.display =\n",
              "        google.colab.kernel.accessAllowed ? 'block' : 'none';\n",
              "\n",
              "      buttonEl.onclick = () => {\n",
              "        google.colab.notebook.generateWithVariable('df');\n",
              "      }\n",
              "      })();\n",
              "    </script>\n",
              "  </div>\n",
              "\n",
              "    </div>\n",
              "  </div>\n"
            ],
            "application/vnd.google.colaboratory.intrinsic+json": {
              "type": "dataframe",
              "variable_name": "df"
            }
          },
          "metadata": {},
          "execution_count": 3
        }
      ]
    },
    {
      "cell_type": "code",
      "source": [
        "df.columns"
      ],
      "metadata": {
        "colab": {
          "base_uri": "https://localhost:8080/"
        },
        "id": "aiIGQJ2QSVXu",
        "outputId": "a62d0b14-63f9-460a-ee27-169829881d0f"
      },
      "execution_count": null,
      "outputs": [
        {
          "output_type": "execute_result",
          "data": {
            "text/plain": [
              "Index(['PATIENT_ID', 'GENOMIC SEX', 'AGE', 'BLOOD_TYPE', 'NUMBER_OF_SIBLINGS',\n",
              "       'YEAR_OF_BIRTH', 'ADOPTED_STATUS', 'NUMBER_OF_PREGNANCIES',\n",
              "       'MONTH_OF_BIRTH', 'PARENT_ALIVE', 'SMOKING_STATUS', 'DAILY_CIGARETTES',\n",
              "       'YELLOW_SKIN', 'ANXIETY', 'PEER_PRESSURE', 'COPD_DIAGNOSES',\n",
              "       'Constant_Exhaustion', 'FATIGUE ', 'ALLERGY ', 'WHEEZING',\n",
              "       'ALCOHOL_CONSUMPTION', 'COUGHING', 'SHORTNESS_OF_BREATH',\n",
              "       'SWALLOWING_DIFFICULTY', 'CHEST_PAIN', 'LUNG_CANCER'],\n",
              "      dtype='object')"
            ]
          },
          "metadata": {},
          "execution_count": 4
        }
      ]
    },
    {
      "cell_type": "code",
      "source": [
        "df.shape"
      ],
      "metadata": {
        "colab": {
          "base_uri": "https://localhost:8080/"
        },
        "id": "azm3b2GSSbLK",
        "outputId": "233281f0-14ed-445a-d632-68640bb6f177"
      },
      "execution_count": null,
      "outputs": [
        {
          "output_type": "execute_result",
          "data": {
            "text/plain": [
              "(1120, 26)"
            ]
          },
          "metadata": {},
          "execution_count": 5
        }
      ]
    },
    {
      "cell_type": "code",
      "execution_count": null,
      "metadata": {
        "id": "5XSJ1aeKR8uJ"
      },
      "outputs": [],
      "source": [
        "df=df.drop(columns=['PATIENT_ID','YEAR_OF_BIRTH', 'BLOOD_TYPE', 'NUMBER_OF_SIBLINGS', 'MONTH_OF_BIRTH', 'ADOPTED_STATUS', 'PARENT_ALIVE', 'PEER_PRESSURE', 'ALLERGY ', 'Constant_Exhaustion'],axis=1)"
      ]
    },
    {
      "cell_type": "code",
      "source": [
        "df.describe()"
      ],
      "metadata": {
        "colab": {
          "base_uri": "https://localhost:8080/",
          "height": 320
        },
        "id": "59D7OGQvSvUs",
        "outputId": "adce7204-5f5a-425e-e50b-041bbb51474a"
      },
      "execution_count": null,
      "outputs": [
        {
          "output_type": "execute_result",
          "data": {
            "text/plain": [
              "       NUMBER_OF_PREGNANCIES  SMOKING_STATUS  YELLOW_SKIN      ANXIETY  \\\n",
              "count              546.00000     1120.000000  1120.000000  1120.000000   \n",
              "mean                 2.56044        1.550893     1.559821     1.491964   \n",
              "std                  1.71154        0.497625     0.496630     0.500159   \n",
              "min                  0.00000        1.000000     1.000000     1.000000   \n",
              "25%                  1.00000        1.000000     1.000000     1.000000   \n",
              "50%                  3.00000        2.000000     2.000000     1.000000   \n",
              "75%                  4.00000        2.000000     2.000000     2.000000   \n",
              "max                  5.00000        2.000000     2.000000     2.000000   \n",
              "\n",
              "       COPD_DIAGNOSES     FATIGUE      WHEEZING  ALCOHOL_CONSUMPTION  \\\n",
              "count     1102.000000  1115.000000  1110.000000          1120.000000   \n",
              "mean         1.503630     1.634978     1.544144             1.550893   \n",
              "std          0.500214     0.481652     0.498272             0.497625   \n",
              "min          1.000000     1.000000     1.000000             1.000000   \n",
              "25%          1.000000     1.000000     1.000000             1.000000   \n",
              "50%          2.000000     2.000000     2.000000             2.000000   \n",
              "75%          2.000000     2.000000     2.000000             2.000000   \n",
              "max          2.000000     2.000000     2.000000             2.000000   \n",
              "\n",
              "          COUGHING  SHORTNESS_OF_BREATH  SWALLOWING_DIFFICULTY   CHEST_PAIN  \n",
              "count  1120.000000          1116.000000            1120.000000  1120.000000  \n",
              "mean      1.567857             1.624552               1.475000     1.551786  \n",
              "std       0.495595             0.484455               0.499598     0.497533  \n",
              "min       1.000000             1.000000               1.000000     1.000000  \n",
              "25%       1.000000             1.000000               1.000000     1.000000  \n",
              "50%       2.000000             2.000000               1.000000     2.000000  \n",
              "75%       2.000000             2.000000               2.000000     2.000000  \n",
              "max       2.000000             2.000000               2.000000     2.000000  "
            ],
            "text/html": [
              "\n",
              "  <div id=\"df-e1a0ed0d-2e63-4b7a-9353-974f072d5be0\" class=\"colab-df-container\">\n",
              "    <div>\n",
              "<style scoped>\n",
              "    .dataframe tbody tr th:only-of-type {\n",
              "        vertical-align: middle;\n",
              "    }\n",
              "\n",
              "    .dataframe tbody tr th {\n",
              "        vertical-align: top;\n",
              "    }\n",
              "\n",
              "    .dataframe thead th {\n",
              "        text-align: right;\n",
              "    }\n",
              "</style>\n",
              "<table border=\"1\" class=\"dataframe\">\n",
              "  <thead>\n",
              "    <tr style=\"text-align: right;\">\n",
              "      <th></th>\n",
              "      <th>NUMBER_OF_PREGNANCIES</th>\n",
              "      <th>SMOKING_STATUS</th>\n",
              "      <th>YELLOW_SKIN</th>\n",
              "      <th>ANXIETY</th>\n",
              "      <th>COPD_DIAGNOSES</th>\n",
              "      <th>FATIGUE</th>\n",
              "      <th>WHEEZING</th>\n",
              "      <th>ALCOHOL_CONSUMPTION</th>\n",
              "      <th>COUGHING</th>\n",
              "      <th>SHORTNESS_OF_BREATH</th>\n",
              "      <th>SWALLOWING_DIFFICULTY</th>\n",
              "      <th>CHEST_PAIN</th>\n",
              "    </tr>\n",
              "  </thead>\n",
              "  <tbody>\n",
              "    <tr>\n",
              "      <th>count</th>\n",
              "      <td>546.00000</td>\n",
              "      <td>1120.000000</td>\n",
              "      <td>1120.000000</td>\n",
              "      <td>1120.000000</td>\n",
              "      <td>1102.000000</td>\n",
              "      <td>1115.000000</td>\n",
              "      <td>1110.000000</td>\n",
              "      <td>1120.000000</td>\n",
              "      <td>1120.000000</td>\n",
              "      <td>1116.000000</td>\n",
              "      <td>1120.000000</td>\n",
              "      <td>1120.000000</td>\n",
              "    </tr>\n",
              "    <tr>\n",
              "      <th>mean</th>\n",
              "      <td>2.56044</td>\n",
              "      <td>1.550893</td>\n",
              "      <td>1.559821</td>\n",
              "      <td>1.491964</td>\n",
              "      <td>1.503630</td>\n",
              "      <td>1.634978</td>\n",
              "      <td>1.544144</td>\n",
              "      <td>1.550893</td>\n",
              "      <td>1.567857</td>\n",
              "      <td>1.624552</td>\n",
              "      <td>1.475000</td>\n",
              "      <td>1.551786</td>\n",
              "    </tr>\n",
              "    <tr>\n",
              "      <th>std</th>\n",
              "      <td>1.71154</td>\n",
              "      <td>0.497625</td>\n",
              "      <td>0.496630</td>\n",
              "      <td>0.500159</td>\n",
              "      <td>0.500214</td>\n",
              "      <td>0.481652</td>\n",
              "      <td>0.498272</td>\n",
              "      <td>0.497625</td>\n",
              "      <td>0.495595</td>\n",
              "      <td>0.484455</td>\n",
              "      <td>0.499598</td>\n",
              "      <td>0.497533</td>\n",
              "    </tr>\n",
              "    <tr>\n",
              "      <th>min</th>\n",
              "      <td>0.00000</td>\n",
              "      <td>1.000000</td>\n",
              "      <td>1.000000</td>\n",
              "      <td>1.000000</td>\n",
              "      <td>1.000000</td>\n",
              "      <td>1.000000</td>\n",
              "      <td>1.000000</td>\n",
              "      <td>1.000000</td>\n",
              "      <td>1.000000</td>\n",
              "      <td>1.000000</td>\n",
              "      <td>1.000000</td>\n",
              "      <td>1.000000</td>\n",
              "    </tr>\n",
              "    <tr>\n",
              "      <th>25%</th>\n",
              "      <td>1.00000</td>\n",
              "      <td>1.000000</td>\n",
              "      <td>1.000000</td>\n",
              "      <td>1.000000</td>\n",
              "      <td>1.000000</td>\n",
              "      <td>1.000000</td>\n",
              "      <td>1.000000</td>\n",
              "      <td>1.000000</td>\n",
              "      <td>1.000000</td>\n",
              "      <td>1.000000</td>\n",
              "      <td>1.000000</td>\n",
              "      <td>1.000000</td>\n",
              "    </tr>\n",
              "    <tr>\n",
              "      <th>50%</th>\n",
              "      <td>3.00000</td>\n",
              "      <td>2.000000</td>\n",
              "      <td>2.000000</td>\n",
              "      <td>1.000000</td>\n",
              "      <td>2.000000</td>\n",
              "      <td>2.000000</td>\n",
              "      <td>2.000000</td>\n",
              "      <td>2.000000</td>\n",
              "      <td>2.000000</td>\n",
              "      <td>2.000000</td>\n",
              "      <td>1.000000</td>\n",
              "      <td>2.000000</td>\n",
              "    </tr>\n",
              "    <tr>\n",
              "      <th>75%</th>\n",
              "      <td>4.00000</td>\n",
              "      <td>2.000000</td>\n",
              "      <td>2.000000</td>\n",
              "      <td>2.000000</td>\n",
              "      <td>2.000000</td>\n",
              "      <td>2.000000</td>\n",
              "      <td>2.000000</td>\n",
              "      <td>2.000000</td>\n",
              "      <td>2.000000</td>\n",
              "      <td>2.000000</td>\n",
              "      <td>2.000000</td>\n",
              "      <td>2.000000</td>\n",
              "    </tr>\n",
              "    <tr>\n",
              "      <th>max</th>\n",
              "      <td>5.00000</td>\n",
              "      <td>2.000000</td>\n",
              "      <td>2.000000</td>\n",
              "      <td>2.000000</td>\n",
              "      <td>2.000000</td>\n",
              "      <td>2.000000</td>\n",
              "      <td>2.000000</td>\n",
              "      <td>2.000000</td>\n",
              "      <td>2.000000</td>\n",
              "      <td>2.000000</td>\n",
              "      <td>2.000000</td>\n",
              "      <td>2.000000</td>\n",
              "    </tr>\n",
              "  </tbody>\n",
              "</table>\n",
              "</div>\n",
              "    <div class=\"colab-df-buttons\">\n",
              "\n",
              "  <div class=\"colab-df-container\">\n",
              "    <button class=\"colab-df-convert\" onclick=\"convertToInteractive('df-e1a0ed0d-2e63-4b7a-9353-974f072d5be0')\"\n",
              "            title=\"Convert this dataframe to an interactive table.\"\n",
              "            style=\"display:none;\">\n",
              "\n",
              "  <svg xmlns=\"http://www.w3.org/2000/svg\" height=\"24px\" viewBox=\"0 -960 960 960\">\n",
              "    <path d=\"M120-120v-720h720v720H120Zm60-500h600v-160H180v160Zm220 220h160v-160H400v160Zm0 220h160v-160H400v160ZM180-400h160v-160H180v160Zm440 0h160v-160H620v160ZM180-180h160v-160H180v160Zm440 0h160v-160H620v160Z\"/>\n",
              "  </svg>\n",
              "    </button>\n",
              "\n",
              "  <style>\n",
              "    .colab-df-container {\n",
              "      display:flex;\n",
              "      gap: 12px;\n",
              "    }\n",
              "\n",
              "    .colab-df-convert {\n",
              "      background-color: #E8F0FE;\n",
              "      border: none;\n",
              "      border-radius: 50%;\n",
              "      cursor: pointer;\n",
              "      display: none;\n",
              "      fill: #1967D2;\n",
              "      height: 32px;\n",
              "      padding: 0 0 0 0;\n",
              "      width: 32px;\n",
              "    }\n",
              "\n",
              "    .colab-df-convert:hover {\n",
              "      background-color: #E2EBFA;\n",
              "      box-shadow: 0px 1px 2px rgba(60, 64, 67, 0.3), 0px 1px 3px 1px rgba(60, 64, 67, 0.15);\n",
              "      fill: #174EA6;\n",
              "    }\n",
              "\n",
              "    .colab-df-buttons div {\n",
              "      margin-bottom: 4px;\n",
              "    }\n",
              "\n",
              "    [theme=dark] .colab-df-convert {\n",
              "      background-color: #3B4455;\n",
              "      fill: #D2E3FC;\n",
              "    }\n",
              "\n",
              "    [theme=dark] .colab-df-convert:hover {\n",
              "      background-color: #434B5C;\n",
              "      box-shadow: 0px 1px 3px 1px rgba(0, 0, 0, 0.15);\n",
              "      filter: drop-shadow(0px 1px 2px rgba(0, 0, 0, 0.3));\n",
              "      fill: #FFFFFF;\n",
              "    }\n",
              "  </style>\n",
              "\n",
              "    <script>\n",
              "      const buttonEl =\n",
              "        document.querySelector('#df-e1a0ed0d-2e63-4b7a-9353-974f072d5be0 button.colab-df-convert');\n",
              "      buttonEl.style.display =\n",
              "        google.colab.kernel.accessAllowed ? 'block' : 'none';\n",
              "\n",
              "      async function convertToInteractive(key) {\n",
              "        const element = document.querySelector('#df-e1a0ed0d-2e63-4b7a-9353-974f072d5be0');\n",
              "        const dataTable =\n",
              "          await google.colab.kernel.invokeFunction('convertToInteractive',\n",
              "                                                    [key], {});\n",
              "        if (!dataTable) return;\n",
              "\n",
              "        const docLinkHtml = 'Like what you see? Visit the ' +\n",
              "          '<a target=\"_blank\" href=https://colab.research.google.com/notebooks/data_table.ipynb>data table notebook</a>'\n",
              "          + ' to learn more about interactive tables.';\n",
              "        element.innerHTML = '';\n",
              "        dataTable['output_type'] = 'display_data';\n",
              "        await google.colab.output.renderOutput(dataTable, element);\n",
              "        const docLink = document.createElement('div');\n",
              "        docLink.innerHTML = docLinkHtml;\n",
              "        element.appendChild(docLink);\n",
              "      }\n",
              "    </script>\n",
              "  </div>\n",
              "\n",
              "\n",
              "<div id=\"df-94b9748c-f7ca-4d8e-9253-d18af3162ca5\">\n",
              "  <button class=\"colab-df-quickchart\" onclick=\"quickchart('df-94b9748c-f7ca-4d8e-9253-d18af3162ca5')\"\n",
              "            title=\"Suggest charts\"\n",
              "            style=\"display:none;\">\n",
              "\n",
              "<svg xmlns=\"http://www.w3.org/2000/svg\" height=\"24px\"viewBox=\"0 0 24 24\"\n",
              "     width=\"24px\">\n",
              "    <g>\n",
              "        <path d=\"M19 3H5c-1.1 0-2 .9-2 2v14c0 1.1.9 2 2 2h14c1.1 0 2-.9 2-2V5c0-1.1-.9-2-2-2zM9 17H7v-7h2v7zm4 0h-2V7h2v10zm4 0h-2v-4h2v4z\"/>\n",
              "    </g>\n",
              "</svg>\n",
              "  </button>\n",
              "\n",
              "<style>\n",
              "  .colab-df-quickchart {\n",
              "      --bg-color: #E8F0FE;\n",
              "      --fill-color: #1967D2;\n",
              "      --hover-bg-color: #E2EBFA;\n",
              "      --hover-fill-color: #174EA6;\n",
              "      --disabled-fill-color: #AAA;\n",
              "      --disabled-bg-color: #DDD;\n",
              "  }\n",
              "\n",
              "  [theme=dark] .colab-df-quickchart {\n",
              "      --bg-color: #3B4455;\n",
              "      --fill-color: #D2E3FC;\n",
              "      --hover-bg-color: #434B5C;\n",
              "      --hover-fill-color: #FFFFFF;\n",
              "      --disabled-bg-color: #3B4455;\n",
              "      --disabled-fill-color: #666;\n",
              "  }\n",
              "\n",
              "  .colab-df-quickchart {\n",
              "    background-color: var(--bg-color);\n",
              "    border: none;\n",
              "    border-radius: 50%;\n",
              "    cursor: pointer;\n",
              "    display: none;\n",
              "    fill: var(--fill-color);\n",
              "    height: 32px;\n",
              "    padding: 0;\n",
              "    width: 32px;\n",
              "  }\n",
              "\n",
              "  .colab-df-quickchart:hover {\n",
              "    background-color: var(--hover-bg-color);\n",
              "    box-shadow: 0 1px 2px rgba(60, 64, 67, 0.3), 0 1px 3px 1px rgba(60, 64, 67, 0.15);\n",
              "    fill: var(--button-hover-fill-color);\n",
              "  }\n",
              "\n",
              "  .colab-df-quickchart-complete:disabled,\n",
              "  .colab-df-quickchart-complete:disabled:hover {\n",
              "    background-color: var(--disabled-bg-color);\n",
              "    fill: var(--disabled-fill-color);\n",
              "    box-shadow: none;\n",
              "  }\n",
              "\n",
              "  .colab-df-spinner {\n",
              "    border: 2px solid var(--fill-color);\n",
              "    border-color: transparent;\n",
              "    border-bottom-color: var(--fill-color);\n",
              "    animation:\n",
              "      spin 1s steps(1) infinite;\n",
              "  }\n",
              "\n",
              "  @keyframes spin {\n",
              "    0% {\n",
              "      border-color: transparent;\n",
              "      border-bottom-color: var(--fill-color);\n",
              "      border-left-color: var(--fill-color);\n",
              "    }\n",
              "    20% {\n",
              "      border-color: transparent;\n",
              "      border-left-color: var(--fill-color);\n",
              "      border-top-color: var(--fill-color);\n",
              "    }\n",
              "    30% {\n",
              "      border-color: transparent;\n",
              "      border-left-color: var(--fill-color);\n",
              "      border-top-color: var(--fill-color);\n",
              "      border-right-color: var(--fill-color);\n",
              "    }\n",
              "    40% {\n",
              "      border-color: transparent;\n",
              "      border-right-color: var(--fill-color);\n",
              "      border-top-color: var(--fill-color);\n",
              "    }\n",
              "    60% {\n",
              "      border-color: transparent;\n",
              "      border-right-color: var(--fill-color);\n",
              "    }\n",
              "    80% {\n",
              "      border-color: transparent;\n",
              "      border-right-color: var(--fill-color);\n",
              "      border-bottom-color: var(--fill-color);\n",
              "    }\n",
              "    90% {\n",
              "      border-color: transparent;\n",
              "      border-bottom-color: var(--fill-color);\n",
              "    }\n",
              "  }\n",
              "</style>\n",
              "\n",
              "  <script>\n",
              "    async function quickchart(key) {\n",
              "      const quickchartButtonEl =\n",
              "        document.querySelector('#' + key + ' button');\n",
              "      quickchartButtonEl.disabled = true;  // To prevent multiple clicks.\n",
              "      quickchartButtonEl.classList.add('colab-df-spinner');\n",
              "      try {\n",
              "        const charts = await google.colab.kernel.invokeFunction(\n",
              "            'suggestCharts', [key], {});\n",
              "      } catch (error) {\n",
              "        console.error('Error during call to suggestCharts:', error);\n",
              "      }\n",
              "      quickchartButtonEl.classList.remove('colab-df-spinner');\n",
              "      quickchartButtonEl.classList.add('colab-df-quickchart-complete');\n",
              "    }\n",
              "    (() => {\n",
              "      let quickchartButtonEl =\n",
              "        document.querySelector('#df-94b9748c-f7ca-4d8e-9253-d18af3162ca5 button');\n",
              "      quickchartButtonEl.style.display =\n",
              "        google.colab.kernel.accessAllowed ? 'block' : 'none';\n",
              "    })();\n",
              "  </script>\n",
              "</div>\n",
              "\n",
              "    </div>\n",
              "  </div>\n"
            ],
            "application/vnd.google.colaboratory.intrinsic+json": {
              "type": "dataframe",
              "summary": "{\n  \"name\": \"df\",\n  \"rows\": 8,\n  \"fields\": [\n    {\n      \"column\": \"NUMBER_OF_PREGNANCIES\",\n      \"properties\": {\n        \"dtype\": \"number\",\n        \"std\": 192.1744259416508,\n        \"min\": 0.0,\n        \"max\": 546.0,\n        \"num_unique_values\": 8,\n        \"samples\": [\n          2.5604395604395602,\n          3.0,\n          546.0\n        ],\n        \"semantic_type\": \"\",\n        \"description\": \"\"\n      }\n    },\n    {\n      \"column\": \"SMOKING_STATUS\",\n      \"properties\": {\n        \"dtype\": \"number\",\n        \"std\": 395.4726731040005,\n        \"min\": 0.49762537738087265,\n        \"max\": 1120.0,\n        \"num_unique_values\": 5,\n        \"samples\": [\n          1.550892857142857,\n          2.0,\n          0.49762537738087265\n        ],\n        \"semantic_type\": \"\",\n        \"description\": \"\"\n      }\n    },\n    {\n      \"column\": \"YELLOW_SKIN\",\n      \"properties\": {\n        \"dtype\": \"number\",\n        \"std\": 395.47227312686533,\n        \"min\": 0.4966302572427889,\n        \"max\": 1120.0,\n        \"num_unique_values\": 5,\n        \"samples\": [\n          1.5598214285714285,\n          2.0,\n          0.4966302572427889\n        ],\n        \"semantic_type\": \"\",\n        \"description\": \"\"\n      }\n    },\n    {\n      \"column\": \"ANXIETY\",\n      \"properties\": {\n        \"dtype\": \"number\",\n        \"std\": 395.52597429233884,\n        \"min\": 0.5001587581483333,\n        \"max\": 1120.0,\n        \"num_unique_values\": 5,\n        \"samples\": [\n          1.4919642857142856,\n          2.0,\n          0.5001587581483333\n        ],\n        \"semantic_type\": \"\",\n        \"description\": \"\"\n      }\n    },\n    {\n      \"column\": \"COPD_DIAGNOSES\",\n      \"properties\": {\n        \"dtype\": \"number\",\n        \"std\": 389.1109725284765,\n        \"min\": 0.5002138334248928,\n        \"max\": 1102.0,\n        \"num_unique_values\": 5,\n        \"samples\": [\n          1.5036297640653358,\n          2.0,\n          0.5002138334248928\n        ],\n        \"semantic_type\": \"\",\n        \"description\": \"\"\n      }\n    },\n    {\n      \"column\": \"FATIGUE \",\n      \"properties\": {\n        \"dtype\": \"number\",\n        \"std\": 393.7014779600363,\n        \"min\": 0.4816524839505624,\n        \"max\": 1115.0,\n        \"num_unique_values\": 5,\n        \"samples\": [\n          1.6349775784753364,\n          2.0,\n          0.4816524839505624\n        ],\n        \"semantic_type\": \"\",\n        \"description\": \"\"\n      }\n    },\n    {\n      \"column\": \"WHEEZING\",\n      \"properties\": {\n        \"dtype\": \"number\",\n        \"std\": 391.9374505338024,\n        \"min\": 0.49827197962361025,\n        \"max\": 1110.0,\n        \"num_unique_values\": 5,\n        \"samples\": [\n          1.5441441441441441,\n          2.0,\n          0.49827197962361025\n        ],\n        \"semantic_type\": \"\",\n        \"description\": \"\"\n      }\n    },\n    {\n      \"column\": \"ALCOHOL_CONSUMPTION\",\n      \"properties\": {\n        \"dtype\": \"number\",\n        \"std\": 395.4726731040005,\n        \"min\": 0.49762537738087265,\n        \"max\": 1120.0,\n        \"num_unique_values\": 5,\n        \"samples\": [\n          1.550892857142857,\n          2.0,\n          0.49762537738087265\n        ],\n        \"semantic_type\": \"\",\n        \"description\": \"\"\n      }\n    },\n    {\n      \"column\": \"COUGHING\",\n      \"properties\": {\n        \"dtype\": \"number\",\n        \"std\": 395.4719202549097,\n        \"min\": 0.49559530567672744,\n        \"max\": 1120.0,\n        \"num_unique_values\": 5,\n        \"samples\": [\n          1.5678571428571428,\n          2.0,\n          0.49559530567672744\n        ],\n        \"semantic_type\": \"\",\n        \"description\": \"\"\n      }\n    },\n    {\n      \"column\": \"SHORTNESS_OF_BREATH\",\n      \"properties\": {\n        \"dtype\": \"number\",\n        \"std\": 394.05541430188,\n        \"min\": 0.4844554762899488,\n        \"max\": 1116.0,\n        \"num_unique_values\": 5,\n        \"samples\": [\n          1.624551971326165,\n          2.0,\n          0.4844554762899488\n        ],\n        \"semantic_type\": \"\",\n        \"description\": \"\"\n      }\n    },\n    {\n      \"column\": \"SWALLOWING_DIFFICULTY\",\n      \"properties\": {\n        \"dtype\": \"number\",\n        \"std\": 395.5268583878687,\n        \"min\": 0.4995976933772633,\n        \"max\": 1120.0,\n        \"num_unique_values\": 5,\n        \"samples\": [\n          1.475,\n          2.0,\n          0.4995976933772633\n        ],\n        \"semantic_type\": \"\",\n        \"description\": \"\"\n      }\n    },\n    {\n      \"column\": \"CHEST_PAIN\",\n      \"properties\": {\n        \"dtype\": \"number\",\n        \"std\": 395.47263273361756,\n        \"min\": 0.4975331717480344,\n        \"max\": 1120.0,\n        \"num_unique_values\": 5,\n        \"samples\": [\n          1.5517857142857143,\n          2.0,\n          0.4975331717480344\n        ],\n        \"semantic_type\": \"\",\n        \"description\": \"\"\n      }\n    }\n  ]\n}"
            }
          },
          "metadata": {},
          "execution_count": 7
        }
      ]
    },
    {
      "cell_type": "code",
      "source": [
        "df.isnull().sum()"
      ],
      "metadata": {
        "colab": {
          "base_uri": "https://localhost:8080/"
        },
        "id": "Ju4qt4VrYvzU",
        "outputId": "47ae8539-f14d-4e72-a37a-f23046eddbe6"
      },
      "execution_count": null,
      "outputs": [
        {
          "output_type": "execute_result",
          "data": {
            "text/plain": [
              "GENOMIC SEX               19\n",
              "AGE                        3\n",
              "NUMBER_OF_PREGNANCIES    574\n",
              "SMOKING_STATUS             0\n",
              "DAILY_CIGARETTES         503\n",
              "YELLOW_SKIN                0\n",
              "ANXIETY                    0\n",
              "COPD_DIAGNOSES            18\n",
              "FATIGUE                    5\n",
              "WHEEZING                  10\n",
              "ALCOHOL_CONSUMPTION        0\n",
              "COUGHING                   0\n",
              "SHORTNESS_OF_BREATH        4\n",
              "SWALLOWING_DIFFICULTY      0\n",
              "CHEST_PAIN                 0\n",
              "LUNG_CANCER                3\n",
              "dtype: int64"
            ]
          },
          "metadata": {},
          "execution_count": 8
        }
      ]
    },
    {
      "cell_type": "markdown",
      "source": [
        "The number of missing values is much higher than optimal, so we will drop the number of pregnancies and daily cigarettes."
      ],
      "metadata": {
        "id": "vf_CmIHoWmEv"
      }
    },
    {
      "cell_type": "code",
      "source": [
        "df=df.drop(columns=['NUMBER_OF_PREGNANCIES'],axis=1)"
      ],
      "metadata": {
        "id": "oqLvikX5UxZz"
      },
      "execution_count": null,
      "outputs": []
    },
    {
      "cell_type": "code",
      "source": [
        "df.info()"
      ],
      "metadata": {
        "colab": {
          "base_uri": "https://localhost:8080/"
        },
        "id": "uXmCYdl3Yo6M",
        "outputId": "b9673baf-1a74-4f50-e727-0c5fb1faa414"
      },
      "execution_count": null,
      "outputs": [
        {
          "output_type": "stream",
          "name": "stdout",
          "text": [
            "<class 'pandas.core.frame.DataFrame'>\n",
            "RangeIndex: 1120 entries, 0 to 1119\n",
            "Data columns (total 15 columns):\n",
            " #   Column                 Non-Null Count  Dtype  \n",
            "---  ------                 --------------  -----  \n",
            " 0   GENOMIC SEX            1101 non-null   object \n",
            " 1   AGE                    1117 non-null   object \n",
            " 2   SMOKING_STATUS         1120 non-null   int64  \n",
            " 3   DAILY_CIGARETTES       617 non-null    object \n",
            " 4   YELLOW_SKIN            1120 non-null   int64  \n",
            " 5   ANXIETY                1120 non-null   int64  \n",
            " 6   COPD_DIAGNOSES         1102 non-null   float64\n",
            " 7   FATIGUE                1115 non-null   float64\n",
            " 8   WHEEZING               1110 non-null   float64\n",
            " 9   ALCOHOL_CONSUMPTION    1120 non-null   int64  \n",
            " 10  COUGHING               1120 non-null   int64  \n",
            " 11  SHORTNESS_OF_BREATH    1116 non-null   float64\n",
            " 12  SWALLOWING_DIFFICULTY  1120 non-null   int64  \n",
            " 13  CHEST_PAIN             1120 non-null   int64  \n",
            " 14  LUNG_CANCER            1117 non-null   object \n",
            "dtypes: float64(4), int64(7), object(4)\n",
            "memory usage: 131.4+ KB\n"
          ]
        }
      ]
    },
    {
      "cell_type": "code",
      "source": [
        "df.describe()"
      ],
      "metadata": {
        "id": "pG26rHGAYNpR",
        "colab": {
          "base_uri": "https://localhost:8080/",
          "height": 320
        },
        "outputId": "a9ebb5db-5474-4c5c-8d3e-87f381a7c9c4"
      },
      "execution_count": null,
      "outputs": [
        {
          "output_type": "execute_result",
          "data": {
            "text/plain": [
              "       SMOKING_STATUS  YELLOW_SKIN      ANXIETY  COPD_DIAGNOSES     FATIGUE   \\\n",
              "count     1120.000000  1120.000000  1120.000000     1102.000000  1115.000000   \n",
              "mean         1.550893     1.559821     1.491964        1.503630     1.634978   \n",
              "std          0.497625     0.496630     0.500159        0.500214     0.481652   \n",
              "min          1.000000     1.000000     1.000000        1.000000     1.000000   \n",
              "25%          1.000000     1.000000     1.000000        1.000000     1.000000   \n",
              "50%          2.000000     2.000000     1.000000        2.000000     2.000000   \n",
              "75%          2.000000     2.000000     2.000000        2.000000     2.000000   \n",
              "max          2.000000     2.000000     2.000000        2.000000     2.000000   \n",
              "\n",
              "          WHEEZING  ALCOHOL_CONSUMPTION     COUGHING  SHORTNESS_OF_BREATH  \\\n",
              "count  1110.000000          1120.000000  1120.000000          1116.000000   \n",
              "mean      1.544144             1.550893     1.567857             1.624552   \n",
              "std       0.498272             0.497625     0.495595             0.484455   \n",
              "min       1.000000             1.000000     1.000000             1.000000   \n",
              "25%       1.000000             1.000000     1.000000             1.000000   \n",
              "50%       2.000000             2.000000     2.000000             2.000000   \n",
              "75%       2.000000             2.000000     2.000000             2.000000   \n",
              "max       2.000000             2.000000     2.000000             2.000000   \n",
              "\n",
              "       SWALLOWING_DIFFICULTY   CHEST_PAIN  \n",
              "count            1120.000000  1120.000000  \n",
              "mean                1.475000     1.551786  \n",
              "std                 0.499598     0.497533  \n",
              "min                 1.000000     1.000000  \n",
              "25%                 1.000000     1.000000  \n",
              "50%                 1.000000     2.000000  \n",
              "75%                 2.000000     2.000000  \n",
              "max                 2.000000     2.000000  "
            ],
            "text/html": [
              "\n",
              "  <div id=\"df-e9d29371-dd82-4cfa-9949-dd6b1d42b1b7\" class=\"colab-df-container\">\n",
              "    <div>\n",
              "<style scoped>\n",
              "    .dataframe tbody tr th:only-of-type {\n",
              "        vertical-align: middle;\n",
              "    }\n",
              "\n",
              "    .dataframe tbody tr th {\n",
              "        vertical-align: top;\n",
              "    }\n",
              "\n",
              "    .dataframe thead th {\n",
              "        text-align: right;\n",
              "    }\n",
              "</style>\n",
              "<table border=\"1\" class=\"dataframe\">\n",
              "  <thead>\n",
              "    <tr style=\"text-align: right;\">\n",
              "      <th></th>\n",
              "      <th>SMOKING_STATUS</th>\n",
              "      <th>YELLOW_SKIN</th>\n",
              "      <th>ANXIETY</th>\n",
              "      <th>COPD_DIAGNOSES</th>\n",
              "      <th>FATIGUE</th>\n",
              "      <th>WHEEZING</th>\n",
              "      <th>ALCOHOL_CONSUMPTION</th>\n",
              "      <th>COUGHING</th>\n",
              "      <th>SHORTNESS_OF_BREATH</th>\n",
              "      <th>SWALLOWING_DIFFICULTY</th>\n",
              "      <th>CHEST_PAIN</th>\n",
              "    </tr>\n",
              "  </thead>\n",
              "  <tbody>\n",
              "    <tr>\n",
              "      <th>count</th>\n",
              "      <td>1120.000000</td>\n",
              "      <td>1120.000000</td>\n",
              "      <td>1120.000000</td>\n",
              "      <td>1102.000000</td>\n",
              "      <td>1115.000000</td>\n",
              "      <td>1110.000000</td>\n",
              "      <td>1120.000000</td>\n",
              "      <td>1120.000000</td>\n",
              "      <td>1116.000000</td>\n",
              "      <td>1120.000000</td>\n",
              "      <td>1120.000000</td>\n",
              "    </tr>\n",
              "    <tr>\n",
              "      <th>mean</th>\n",
              "      <td>1.550893</td>\n",
              "      <td>1.559821</td>\n",
              "      <td>1.491964</td>\n",
              "      <td>1.503630</td>\n",
              "      <td>1.634978</td>\n",
              "      <td>1.544144</td>\n",
              "      <td>1.550893</td>\n",
              "      <td>1.567857</td>\n",
              "      <td>1.624552</td>\n",
              "      <td>1.475000</td>\n",
              "      <td>1.551786</td>\n",
              "    </tr>\n",
              "    <tr>\n",
              "      <th>std</th>\n",
              "      <td>0.497625</td>\n",
              "      <td>0.496630</td>\n",
              "      <td>0.500159</td>\n",
              "      <td>0.500214</td>\n",
              "      <td>0.481652</td>\n",
              "      <td>0.498272</td>\n",
              "      <td>0.497625</td>\n",
              "      <td>0.495595</td>\n",
              "      <td>0.484455</td>\n",
              "      <td>0.499598</td>\n",
              "      <td>0.497533</td>\n",
              "    </tr>\n",
              "    <tr>\n",
              "      <th>min</th>\n",
              "      <td>1.000000</td>\n",
              "      <td>1.000000</td>\n",
              "      <td>1.000000</td>\n",
              "      <td>1.000000</td>\n",
              "      <td>1.000000</td>\n",
              "      <td>1.000000</td>\n",
              "      <td>1.000000</td>\n",
              "      <td>1.000000</td>\n",
              "      <td>1.000000</td>\n",
              "      <td>1.000000</td>\n",
              "      <td>1.000000</td>\n",
              "    </tr>\n",
              "    <tr>\n",
              "      <th>25%</th>\n",
              "      <td>1.000000</td>\n",
              "      <td>1.000000</td>\n",
              "      <td>1.000000</td>\n",
              "      <td>1.000000</td>\n",
              "      <td>1.000000</td>\n",
              "      <td>1.000000</td>\n",
              "      <td>1.000000</td>\n",
              "      <td>1.000000</td>\n",
              "      <td>1.000000</td>\n",
              "      <td>1.000000</td>\n",
              "      <td>1.000000</td>\n",
              "    </tr>\n",
              "    <tr>\n",
              "      <th>50%</th>\n",
              "      <td>2.000000</td>\n",
              "      <td>2.000000</td>\n",
              "      <td>1.000000</td>\n",
              "      <td>2.000000</td>\n",
              "      <td>2.000000</td>\n",
              "      <td>2.000000</td>\n",
              "      <td>2.000000</td>\n",
              "      <td>2.000000</td>\n",
              "      <td>2.000000</td>\n",
              "      <td>1.000000</td>\n",
              "      <td>2.000000</td>\n",
              "    </tr>\n",
              "    <tr>\n",
              "      <th>75%</th>\n",
              "      <td>2.000000</td>\n",
              "      <td>2.000000</td>\n",
              "      <td>2.000000</td>\n",
              "      <td>2.000000</td>\n",
              "      <td>2.000000</td>\n",
              "      <td>2.000000</td>\n",
              "      <td>2.000000</td>\n",
              "      <td>2.000000</td>\n",
              "      <td>2.000000</td>\n",
              "      <td>2.000000</td>\n",
              "      <td>2.000000</td>\n",
              "    </tr>\n",
              "    <tr>\n",
              "      <th>max</th>\n",
              "      <td>2.000000</td>\n",
              "      <td>2.000000</td>\n",
              "      <td>2.000000</td>\n",
              "      <td>2.000000</td>\n",
              "      <td>2.000000</td>\n",
              "      <td>2.000000</td>\n",
              "      <td>2.000000</td>\n",
              "      <td>2.000000</td>\n",
              "      <td>2.000000</td>\n",
              "      <td>2.000000</td>\n",
              "      <td>2.000000</td>\n",
              "    </tr>\n",
              "  </tbody>\n",
              "</table>\n",
              "</div>\n",
              "    <div class=\"colab-df-buttons\">\n",
              "\n",
              "  <div class=\"colab-df-container\">\n",
              "    <button class=\"colab-df-convert\" onclick=\"convertToInteractive('df-e9d29371-dd82-4cfa-9949-dd6b1d42b1b7')\"\n",
              "            title=\"Convert this dataframe to an interactive table.\"\n",
              "            style=\"display:none;\">\n",
              "\n",
              "  <svg xmlns=\"http://www.w3.org/2000/svg\" height=\"24px\" viewBox=\"0 -960 960 960\">\n",
              "    <path d=\"M120-120v-720h720v720H120Zm60-500h600v-160H180v160Zm220 220h160v-160H400v160Zm0 220h160v-160H400v160ZM180-400h160v-160H180v160Zm440 0h160v-160H620v160ZM180-180h160v-160H180v160Zm440 0h160v-160H620v160Z\"/>\n",
              "  </svg>\n",
              "    </button>\n",
              "\n",
              "  <style>\n",
              "    .colab-df-container {\n",
              "      display:flex;\n",
              "      gap: 12px;\n",
              "    }\n",
              "\n",
              "    .colab-df-convert {\n",
              "      background-color: #E8F0FE;\n",
              "      border: none;\n",
              "      border-radius: 50%;\n",
              "      cursor: pointer;\n",
              "      display: none;\n",
              "      fill: #1967D2;\n",
              "      height: 32px;\n",
              "      padding: 0 0 0 0;\n",
              "      width: 32px;\n",
              "    }\n",
              "\n",
              "    .colab-df-convert:hover {\n",
              "      background-color: #E2EBFA;\n",
              "      box-shadow: 0px 1px 2px rgba(60, 64, 67, 0.3), 0px 1px 3px 1px rgba(60, 64, 67, 0.15);\n",
              "      fill: #174EA6;\n",
              "    }\n",
              "\n",
              "    .colab-df-buttons div {\n",
              "      margin-bottom: 4px;\n",
              "    }\n",
              "\n",
              "    [theme=dark] .colab-df-convert {\n",
              "      background-color: #3B4455;\n",
              "      fill: #D2E3FC;\n",
              "    }\n",
              "\n",
              "    [theme=dark] .colab-df-convert:hover {\n",
              "      background-color: #434B5C;\n",
              "      box-shadow: 0px 1px 3px 1px rgba(0, 0, 0, 0.15);\n",
              "      filter: drop-shadow(0px 1px 2px rgba(0, 0, 0, 0.3));\n",
              "      fill: #FFFFFF;\n",
              "    }\n",
              "  </style>\n",
              "\n",
              "    <script>\n",
              "      const buttonEl =\n",
              "        document.querySelector('#df-e9d29371-dd82-4cfa-9949-dd6b1d42b1b7 button.colab-df-convert');\n",
              "      buttonEl.style.display =\n",
              "        google.colab.kernel.accessAllowed ? 'block' : 'none';\n",
              "\n",
              "      async function convertToInteractive(key) {\n",
              "        const element = document.querySelector('#df-e9d29371-dd82-4cfa-9949-dd6b1d42b1b7');\n",
              "        const dataTable =\n",
              "          await google.colab.kernel.invokeFunction('convertToInteractive',\n",
              "                                                    [key], {});\n",
              "        if (!dataTable) return;\n",
              "\n",
              "        const docLinkHtml = 'Like what you see? Visit the ' +\n",
              "          '<a target=\"_blank\" href=https://colab.research.google.com/notebooks/data_table.ipynb>data table notebook</a>'\n",
              "          + ' to learn more about interactive tables.';\n",
              "        element.innerHTML = '';\n",
              "        dataTable['output_type'] = 'display_data';\n",
              "        await google.colab.output.renderOutput(dataTable, element);\n",
              "        const docLink = document.createElement('div');\n",
              "        docLink.innerHTML = docLinkHtml;\n",
              "        element.appendChild(docLink);\n",
              "      }\n",
              "    </script>\n",
              "  </div>\n",
              "\n",
              "\n",
              "<div id=\"df-a0fd4246-49e9-4e91-afa5-014427c507e9\">\n",
              "  <button class=\"colab-df-quickchart\" onclick=\"quickchart('df-a0fd4246-49e9-4e91-afa5-014427c507e9')\"\n",
              "            title=\"Suggest charts\"\n",
              "            style=\"display:none;\">\n",
              "\n",
              "<svg xmlns=\"http://www.w3.org/2000/svg\" height=\"24px\"viewBox=\"0 0 24 24\"\n",
              "     width=\"24px\">\n",
              "    <g>\n",
              "        <path d=\"M19 3H5c-1.1 0-2 .9-2 2v14c0 1.1.9 2 2 2h14c1.1 0 2-.9 2-2V5c0-1.1-.9-2-2-2zM9 17H7v-7h2v7zm4 0h-2V7h2v10zm4 0h-2v-4h2v4z\"/>\n",
              "    </g>\n",
              "</svg>\n",
              "  </button>\n",
              "\n",
              "<style>\n",
              "  .colab-df-quickchart {\n",
              "      --bg-color: #E8F0FE;\n",
              "      --fill-color: #1967D2;\n",
              "      --hover-bg-color: #E2EBFA;\n",
              "      --hover-fill-color: #174EA6;\n",
              "      --disabled-fill-color: #AAA;\n",
              "      --disabled-bg-color: #DDD;\n",
              "  }\n",
              "\n",
              "  [theme=dark] .colab-df-quickchart {\n",
              "      --bg-color: #3B4455;\n",
              "      --fill-color: #D2E3FC;\n",
              "      --hover-bg-color: #434B5C;\n",
              "      --hover-fill-color: #FFFFFF;\n",
              "      --disabled-bg-color: #3B4455;\n",
              "      --disabled-fill-color: #666;\n",
              "  }\n",
              "\n",
              "  .colab-df-quickchart {\n",
              "    background-color: var(--bg-color);\n",
              "    border: none;\n",
              "    border-radius: 50%;\n",
              "    cursor: pointer;\n",
              "    display: none;\n",
              "    fill: var(--fill-color);\n",
              "    height: 32px;\n",
              "    padding: 0;\n",
              "    width: 32px;\n",
              "  }\n",
              "\n",
              "  .colab-df-quickchart:hover {\n",
              "    background-color: var(--hover-bg-color);\n",
              "    box-shadow: 0 1px 2px rgba(60, 64, 67, 0.3), 0 1px 3px 1px rgba(60, 64, 67, 0.15);\n",
              "    fill: var(--button-hover-fill-color);\n",
              "  }\n",
              "\n",
              "  .colab-df-quickchart-complete:disabled,\n",
              "  .colab-df-quickchart-complete:disabled:hover {\n",
              "    background-color: var(--disabled-bg-color);\n",
              "    fill: var(--disabled-fill-color);\n",
              "    box-shadow: none;\n",
              "  }\n",
              "\n",
              "  .colab-df-spinner {\n",
              "    border: 2px solid var(--fill-color);\n",
              "    border-color: transparent;\n",
              "    border-bottom-color: var(--fill-color);\n",
              "    animation:\n",
              "      spin 1s steps(1) infinite;\n",
              "  }\n",
              "\n",
              "  @keyframes spin {\n",
              "    0% {\n",
              "      border-color: transparent;\n",
              "      border-bottom-color: var(--fill-color);\n",
              "      border-left-color: var(--fill-color);\n",
              "    }\n",
              "    20% {\n",
              "      border-color: transparent;\n",
              "      border-left-color: var(--fill-color);\n",
              "      border-top-color: var(--fill-color);\n",
              "    }\n",
              "    30% {\n",
              "      border-color: transparent;\n",
              "      border-left-color: var(--fill-color);\n",
              "      border-top-color: var(--fill-color);\n",
              "      border-right-color: var(--fill-color);\n",
              "    }\n",
              "    40% {\n",
              "      border-color: transparent;\n",
              "      border-right-color: var(--fill-color);\n",
              "      border-top-color: var(--fill-color);\n",
              "    }\n",
              "    60% {\n",
              "      border-color: transparent;\n",
              "      border-right-color: var(--fill-color);\n",
              "    }\n",
              "    80% {\n",
              "      border-color: transparent;\n",
              "      border-right-color: var(--fill-color);\n",
              "      border-bottom-color: var(--fill-color);\n",
              "    }\n",
              "    90% {\n",
              "      border-color: transparent;\n",
              "      border-bottom-color: var(--fill-color);\n",
              "    }\n",
              "  }\n",
              "</style>\n",
              "\n",
              "  <script>\n",
              "    async function quickchart(key) {\n",
              "      const quickchartButtonEl =\n",
              "        document.querySelector('#' + key + ' button');\n",
              "      quickchartButtonEl.disabled = true;  // To prevent multiple clicks.\n",
              "      quickchartButtonEl.classList.add('colab-df-spinner');\n",
              "      try {\n",
              "        const charts = await google.colab.kernel.invokeFunction(\n",
              "            'suggestCharts', [key], {});\n",
              "      } catch (error) {\n",
              "        console.error('Error during call to suggestCharts:', error);\n",
              "      }\n",
              "      quickchartButtonEl.classList.remove('colab-df-spinner');\n",
              "      quickchartButtonEl.classList.add('colab-df-quickchart-complete');\n",
              "    }\n",
              "    (() => {\n",
              "      let quickchartButtonEl =\n",
              "        document.querySelector('#df-a0fd4246-49e9-4e91-afa5-014427c507e9 button');\n",
              "      quickchartButtonEl.style.display =\n",
              "        google.colab.kernel.accessAllowed ? 'block' : 'none';\n",
              "    })();\n",
              "  </script>\n",
              "</div>\n",
              "\n",
              "    </div>\n",
              "  </div>\n"
            ],
            "application/vnd.google.colaboratory.intrinsic+json": {
              "type": "dataframe",
              "summary": "{\n  \"name\": \"df\",\n  \"rows\": 8,\n  \"fields\": [\n    {\n      \"column\": \"SMOKING_STATUS\",\n      \"properties\": {\n        \"dtype\": \"number\",\n        \"std\": 395.4726731040005,\n        \"min\": 0.49762537738087265,\n        \"max\": 1120.0,\n        \"num_unique_values\": 5,\n        \"samples\": [\n          1.550892857142857,\n          2.0,\n          0.49762537738087265\n        ],\n        \"semantic_type\": \"\",\n        \"description\": \"\"\n      }\n    },\n    {\n      \"column\": \"YELLOW_SKIN\",\n      \"properties\": {\n        \"dtype\": \"number\",\n        \"std\": 395.47227312686533,\n        \"min\": 0.4966302572427889,\n        \"max\": 1120.0,\n        \"num_unique_values\": 5,\n        \"samples\": [\n          1.5598214285714285,\n          2.0,\n          0.4966302572427889\n        ],\n        \"semantic_type\": \"\",\n        \"description\": \"\"\n      }\n    },\n    {\n      \"column\": \"ANXIETY\",\n      \"properties\": {\n        \"dtype\": \"number\",\n        \"std\": 395.52597429233884,\n        \"min\": 0.5001587581483333,\n        \"max\": 1120.0,\n        \"num_unique_values\": 5,\n        \"samples\": [\n          1.4919642857142856,\n          2.0,\n          0.5001587581483333\n        ],\n        \"semantic_type\": \"\",\n        \"description\": \"\"\n      }\n    },\n    {\n      \"column\": \"COPD_DIAGNOSES\",\n      \"properties\": {\n        \"dtype\": \"number\",\n        \"std\": 389.1109725284765,\n        \"min\": 0.5002138334248928,\n        \"max\": 1102.0,\n        \"num_unique_values\": 5,\n        \"samples\": [\n          1.5036297640653358,\n          2.0,\n          0.5002138334248928\n        ],\n        \"semantic_type\": \"\",\n        \"description\": \"\"\n      }\n    },\n    {\n      \"column\": \"FATIGUE \",\n      \"properties\": {\n        \"dtype\": \"number\",\n        \"std\": 393.7014779600363,\n        \"min\": 0.4816524839505624,\n        \"max\": 1115.0,\n        \"num_unique_values\": 5,\n        \"samples\": [\n          1.6349775784753364,\n          2.0,\n          0.4816524839505624\n        ],\n        \"semantic_type\": \"\",\n        \"description\": \"\"\n      }\n    },\n    {\n      \"column\": \"WHEEZING\",\n      \"properties\": {\n        \"dtype\": \"number\",\n        \"std\": 391.9374505338024,\n        \"min\": 0.49827197962361025,\n        \"max\": 1110.0,\n        \"num_unique_values\": 5,\n        \"samples\": [\n          1.5441441441441441,\n          2.0,\n          0.49827197962361025\n        ],\n        \"semantic_type\": \"\",\n        \"description\": \"\"\n      }\n    },\n    {\n      \"column\": \"ALCOHOL_CONSUMPTION\",\n      \"properties\": {\n        \"dtype\": \"number\",\n        \"std\": 395.4726731040005,\n        \"min\": 0.49762537738087265,\n        \"max\": 1120.0,\n        \"num_unique_values\": 5,\n        \"samples\": [\n          1.550892857142857,\n          2.0,\n          0.49762537738087265\n        ],\n        \"semantic_type\": \"\",\n        \"description\": \"\"\n      }\n    },\n    {\n      \"column\": \"COUGHING\",\n      \"properties\": {\n        \"dtype\": \"number\",\n        \"std\": 395.4719202549097,\n        \"min\": 0.49559530567672744,\n        \"max\": 1120.0,\n        \"num_unique_values\": 5,\n        \"samples\": [\n          1.5678571428571428,\n          2.0,\n          0.49559530567672744\n        ],\n        \"semantic_type\": \"\",\n        \"description\": \"\"\n      }\n    },\n    {\n      \"column\": \"SHORTNESS_OF_BREATH\",\n      \"properties\": {\n        \"dtype\": \"number\",\n        \"std\": 394.05541430188,\n        \"min\": 0.4844554762899488,\n        \"max\": 1116.0,\n        \"num_unique_values\": 5,\n        \"samples\": [\n          1.624551971326165,\n          2.0,\n          0.4844554762899488\n        ],\n        \"semantic_type\": \"\",\n        \"description\": \"\"\n      }\n    },\n    {\n      \"column\": \"SWALLOWING_DIFFICULTY\",\n      \"properties\": {\n        \"dtype\": \"number\",\n        \"std\": 395.5268583878687,\n        \"min\": 0.4995976933772633,\n        \"max\": 1120.0,\n        \"num_unique_values\": 5,\n        \"samples\": [\n          1.475,\n          2.0,\n          0.4995976933772633\n        ],\n        \"semantic_type\": \"\",\n        \"description\": \"\"\n      }\n    },\n    {\n      \"column\": \"CHEST_PAIN\",\n      \"properties\": {\n        \"dtype\": \"number\",\n        \"std\": 395.47263273361756,\n        \"min\": 0.4975331717480344,\n        \"max\": 1120.0,\n        \"num_unique_values\": 5,\n        \"samples\": [\n          1.5517857142857143,\n          2.0,\n          0.4975331717480344\n        ],\n        \"semantic_type\": \"\",\n        \"description\": \"\"\n      }\n    }\n  ]\n}"
            }
          },
          "metadata": {},
          "execution_count": 11
        }
      ]
    },
    {
      "cell_type": "code",
      "source": [
        "# Measurement scales\n",
        "measurement_scales = {\n",
        "    'Genomic_Sex': 'Nominal',\n",
        "    'Age': 'Ratio',\n",
        "    'Smoking_Status': 'Nominal',\n",
        "    'Anxiety': 'Nominal',\n",
        "    'DAILY_CIGARETTE': 'Numeric',\n",
        "    'COPD_Diagnosis': 'Nominal',\n",
        "    'Fatigue': 'Nominal',\n",
        "    'Wheezing': 'Nominal',\n",
        "    'Yellow_skin': 'Nominal',\n",
        "    'Alcohol_Consumption': 'Ratio',\n",
        "    'Coughing': 'Nominal',\n",
        "    'Shortness_of_Breath': 'Nominal',\n",
        "    'Swallowing_Difficulty': 'Nominal',\n",
        "    'Chest_Pain': 'Nominal',\n",
        "    'Lung_Cancer': 'Nominal'\n",
        "}\n",
        "for var, scale in measurement_scales.items():\n",
        "    print(f'{var}: {scale}')"
      ],
      "metadata": {
        "colab": {
          "base_uri": "https://localhost:8080/"
        },
        "id": "DiJ8g7atd9MN",
        "outputId": "06d5239d-fed5-4899-dc63-d73670e461ad"
      },
      "execution_count": null,
      "outputs": [
        {
          "output_type": "stream",
          "name": "stdout",
          "text": [
            "Genomic_Sex: Nominal\n",
            "Age: Ratio\n",
            "Smoking_Status: Nominal\n",
            "Anxiety: Nominal\n",
            "DAILY_CIGARETTE: Numeric\n",
            "COPD_Diagnosis: Nominal\n",
            "Fatigue: Nominal\n",
            "Wheezing: Nominal\n",
            "Yellow_skin: Nominal\n",
            "Alcohol_Consumption: Ratio\n",
            "Coughing: Nominal\n",
            "Shortness_of_Breath: Nominal\n",
            "Swallowing_Difficulty: Nominal\n",
            "Chest_Pain: Nominal\n",
            "Lung_Cancer: Nominal\n"
          ]
        }
      ]
    },
    {
      "cell_type": "code",
      "source": [
        "import matplotlib.pyplot as plt\n",
        "import seaborn as sns\n",
        "df['LUNG_CANCER'] = df['LUNG_CANCER'].astype(str)\n",
        "\n",
        "# Plot the distribution of the target variable 'Lung_Cancer'\n",
        "plt.figure(figsize=(8, 4))\n",
        "sns.countplot(x='LUNG_CANCER', data=df)\n",
        "plt.title('Distribution of Lung Cancer')\n",
        "plt.xlabel('Lung Cancer')\n",
        "plt.ylabel('Count')\n",
        "plt.show()\n"
      ],
      "metadata": {
        "colab": {
          "base_uri": "https://localhost:8080/",
          "height": 373
        },
        "id": "FRuoqAG3eM8F",
        "outputId": "acfa47dc-97cf-4b64-9641-a560e017b5ed"
      },
      "execution_count": null,
      "outputs": [
        {
          "output_type": "display_data",
          "data": {
            "text/plain": [
              "<Figure size 800x400 with 1 Axes>"
            ],
            "image/png": "[encoded data removed]"
          },
          "metadata": {}
        }
      ]
    },
    {
      "cell_type": "code",
      "source": [
        "df.shape"
      ],
      "metadata": {
        "colab": {
          "base_uri": "https://localhost:8080/"
        },
        "id": "Yp4dCEnT_HJ3",
        "outputId": "67395006-191a-4191-853a-2db4f011514a"
      },
      "execution_count": null,
      "outputs": [
        {
          "output_type": "execute_result",
          "data": {
            "text/plain": [
              "(1120, 15)"
            ]
          },
          "metadata": {},
          "execution_count": 14
        }
      ]
    },
    {
      "cell_type": "markdown",
      "source": [
        "**DATA PREPARATION**\n"
      ],
      "metadata": {
        "id": "y2mqpbqao2r8"
      }
    },
    {
      "cell_type": "code",
      "source": [
        "df=df.rename(columns={'GENOMIC SEX':'GENDER'})"
      ],
      "metadata": {
        "id": "I05Z6tvNo14H"
      },
      "execution_count": null,
      "outputs": []
    },
    {
      "cell_type": "code",
      "source": [
        "df['GENDER'].unique()"
      ],
      "metadata": {
        "colab": {
          "base_uri": "https://localhost:8080/"
        },
        "id": "lhwl62AXgxyh",
        "outputId": "c5be3e56-eef3-41ff-fc28-219536bbea13"
      },
      "execution_count": null,
      "outputs": [
        {
          "output_type": "execute_result",
          "data": {
            "text/plain": [
              "array(['M', 'F', nan, 'MALE', 'FEMALE'], dtype=object)"
            ]
          },
          "metadata": {},
          "execution_count": 16
        }
      ]
    },
    {
      "cell_type": "code",
      "source": [
        "df['GENDER'].isnull().sum()"
      ],
      "metadata": {
        "colab": {
          "base_uri": "https://localhost:8080/"
        },
        "id": "pb9EioWv_cBC",
        "outputId": "adcd240c-7f54-46b3-cecf-9898e21aeaf2"
      },
      "execution_count": null,
      "outputs": [
        {
          "output_type": "execute_result",
          "data": {
            "text/plain": [
              "19"
            ]
          },
          "metadata": {},
          "execution_count": 17
        }
      ]
    },
    {
      "cell_type": "markdown",
      "source": [
        "Normalization and Standardization of the format: Male=1, Female=0. Missing values filled using mode and data type changed to integer."
      ],
      "metadata": {
        "id": "YtIWpx0W0h01"
      }
    },
    {
      "cell_type": "code",
      "source": [
        "\n",
        "import numpy as np\n",
        "\n",
        "#Normalize Gender Values that are in diffrent format like male Male m...\n",
        "def normalize_gender(gender):\n",
        "    if pd.isna(gender):  # Check if the value is NaN\n",
        "        return None\n",
        "    if isinstance(gender, str):\n",
        "        gender = gender.strip().lower()\n",
        "        if gender in ['male', 'm']:\n",
        "            return 'Male'\n",
        "        elif gender in ['female', 'f']:\n",
        "            return 'Female'\n",
        "    return None  # if there is any unexpected values and non-string types it turns into none\n",
        "\n",
        "df['GENDER'] = df['GENDER'].apply(normalize_gender)\n",
        "\n",
        "# using mode for imputation for the missing value\n",
        "df['GENDER'].fillna(df['GENDER'].mode()[0], inplace=True)\n",
        "\n",
        "# trasforming Gender to Numerical Values\n",
        "gender_mapping = {'Male': 1, 'Female': 0}\n",
        "df['GENDER'] = df['GENDER'].map(gender_mapping)\n",
        "\n",
        "print(df['GENDER'])\n"
      ],
      "metadata": {
        "colab": {
          "base_uri": "https://localhost:8080/"
        },
        "id": "yFRvuF3Q0T32",
        "outputId": "2c738676-1d9a-4dc3-9588-d3cfa822c39a"
      },
      "execution_count": null,
      "outputs": [
        {
          "output_type": "stream",
          "name": "stdout",
          "text": [
            "0       1\n",
            "1       1\n",
            "2       0\n",
            "3       1\n",
            "4       0\n",
            "       ..\n",
            "1115    0\n",
            "1116    0\n",
            "1117    0\n",
            "1118    0\n",
            "1119    0\n",
            "Name: GENDER, Length: 1120, dtype: int64\n"
          ]
        }
      ]
    },
    {
      "cell_type": "markdown",
      "source": [
        "Our feature has string, negative value, and unrealistic value for age. There are 3 missing values so we strip it and change the string to an integer value. We replace the unrealistic age and the empty cells with the median."
      ],
      "metadata": {
        "id": "r8hki7hEJIJA"
      }
    },
    {
      "cell_type": "code",
      "source": [
        "df['AGE'].unique()"
      ],
      "metadata": {
        "colab": {
          "base_uri": "https://localhost:8080/"
        },
        "id": "rm7vPzy62wyt",
        "outputId": "bbc789e9-c73e-48bb-9ba8-0b158f6ca5e3"
      },
      "execution_count": null,
      "outputs": [
        {
          "output_type": "execute_result",
          "data": {
            "text/plain": [
              "array(['69', '74', '59', '63', '75', '52', '51', '68', '53', '61', '72',\n",
              "       '60', '58', '48', '57', '44', '64', '21', '65', '55', '62', '56',\n",
              "       '67', '77', '70', '54', '49', '73', '47', '71', '66', '76', '78',\n",
              "       '81', '79', '38', '39', '87', '46', '-56', nan, '170', '35',\n",
              "       'Twenty One', '43', '28', '20', '22', '32', '27', '40', '37', '25',\n",
              "       '45', '29', '31', '36', '190', '42', '34', '23', '30', '50', '33',\n",
              "       '41', '402', '26'], dtype=object)"
            ]
          },
          "metadata": {},
          "execution_count": 19
        }
      ]
    },
    {
      "cell_type": "code",
      "source": [
        "#Define a function to convert text to numeric\n",
        "def text_to_numeric(age):\n",
        "    text_to_num = {\n",
        "        'twenty one': 21,\n",
        "    }\n",
        "    age = str(age).strip().lower()  # Ensure age is converted to string before processing\n",
        "    return text_to_num.get(age, age)\n",
        "\n",
        "df['AGE'] = df['AGE'].apply(text_to_numeric)\n",
        "#Removes - from the age\n",
        "df['AGE'] = df['AGE'].str.strip('-')\n",
        "\n",
        "# Converts all entries to numeric values, setting errors='coerce' to handle non-numeric\n",
        "df['AGE'] = pd.to_numeric(df['AGE'], errors='coerce')\n",
        "\n",
        "df.loc[df['AGE'] > 120, 'AGE'] = np.nan\n",
        "# Fill NaN values with median age\n",
        "df['AGE'].fillna(df['AGE'].median(), inplace=True)\n",
        "#changes the data type to integer\n",
        "df['AGE'] = df['AGE'].astype(int)\n",
        "print(df['AGE'])\n"
      ],
      "metadata": {
        "colab": {
          "base_uri": "https://localhost:8080/"
        },
        "id": "IXycpcE-ApNj",
        "outputId": "930b3abf-d2d9-4774-f8fb-dfdbc3923aaa",
        "collapsed": true
      },
      "execution_count": null,
      "outputs": [
        {
          "output_type": "stream",
          "name": "stdout",
          "text": [
            "0       69\n",
            "1       74\n",
            "2       59\n",
            "3       63\n",
            "4       63\n",
            "        ..\n",
            "1115    57\n",
            "1116    51\n",
            "1117    65\n",
            "1118    57\n",
            "1119    20\n",
            "Name: AGE, Length: 1120, dtype: int64\n"
          ]
        }
      ]
    },
    {
      "cell_type": "code",
      "source": [
        "df['AGE'].unique()"
      ],
      "metadata": {
        "colab": {
          "base_uri": "https://localhost:8080/"
        },
        "id": "lp9mlRiRLMNr",
        "outputId": "ce6dd3aa-f3f7-4588-cacd-9a24aff19790"
      },
      "execution_count": null,
      "outputs": [
        {
          "output_type": "execute_result",
          "data": {
            "text/plain": [
              "array([69, 74, 59, 63, 75, 52, 51, 68, 53, 61, 72, 60, 58, 48, 57, 44, 64,\n",
              "       21, 65, 55, 62, 56, 67, 77, 70, 54, 49, 73, 47, 71, 66, 76, 78, 81,\n",
              "       79, 38, 39, 87, 46, 35, 43, 28, 20, 22, 32, 27, 40, 37, 25, 45, 29,\n",
              "       31, 36, 42, 34, 23, 30, 50, 33, 41, 26])"
            ]
          },
          "metadata": {},
          "execution_count": 21
        }
      ]
    },
    {
      "cell_type": "markdown",
      "source": [
        "There is a high number of missing values for daily cigarettes. This can be fixed by creating a logical relation (if its a non smoker 1 then daily cigaratte is 0) between smoking status and daily cigarettes and converting the text to numeric values. Any daily cigarette count exceeding 40  changed to 'nan'."
      ],
      "metadata": {
        "id": "VbSKyajQQIic"
      }
    },
    {
      "cell_type": "code",
      "source": [
        "df['DAILY_CIGARETTES']"
      ],
      "metadata": {
        "colab": {
          "base_uri": "https://localhost:8080/"
        },
        "id": "PWmP8rL4MhKv",
        "outputId": "69010826-4eef-494b-89e7-d086cf745111"
      },
      "execution_count": null,
      "outputs": [
        {
          "output_type": "execute_result",
          "data": {
            "text/plain": [
              "0       NaN\n",
              "1        29\n",
              "2       NaN\n",
              "3        20\n",
              "4       NaN\n",
              "       ... \n",
              "1115    NaN\n",
              "1116     21\n",
              "1117    NaN\n",
              "1118     21\n",
              "1119    NaN\n",
              "Name: DAILY_CIGARETTES, Length: 1120, dtype: object"
            ]
          },
          "metadata": {},
          "execution_count": 22
        }
      ]
    },
    {
      "cell_type": "code",
      "source": [
        "df['DAILY_CIGARETTES'].isnull().sum()"
      ],
      "metadata": {
        "colab": {
          "base_uri": "https://localhost:8080/"
        },
        "id": "kSRNnwZaMqNK",
        "outputId": "c38a0202-da27-487e-9550-2d414f74cc4b"
      },
      "execution_count": null,
      "outputs": [
        {
          "output_type": "execute_result",
          "data": {
            "text/plain": [
              "503"
            ]
          },
          "metadata": {},
          "execution_count": 23
        }
      ]
    },
    {
      "cell_type": "code",
      "source": [
        "df['DAILY_CIGARETTES'].unique()"
      ],
      "metadata": {
        "colab": {
          "base_uri": "https://localhost:8080/"
        },
        "id": "mXdtlKXnZ0SH",
        "outputId": "c739d39f-c8da-488f-ebb4-967f303a9382"
      },
      "execution_count": null,
      "outputs": [
        {
          "output_type": "execute_result",
          "data": {
            "text/plain": [
              "array([nan, '29', '20', '37', '8', '34', '18', '25', '4', '10', '39',\n",
              "       '33', '14', '31', '36', '2', '32', '21', '13', '23', '40', '38',\n",
              "       '3', '12', '35', '6', '26', '15', '19', '1', '11', '30', '9',\n",
              "       '-21', '5', '22', '7', '24', '27', '28', '16', '1000', '17',\n",
              "       'five'], dtype=object)"
            ]
          },
          "metadata": {},
          "execution_count": 24
        }
      ]
    },
    {
      "cell_type": "code",
      "source": [
        "# Define a function to convert text to numeric\n",
        "def text_to_numeric(daily_cigarettes):\n",
        "    text_to_num = {\n",
        "        'five': 5,\n",
        "    }\n",
        "    daily_cigarettes = str(daily_cigarettes).strip().lower()\n",
        "    return text_to_num.get(daily_cigarettes, daily_cigarettes)\n",
        "\n",
        "df['DAILY_CIGARETTES'] = df['DAILY_CIGARETTES'].apply(text_to_numeric)\n",
        "df['DAILY_CIGARETTES'] = pd.to_numeric(df['DAILY_CIGARETTES'], errors='coerce')\n",
        "\n",
        "#Removes the negative from  daily cigaratte by applying  absolute\n",
        "df['DAILY_CIGARETTES'] = df['DAILY_CIGARETTES'].abs()\n",
        "\n",
        "# Converts all entries to numeric values, setting errors='coerce' to handle non-numeric\n",
        "df['DAILY_CIGARETTES'] = pd.to_numeric(df['DAILY_CIGARETTES'], errors='coerce')\n",
        "\n",
        "df.loc[df['DAILY_CIGARETTES'] > 40, 'DAILY_CIGARETTES'] = np.nan\n",
        "# Define the condition to fill missing values in Daily Cigarettes\n",
        "\n",
        "condition = df['SMOKING_STATUS'] == 1\n",
        "# Fill missing values in Daily Cigarettes column where Smoking Status is 1(non smokers)\n",
        "df.loc[condition, 'DAILY_CIGARETTES'] = df.loc[condition, 'DAILY_CIGARETTES'].fillna(0)\n",
        "\n",
        "df = df.replace([np.inf, -np.inf], np.nan)  # Replace any inf values with NaN\n",
        "df['DAILY_CIGARETTES'].fillna(0, inplace=True)\n",
        "#changes the data type to integer\n",
        "df['DAILY_CIGARETTES'] = df['DAILY_CIGARETTES'].astype(int)\n",
        "print(df['DAILY_CIGARETTES'])"
      ],
      "metadata": {
        "colab": {
          "base_uri": "https://localhost:8080/"
        },
        "id": "v7h9hOw4LEdD",
        "outputId": "017aa969-0aea-452a-8287-5b51c6b8dbce",
        "collapsed": true
      },
      "execution_count": null,
      "outputs": [
        {
          "output_type": "stream",
          "name": "stdout",
          "text": [
            "0        0\n",
            "1       29\n",
            "2        0\n",
            "3       20\n",
            "4        0\n",
            "        ..\n",
            "1115     0\n",
            "1116    21\n",
            "1117     0\n",
            "1118    21\n",
            "1119     0\n",
            "Name: DAILY_CIGARETTES, Length: 1120, dtype: int64\n"
          ]
        }
      ]
    },
    {
      "cell_type": "code",
      "source": [
        "df['DAILY_CIGARETTES'].unique()"
      ],
      "metadata": {
        "colab": {
          "base_uri": "https://localhost:8080/"
        },
        "id": "T6OI930Rf0nv",
        "outputId": "cf661287-bf9e-4d45-dc34-aea6d5aee329"
      },
      "execution_count": null,
      "outputs": [
        {
          "output_type": "execute_result",
          "data": {
            "text/plain": [
              "array([ 0, 29, 20, 37,  8, 34, 18, 25,  4, 10, 39, 33, 14, 31, 36,  2, 32,\n",
              "       21, 13, 23, 40, 38,  3, 12, 35,  6, 26, 15, 19,  1, 11, 30,  9,  5,\n",
              "       22,  7, 24, 27, 28, 16, 17])"
            ]
          },
          "metadata": {},
          "execution_count": 26
        }
      ]
    },
    {
      "cell_type": "code",
      "source": [
        "df['COPD_DIAGNOSES'].fillna(df['COPD_DIAGNOSES'].mode()[0], inplace=True)\n",
        "df['WHEEZING'].fillna(df['WHEEZING'].mode()[0], inplace=True)\n",
        "df['FATIGUE '].fillna(df['FATIGUE '].mode()[0], inplace=True)\n",
        "df['SHORTNESS_OF_BREATH'].fillna(df['SHORTNESS_OF_BREATH'].mode()[0], inplace=True)\n",
        "\n",
        "# Convert columns to integer\n",
        "df['COPD_DIAGNOSES'] = df['COPD_DIAGNOSES'].astype(int)\n",
        "df['WHEEZING'] = df['WHEEZING'].astype(int)\n",
        "df['FATIGUE '] = df['FATIGUE '].astype(int)\n",
        "df['SHORTNESS_OF_BREATH'] = df['SHORTNESS_OF_BREATH'].astype(int)\n"
      ],
      "metadata": {
        "collapsed": true,
        "id": "X6seHK1nX4ZD"
      },
      "execution_count": null,
      "outputs": []
    },
    {
      "cell_type": "code",
      "source": [
        "df.info()"
      ],
      "metadata": {
        "colab": {
          "base_uri": "https://localhost:8080/"
        },
        "id": "YEZntXJkbZ3C",
        "outputId": "da55d9bc-7422-452b-8101-d41235c328be"
      },
      "execution_count": null,
      "outputs": [
        {
          "output_type": "stream",
          "name": "stdout",
          "text": [
            "<class 'pandas.core.frame.DataFrame'>\n",
            "RangeIndex: 1120 entries, 0 to 1119\n",
            "Data columns (total 15 columns):\n",
            " #   Column                 Non-Null Count  Dtype \n",
            "---  ------                 --------------  ----- \n",
            " 0   GENDER                 1120 non-null   int64 \n",
            " 1   AGE                    1120 non-null   int64 \n",
            " 2   SMOKING_STATUS         1120 non-null   int64 \n",
            " 3   DAILY_CIGARETTES       1120 non-null   int64 \n",
            " 4   YELLOW_SKIN            1120 non-null   int64 \n",
            " 5   ANXIETY                1120 non-null   int64 \n",
            " 6   COPD_DIAGNOSES         1120 non-null   int64 \n",
            " 7   FATIGUE                1120 non-null   int64 \n",
            " 8   WHEEZING               1120 non-null   int64 \n",
            " 9   ALCOHOL_CONSUMPTION    1120 non-null   int64 \n",
            " 10  COUGHING               1120 non-null   int64 \n",
            " 11  SHORTNESS_OF_BREATH    1120 non-null   int64 \n",
            " 12  SWALLOWING_DIFFICULTY  1120 non-null   int64 \n",
            " 13  CHEST_PAIN             1120 non-null   int64 \n",
            " 14  LUNG_CANCER            1120 non-null   object\n",
            "dtypes: int64(14), object(1)\n",
            "memory usage: 131.4+ KB\n"
          ]
        }
      ]
    },
    {
      "cell_type": "code",
      "source": [
        "df.isnull().sum()"
      ],
      "metadata": {
        "colab": {
          "base_uri": "https://localhost:8080/"
        },
        "id": "tBk0d5xIZDRf",
        "outputId": "4c5a4c1c-b58d-4e8f-8c8e-020bcc0adf9e"
      },
      "execution_count": null,
      "outputs": [
        {
          "output_type": "execute_result",
          "data": {
            "text/plain": [
              "GENDER                   0\n",
              "AGE                      0\n",
              "SMOKING_STATUS           0\n",
              "DAILY_CIGARETTES         0\n",
              "YELLOW_SKIN              0\n",
              "ANXIETY                  0\n",
              "COPD_DIAGNOSES           0\n",
              "FATIGUE                  0\n",
              "WHEEZING                 0\n",
              "ALCOHOL_CONSUMPTION      0\n",
              "COUGHING                 0\n",
              "SHORTNESS_OF_BREATH      0\n",
              "SWALLOWING_DIFFICULTY    0\n",
              "CHEST_PAIN               0\n",
              "LUNG_CANCER              0\n",
              "dtype: int64"
            ]
          },
          "metadata": {},
          "execution_count": 29
        }
      ]
    },
    {
      "cell_type": "code",
      "source": [
        "df"
      ],
      "metadata": {
        "colab": {
          "base_uri": "https://localhost:8080/",
          "height": 443
        },
        "id": "LBN_dSuYw8OX",
        "outputId": "44132ac2-dbfb-4a96-d48d-0adef0974580"
      },
      "execution_count": null,
      "outputs": [
        {
          "output_type": "execute_result",
          "data": {
            "text/plain": [
              "      GENDER  AGE  SMOKING_STATUS  DAILY_CIGARETTES  YELLOW_SKIN  ANXIETY  \\\n",
              "0          1   69               1                 0            2        2   \n",
              "1          1   74               2                29            1        1   \n",
              "2          0   59               1                 0            1        1   \n",
              "3          1   63               2                20            2        2   \n",
              "4          0   63               1                 0            2        1   \n",
              "...      ...  ...             ...               ...          ...      ...   \n",
              "1115       0   57               1                 0            1        1   \n",
              "1116       0   51               2                21            1        2   \n",
              "1117       0   65               1                 0            2        1   \n",
              "1118       0   57               2                21            1        2   \n",
              "1119       0   20               1                 0            1        1   \n",
              "\n",
              "      COPD_DIAGNOSES  FATIGUE   WHEEZING  ALCOHOL_CONSUMPTION  COUGHING  \\\n",
              "0                  1         2         2                    2         2   \n",
              "1                  2         2         1                    1         1   \n",
              "2                  1         2         2                    1         2   \n",
              "3                  1         1         1                    2         1   \n",
              "4                  1         1         2                    1         2   \n",
              "...              ...       ...       ...                  ...       ...   \n",
              "1115               2         2         2                    2         2   \n",
              "1116               1         1         1                    1         1   \n",
              "1117               1         2         2                    1         2   \n",
              "1118               2         2         2                    1         2   \n",
              "1119               1         1         1                    1         1   \n",
              "\n",
              "      SHORTNESS_OF_BREATH  SWALLOWING_DIFFICULTY  CHEST_PAIN LUNG_CANCER  \n",
              "0                       2                      2           2         YES  \n",
              "1                       2                      2           2         YES  \n",
              "2                       2                      1           2          NO  \n",
              "3                       1                      2           2          NO  \n",
              "4                       2                      1           1          NO  \n",
              "...                   ...                    ...         ...         ...  \n",
              "1115                    1                      1           1          NO  \n",
              "1116                    2                      1           2          NO  \n",
              "1117                    1                      1           1          NO  \n",
              "1118                    1                      1           1          NO  \n",
              "1119                    1                      1           2          NO  \n",
              "\n",
              "[1120 rows x 15 columns]"
            ],
            "text/html": [
              "\n",
              "  <div id=\"df-1c57fc95-0d85-40d5-afb2-3d1581b26fe7\" class=\"colab-df-container\">\n",
              "    <div>\n",
              "<style scoped>\n",
              "    .dataframe tbody tr th:only-of-type {\n",
              "        vertical-align: middle;\n",
              "    }\n",
              "\n",
              "    .dataframe tbody tr th {\n",
              "        vertical-align: top;\n",
              "    }\n",
              "\n",
              "    .dataframe thead th {\n",
              "        text-align: right;\n",
              "    }\n",
              "</style>\n",
              "<table border=\"1\" class=\"dataframe\">\n",
              "  <thead>\n",
              "    <tr style=\"text-align: right;\">\n",
              "      <th></th>\n",
              "      <th>GENDER</th>\n",
              "      <th>AGE</th>\n",
              "      <th>SMOKING_STATUS</th>\n",
              "      <th>DAILY_CIGARETTES</th>\n",
              "      <th>YELLOW_SKIN</th>\n",
              "      <th>ANXIETY</th>\n",
              "      <th>COPD_DIAGNOSES</th>\n",
              "      <th>FATIGUE</th>\n",
              "      <th>WHEEZING</th>\n",
              "      <th>ALCOHOL_CONSUMPTION</th>\n",
              "      <th>COUGHING</th>\n",
              "      <th>SHORTNESS_OF_BREATH</th>\n",
              "      <th>SWALLOWING_DIFFICULTY</th>\n",
              "      <th>CHEST_PAIN</th>\n",
              "      <th>LUNG_CANCER</th>\n",
              "    </tr>\n",
              "  </thead>\n",
              "  <tbody>\n",
              "    <tr>\n",
              "      <th>0</th>\n",
              "      <td>1</td>\n",
              "      <td>69</td>\n",
              "      <td>1</td>\n",
              "      <td>0</td>\n",
              "      <td>2</td>\n",
              "      <td>2</td>\n",
              "      <td>1</td>\n",
              "      <td>2</td>\n",
              "      <td>2</td>\n",
              "      <td>2</td>\n",
              "      <td>2</td>\n",
              "      <td>2</td>\n",
              "      <td>2</td>\n",
              "      <td>2</td>\n",
              "      <td>YES</td>\n",
              "    </tr>\n",
              "    <tr>\n",
              "      <th>1</th>\n",
              "      <td>1</td>\n",
              "      <td>74</td>\n",
              "      <td>2</td>\n",
              "      <td>29</td>\n",
              "      <td>1</td>\n",
              "      <td>1</td>\n",
              "      <td>2</td>\n",
              "      <td>2</td>\n",
              "      <td>1</td>\n",
              "      <td>1</td>\n",
              "      <td>1</td>\n",
              "      <td>2</td>\n",
              "      <td>2</td>\n",
              "      <td>2</td>\n",
              "      <td>YES</td>\n",
              "    </tr>\n",
              "    <tr>\n",
              "      <th>2</th>\n",
              "      <td>0</td>\n",
              "      <td>59</td>\n",
              "      <td>1</td>\n",
              "      <td>0</td>\n",
              "      <td>1</td>\n",
              "      <td>1</td>\n",
              "      <td>1</td>\n",
              "      <td>2</td>\n",
              "      <td>2</td>\n",
              "      <td>1</td>\n",
              "      <td>2</td>\n",
              "      <td>2</td>\n",
              "      <td>1</td>\n",
              "      <td>2</td>\n",
              "      <td>NO</td>\n",
              "    </tr>\n",
              "    <tr>\n",
              "      <th>3</th>\n",
              "      <td>1</td>\n",
              "      <td>63</td>\n",
              "      <td>2</td>\n",
              "      <td>20</td>\n",
              "      <td>2</td>\n",
              "      <td>2</td>\n",
              "      <td>1</td>\n",
              "      <td>1</td>\n",
              "      <td>1</td>\n",
              "      <td>2</td>\n",
              "      <td>1</td>\n",
              "      <td>1</td>\n",
              "      <td>2</td>\n",
              "      <td>2</td>\n",
              "      <td>NO</td>\n",
              "    </tr>\n",
              "    <tr>\n",
              "      <th>4</th>\n",
              "      <td>0</td>\n",
              "      <td>63</td>\n",
              "      <td>1</td>\n",
              "      <td>0</td>\n",
              "      <td>2</td>\n",
              "      <td>1</td>\n",
              "      <td>1</td>\n",
              "      <td>1</td>\n",
              "      <td>2</td>\n",
              "      <td>1</td>\n",
              "      <td>2</td>\n",
              "      <td>2</td>\n",
              "      <td>1</td>\n",
              "      <td>1</td>\n",
              "      <td>NO</td>\n",
              "    </tr>\n",
              "    <tr>\n",
              "      <th>...</th>\n",
              "      <td>...</td>\n",
              "      <td>...</td>\n",
              "      <td>...</td>\n",
              "      <td>...</td>\n",
              "      <td>...</td>\n",
              "      <td>...</td>\n",
              "      <td>...</td>\n",
              "      <td>...</td>\n",
              "      <td>...</td>\n",
              "      <td>...</td>\n",
              "      <td>...</td>\n",
              "      <td>...</td>\n",
              "      <td>...</td>\n",
              "      <td>...</td>\n",
              "      <td>...</td>\n",
              "    </tr>\n",
              "    <tr>\n",
              "      <th>1115</th>\n",
              "      <td>0</td>\n",
              "      <td>57</td>\n",
              "      <td>1</td>\n",
              "      <td>0</td>\n",
              "      <td>1</td>\n",
              "      <td>1</td>\n",
              "      <td>2</td>\n",
              "      <td>2</td>\n",
              "      <td>2</td>\n",
              "      <td>2</td>\n",
              "      <td>2</td>\n",
              "      <td>1</td>\n",
              "      <td>1</td>\n",
              "      <td>1</td>\n",
              "      <td>NO</td>\n",
              "    </tr>\n",
              "    <tr>\n",
              "      <th>1116</th>\n",
              "      <td>0</td>\n",
              "      <td>51</td>\n",
              "      <td>2</td>\n",
              "      <td>21</td>\n",
              "      <td>1</td>\n",
              "      <td>2</td>\n",
              "      <td>1</td>\n",
              "      <td>1</td>\n",
              "      <td>1</td>\n",
              "      <td>1</td>\n",
              "      <td>1</td>\n",
              "      <td>2</td>\n",
              "      <td>1</td>\n",
              "      <td>2</td>\n",
              "      <td>NO</td>\n",
              "    </tr>\n",
              "    <tr>\n",
              "      <th>1117</th>\n",
              "      <td>0</td>\n",
              "      <td>65</td>\n",
              "      <td>1</td>\n",
              "      <td>0</td>\n",
              "      <td>2</td>\n",
              "      <td>1</td>\n",
              "      <td>1</td>\n",
              "      <td>2</td>\n",
              "      <td>2</td>\n",
              "      <td>1</td>\n",
              "      <td>2</td>\n",
              "      <td>1</td>\n",
              "      <td>1</td>\n",
              "      <td>1</td>\n",
              "      <td>NO</td>\n",
              "    </tr>\n",
              "    <tr>\n",
              "      <th>1118</th>\n",
              "      <td>0</td>\n",
              "      <td>57</td>\n",
              "      <td>2</td>\n",
              "      <td>21</td>\n",
              "      <td>1</td>\n",
              "      <td>2</td>\n",
              "      <td>2</td>\n",
              "      <td>2</td>\n",
              "      <td>2</td>\n",
              "      <td>1</td>\n",
              "      <td>2</td>\n",
              "      <td>1</td>\n",
              "      <td>1</td>\n",
              "      <td>1</td>\n",
              "      <td>NO</td>\n",
              "    </tr>\n",
              "    <tr>\n",
              "      <th>1119</th>\n",
              "      <td>0</td>\n",
              "      <td>20</td>\n",
              "      <td>1</td>\n",
              "      <td>0</td>\n",
              "      <td>1</td>\n",
              "      <td>1</td>\n",
              "      <td>1</td>\n",
              "      <td>1</td>\n",
              "      <td>1</td>\n",
              "      <td>1</td>\n",
              "      <td>1</td>\n",
              "      <td>1</td>\n",
              "      <td>1</td>\n",
              "      <td>2</td>\n",
              "      <td>NO</td>\n",
              "    </tr>\n",
              "  </tbody>\n",
              "</table>\n",
              "<p>1120 rows × 15 columns</p>\n",
              "</div>\n",
              "    <div class=\"colab-df-buttons\">\n",
              "\n",
              "  <div class=\"colab-df-container\">\n",
              "    <button class=\"colab-df-convert\" onclick=\"convertToInteractive('df-1c57fc95-0d85-40d5-afb2-3d1581b26fe7')\"\n",
              "            title=\"Convert this dataframe to an interactive table.\"\n",
              "            style=\"display:none;\">\n",
              "\n",
              "  <svg xmlns=\"http://www.w3.org/2000/svg\" height=\"24px\" viewBox=\"0 -960 960 960\">\n",
              "    <path d=\"M120-120v-720h720v720H120Zm60-500h600v-160H180v160Zm220 220h160v-160H400v160Zm0 220h160v-160H400v160ZM180-400h160v-160H180v160Zm440 0h160v-160H620v160ZM180-180h160v-160H180v160Zm440 0h160v-160H620v160Z\"/>\n",
              "  </svg>\n",
              "    </button>\n",
              "\n",
              "  <style>\n",
              "    .colab-df-container {\n",
              "      display:flex;\n",
              "      gap: 12px;\n",
              "    }\n",
              "\n",
              "    .colab-df-convert {\n",
              "      background-color: #E8F0FE;\n",
              "      border: none;\n",
              "      border-radius: 50%;\n",
              "      cursor: pointer;\n",
              "      display: none;\n",
              "      fill: #1967D2;\n",
              "      height: 32px;\n",
              "      padding: 0 0 0 0;\n",
              "      width: 32px;\n",
              "    }\n",
              "\n",
              "    .colab-df-convert:hover {\n",
              "      background-color: #E2EBFA;\n",
              "      box-shadow: 0px 1px 2px rgba(60, 64, 67, 0.3), 0px 1px 3px 1px rgba(60, 64, 67, 0.15);\n",
              "      fill: #174EA6;\n",
              "    }\n",
              "\n",
              "    .colab-df-buttons div {\n",
              "      margin-bottom: 4px;\n",
              "    }\n",
              "\n",
              "    [theme=dark] .colab-df-convert {\n",
              "      background-color: #3B4455;\n",
              "      fill: #D2E3FC;\n",
              "    }\n",
              "\n",
              "    [theme=dark] .colab-df-convert:hover {\n",
              "      background-color: #434B5C;\n",
              "      box-shadow: 0px 1px 3px 1px rgba(0, 0, 0, 0.15);\n",
              "      filter: drop-shadow(0px 1px 2px rgba(0, 0, 0, 0.3));\n",
              "      fill: #FFFFFF;\n",
              "    }\n",
              "  </style>\n",
              "\n",
              "    <script>\n",
              "      const buttonEl =\n",
              "        document.querySelector('#df-1c57fc95-0d85-40d5-afb2-3d1581b26fe7 button.colab-df-convert');\n",
              "      buttonEl.style.display =\n",
              "        google.colab.kernel.accessAllowed ? 'block' : 'none';\n",
              "\n",
              "      async function convertToInteractive(key) {\n",
              "        const element = document.querySelector('#df-1c57fc95-0d85-40d5-afb2-3d1581b26fe7');\n",
              "        const dataTable =\n",
              "          await google.colab.kernel.invokeFunction('convertToInteractive',\n",
              "                                                    [key], {});\n",
              "        if (!dataTable) return;\n",
              "\n",
              "        const docLinkHtml = 'Like what you see? Visit the ' +\n",
              "          '<a target=\"_blank\" href=https://colab.research.google.com/notebooks/data_table.ipynb>data table notebook</a>'\n",
              "          + ' to learn more about interactive tables.';\n",
              "        element.innerHTML = '';\n",
              "        dataTable['output_type'] = 'display_data';\n",
              "        await google.colab.output.renderOutput(dataTable, element);\n",
              "        const docLink = document.createElement('div');\n",
              "        docLink.innerHTML = docLinkHtml;\n",
              "        element.appendChild(docLink);\n",
              "      }\n",
              "    </script>\n",
              "  </div>\n",
              "\n",
              "\n",
              "<div id=\"df-555978ea-6bbc-4636-bc4f-5925ff21cc90\">\n",
              "  <button class=\"colab-df-quickchart\" onclick=\"quickchart('df-555978ea-6bbc-4636-bc4f-5925ff21cc90')\"\n",
              "            title=\"Suggest charts\"\n",
              "            style=\"display:none;\">\n",
              "\n",
              "<svg xmlns=\"http://www.w3.org/2000/svg\" height=\"24px\"viewBox=\"0 0 24 24\"\n",
              "     width=\"24px\">\n",
              "    <g>\n",
              "        <path d=\"M19 3H5c-1.1 0-2 .9-2 2v14c0 1.1.9 2 2 2h14c1.1 0 2-.9 2-2V5c0-1.1-.9-2-2-2zM9 17H7v-7h2v7zm4 0h-2V7h2v10zm4 0h-2v-4h2v4z\"/>\n",
              "    </g>\n",
              "</svg>\n",
              "  </button>\n",
              "\n",
              "<style>\n",
              "  .colab-df-quickchart {\n",
              "      --bg-color: #E8F0FE;\n",
              "      --fill-color: #1967D2;\n",
              "      --hover-bg-color: #E2EBFA;\n",
              "      --hover-fill-color: #174EA6;\n",
              "      --disabled-fill-color: #AAA;\n",
              "      --disabled-bg-color: #DDD;\n",
              "  }\n",
              "\n",
              "  [theme=dark] .colab-df-quickchart {\n",
              "      --bg-color: #3B4455;\n",
              "      --fill-color: #D2E3FC;\n",
              "      --hover-bg-color: #434B5C;\n",
              "      --hover-fill-color: #FFFFFF;\n",
              "      --disabled-bg-color: #3B4455;\n",
              "      --disabled-fill-color: #666;\n",
              "  }\n",
              "\n",
              "  .colab-df-quickchart {\n",
              "    background-color: var(--bg-color);\n",
              "    border: none;\n",
              "    border-radius: 50%;\n",
              "    cursor: pointer;\n",
              "    display: none;\n",
              "    fill: var(--fill-color);\n",
              "    height: 32px;\n",
              "    padding: 0;\n",
              "    width: 32px;\n",
              "  }\n",
              "\n",
              "  .colab-df-quickchart:hover {\n",
              "    background-color: var(--hover-bg-color);\n",
              "    box-shadow: 0 1px 2px rgba(60, 64, 67, 0.3), 0 1px 3px 1px rgba(60, 64, 67, 0.15);\n",
              "    fill: var(--button-hover-fill-color);\n",
              "  }\n",
              "\n",
              "  .colab-df-quickchart-complete:disabled,\n",
              "  .colab-df-quickchart-complete:disabled:hover {\n",
              "    background-color: var(--disabled-bg-color);\n",
              "    fill: var(--disabled-fill-color);\n",
              "    box-shadow: none;\n",
              "  }\n",
              "\n",
              "  .colab-df-spinner {\n",
              "    border: 2px solid var(--fill-color);\n",
              "    border-color: transparent;\n",
              "    border-bottom-color: var(--fill-color);\n",
              "    animation:\n",
              "      spin 1s steps(1) infinite;\n",
              "  }\n",
              "\n",
              "  @keyframes spin {\n",
              "    0% {\n",
              "      border-color: transparent;\n",
              "      border-bottom-color: var(--fill-color);\n",
              "      border-left-color: var(--fill-color);\n",
              "    }\n",
              "    20% {\n",
              "      border-color: transparent;\n",
              "      border-left-color: var(--fill-color);\n",
              "      border-top-color: var(--fill-color);\n",
              "    }\n",
              "    30% {\n",
              "      border-color: transparent;\n",
              "      border-left-color: var(--fill-color);\n",
              "      border-top-color: var(--fill-color);\n",
              "      border-right-color: var(--fill-color);\n",
              "    }\n",
              "    40% {\n",
              "      border-color: transparent;\n",
              "      border-right-color: var(--fill-color);\n",
              "      border-top-color: var(--fill-color);\n",
              "    }\n",
              "    60% {\n",
              "      border-color: transparent;\n",
              "      border-right-color: var(--fill-color);\n",
              "    }\n",
              "    80% {\n",
              "      border-color: transparent;\n",
              "      border-right-color: var(--fill-color);\n",
              "      border-bottom-color: var(--fill-color);\n",
              "    }\n",
              "    90% {\n",
              "      border-color: transparent;\n",
              "      border-bottom-color: var(--fill-color);\n",
              "    }\n",
              "  }\n",
              "</style>\n",
              "\n",
              "  <script>\n",
              "    async function quickchart(key) {\n",
              "      const quickchartButtonEl =\n",
              "        document.querySelector('#' + key + ' button');\n",
              "      quickchartButtonEl.disabled = true;  // To prevent multiple clicks.\n",
              "      quickchartButtonEl.classList.add('colab-df-spinner');\n",
              "      try {\n",
              "        const charts = await google.colab.kernel.invokeFunction(\n",
              "            'suggestCharts', [key], {});\n",
              "      } catch (error) {\n",
              "        console.error('Error during call to suggestCharts:', error);\n",
              "      }\n",
              "      quickchartButtonEl.classList.remove('colab-df-spinner');\n",
              "      quickchartButtonEl.classList.add('colab-df-quickchart-complete');\n",
              "    }\n",
              "    (() => {\n",
              "      let quickchartButtonEl =\n",
              "        document.querySelector('#df-555978ea-6bbc-4636-bc4f-5925ff21cc90 button');\n",
              "      quickchartButtonEl.style.display =\n",
              "        google.colab.kernel.accessAllowed ? 'block' : 'none';\n",
              "    })();\n",
              "  </script>\n",
              "</div>\n",
              "\n",
              "  <div id=\"id_c3ed902a-fb5c-4527-b609-34f2ec09f991\">\n",
              "    <style>\n",
              "      .colab-df-generate {\n",
              "        background-color: #E8F0FE;\n",
              "        border: none;\n",
              "        border-radius: 50%;\n",
              "        cursor: pointer;\n",
              "        display: none;\n",
              "        fill: #1967D2;\n",
              "        height: 32px;\n",
              "        padding: 0 0 0 0;\n",
              "        width: 32px;\n",
              "      }\n",
              "\n",
              "      .colab-df-generate:hover {\n",
              "        background-color: #E2EBFA;\n",
              "        box-shadow: 0px 1px 2px rgba(60, 64, 67, 0.3), 0px 1px 3px 1px rgba(60, 64, 67, 0.15);\n",
              "        fill: #174EA6;\n",
              "      }\n",
              "\n",
              "      [theme=dark] .colab-df-generate {\n",
              "        background-color: #3B4455;\n",
              "        fill: #D2E3FC;\n",
              "      }\n",
              "\n",
              "      [theme=dark] .colab-df-generate:hover {\n",
              "        background-color: #434B5C;\n",
              "        box-shadow: 0px 1px 3px 1px rgba(0, 0, 0, 0.15);\n",
              "        filter: drop-shadow(0px 1px 2px rgba(0, 0, 0, 0.3));\n",
              "        fill: #FFFFFF;\n",
              "      }\n",
              "    </style>\n",
              "    <button class=\"colab-df-generate\" onclick=\"generateWithVariable('df')\"\n",
              "            title=\"Generate code using this dataframe.\"\n",
              "            style=\"display:none;\">\n",
              "\n",
              "  <svg xmlns=\"http://www.w3.org/2000/svg\" height=\"24px\"viewBox=\"0 0 24 24\"\n",
              "       width=\"24px\">\n",
              "    <path d=\"M7,19H8.4L18.45,9,17,7.55,7,17.6ZM5,21V16.75L18.45,3.32a2,2,0,0,1,2.83,0l1.4,1.43a1.91,1.91,0,0,1,.58,1.4,1.91,1.91,0,0,1-.58,1.4L9.25,21ZM18.45,9,17,7.55Zm-12,3A5.31,5.31,0,0,0,4.9,8.1,5.31,5.31,0,0,0,1,6.5,5.31,5.31,0,0,0,4.9,4.9,5.31,5.31,0,0,0,6.5,1,5.31,5.31,0,0,0,8.1,4.9,5.31,5.31,0,0,0,12,6.5,5.46,5.46,0,0,0,6.5,12Z\"/>\n",
              "  </svg>\n",
              "    </button>\n",
              "    <script>\n",
              "      (() => {\n",
              "      const buttonEl =\n",
              "        document.querySelector('#id_c3ed902a-fb5c-4527-b609-34f2ec09f991 button.colab-df-generate');\n",
              "      buttonEl.style.display =\n",
              "        google.colab.kernel.accessAllowed ? 'block' : 'none';\n",
              "\n",
              "      buttonEl.onclick = () => {\n",
              "        google.colab.notebook.generateWithVariable('df');\n",
              "      }\n",
              "      })();\n",
              "    </script>\n",
              "  </div>\n",
              "\n",
              "    </div>\n",
              "  </div>\n"
            ],
            "application/vnd.google.colaboratory.intrinsic+json": {
              "type": "dataframe",
              "variable_name": "df",
              "summary": "{\n  \"name\": \"df\",\n  \"rows\": 1120,\n  \"fields\": [\n    {\n      \"column\": \"GENDER\",\n      \"properties\": {\n        \"dtype\": \"number\",\n        \"std\": 0,\n        \"min\": 0,\n        \"max\": 1,\n        \"num_unique_values\": 2,\n        \"samples\": [\n          0,\n          1\n        ],\n        \"semantic_type\": \"\",\n        \"description\": \"\"\n      }\n    },\n    {\n      \"column\": \"AGE\",\n      \"properties\": {\n        \"dtype\": \"number\",\n        \"std\": 11,\n        \"min\": 20,\n        \"max\": 87,\n        \"num_unique_values\": 61,\n        \"samples\": [\n          69,\n          52\n        ],\n        \"semantic_type\": \"\",\n        \"description\": \"\"\n      }\n    },\n    {\n      \"column\": \"SMOKING_STATUS\",\n      \"properties\": {\n        \"dtype\": \"number\",\n        \"std\": 0,\n        \"min\": 1,\n        \"max\": 2,\n        \"num_unique_values\": 2,\n        \"samples\": [\n          2,\n          1\n        ],\n        \"semantic_type\": \"\",\n        \"description\": \"\"\n      }\n    },\n    {\n      \"column\": \"DAILY_CIGARETTES\",\n      \"properties\": {\n        \"dtype\": \"number\",\n        \"std\": 12,\n        \"min\": 0,\n        \"max\": 40,\n        \"num_unique_values\": 41,\n        \"samples\": [\n          35,\n          31\n        ],\n        \"semantic_type\": \"\",\n        \"description\": \"\"\n      }\n    },\n    {\n      \"column\": \"YELLOW_SKIN\",\n      \"properties\": {\n        \"dtype\": \"number\",\n        \"std\": 0,\n        \"min\": 1,\n        \"max\": 2,\n        \"num_unique_values\": 2,\n        \"samples\": [\n          1,\n          2\n        ],\n        \"semantic_type\": \"\",\n        \"description\": \"\"\n      }\n    },\n    {\n      \"column\": \"ANXIETY\",\n      \"properties\": {\n        \"dtype\": \"number\",\n        \"std\": 0,\n        \"min\": 1,\n        \"max\": 2,\n        \"num_unique_values\": 2,\n        \"samples\": [\n          1,\n          2\n        ],\n        \"semantic_type\": \"\",\n        \"description\": \"\"\n      }\n    },\n    {\n      \"column\": \"COPD_DIAGNOSES\",\n      \"properties\": {\n        \"dtype\": \"number\",\n        \"std\": 0,\n        \"min\": 1,\n        \"max\": 2,\n        \"num_unique_values\": 2,\n        \"samples\": [\n          2,\n          1\n        ],\n        \"semantic_type\": \"\",\n        \"description\": \"\"\n      }\n    },\n    {\n      \"column\": \"FATIGUE \",\n      \"properties\": {\n        \"dtype\": \"number\",\n        \"std\": 0,\n        \"min\": 1,\n        \"max\": 2,\n        \"num_unique_values\": 2,\n        \"samples\": [\n          1,\n          2\n        ],\n        \"semantic_type\": \"\",\n        \"description\": \"\"\n      }\n    },\n    {\n      \"column\": \"WHEEZING\",\n      \"properties\": {\n        \"dtype\": \"number\",\n        \"std\": 0,\n        \"min\": 1,\n        \"max\": 2,\n        \"num_unique_values\": 2,\n        \"samples\": [\n          1,\n          2\n        ],\n        \"semantic_type\": \"\",\n        \"description\": \"\"\n      }\n    },\n    {\n      \"column\": \"ALCOHOL_CONSUMPTION\",\n      \"properties\": {\n        \"dtype\": \"number\",\n        \"std\": 0,\n        \"min\": 1,\n        \"max\": 2,\n        \"num_unique_values\": 2,\n        \"samples\": [\n          1,\n          2\n        ],\n        \"semantic_type\": \"\",\n        \"description\": \"\"\n      }\n    },\n    {\n      \"column\": \"COUGHING\",\n      \"properties\": {\n        \"dtype\": \"number\",\n        \"std\": 0,\n        \"min\": 1,\n        \"max\": 2,\n        \"num_unique_values\": 2,\n        \"samples\": [\n          1,\n          2\n        ],\n        \"semantic_type\": \"\",\n        \"description\": \"\"\n      }\n    },\n    {\n      \"column\": \"SHORTNESS_OF_BREATH\",\n      \"properties\": {\n        \"dtype\": \"number\",\n        \"std\": 0,\n        \"min\": 1,\n        \"max\": 2,\n        \"num_unique_values\": 2,\n        \"samples\": [\n          1,\n          2\n        ],\n        \"semantic_type\": \"\",\n        \"description\": \"\"\n      }\n    },\n    {\n      \"column\": \"SWALLOWING_DIFFICULTY\",\n      \"properties\": {\n        \"dtype\": \"number\",\n        \"std\": 0,\n        \"min\": 1,\n        \"max\": 2,\n        \"num_unique_values\": 2,\n        \"samples\": [\n          1,\n          2\n        ],\n        \"semantic_type\": \"\",\n        \"description\": \"\"\n      }\n    },\n    {\n      \"column\": \"CHEST_PAIN\",\n      \"properties\": {\n        \"dtype\": \"number\",\n        \"std\": 0,\n        \"min\": 1,\n        \"max\": 2,\n        \"num_unique_values\": 2,\n        \"samples\": [\n          1,\n          2\n        ],\n        \"semantic_type\": \"\",\n        \"description\": \"\"\n      }\n    },\n    {\n      \"column\": \"LUNG_CANCER\",\n      \"properties\": {\n        \"dtype\": \"category\",\n        \"num_unique_values\": 5,\n        \"samples\": [\n          \"NO\",\n          \"nan\"\n        ],\n        \"semantic_type\": \"\",\n        \"description\": \"\"\n      }\n    }\n  ]\n}"
            }
          },
          "metadata": {},
          "execution_count": 30
        }
      ]
    },
    {
      "cell_type": "code",
      "source": [
        "df['LUNG_CANCER'].unique()"
      ],
      "metadata": {
        "colab": {
          "base_uri": "https://localhost:8080/"
        },
        "id": "l4vqOhI6yn5H",
        "outputId": "51391a9a-457f-4e43-df78-1544d5f4cbd2"
      },
      "execution_count": null,
      "outputs": [
        {
          "output_type": "execute_result",
          "data": {
            "text/plain": [
              "array(['YES', 'NO', 'Yes', 'No', 'nan'], dtype=object)"
            ]
          },
          "metadata": {},
          "execution_count": 31
        }
      ]
    },
    {
      "cell_type": "code",
      "source": [
        "\n",
        "# Convert to binary\n",
        "df['LUNG_CANCER'] = df['LUNG_CANCER'].str.strip().str.lower().map({'yes': 1, 'no': 0})\n",
        "\n",
        "# Handle NaN values (optional, here filling with the mode)\n",
        "df['LUNG_CANCER'].fillna(df['LUNG_CANCER'].mode()[0], inplace=True)\n",
        "df['LUNG_CANCER'] = df['LUNG_CANCER'].astype(int)"
      ],
      "metadata": {
        "id": "tExofunbzxHH"
      },
      "execution_count": null,
      "outputs": []
    },
    {
      "cell_type": "code",
      "source": [
        "df['LUNG_CANCER']"
      ],
      "metadata": {
        "id": "JbkAx__qvadt",
        "outputId": "a686c00f-d236-478c-c730-15f33c876130",
        "colab": {
          "base_uri": "https://localhost:8080/"
        }
      },
      "execution_count": null,
      "outputs": [
        {
          "output_type": "execute_result",
          "data": {
            "text/plain": [
              "0       1\n",
              "1       1\n",
              "2       0\n",
              "3       0\n",
              "4       0\n",
              "       ..\n",
              "1115    0\n",
              "1116    0\n",
              "1117    0\n",
              "1118    0\n",
              "1119    0\n",
              "Name: LUNG_CANCER, Length: 1120, dtype: int64"
            ]
          },
          "metadata": {},
          "execution_count": 33
        }
      ]
    },
    {
      "cell_type": "code",
      "source": [
        "df.info()"
      ],
      "metadata": {
        "colab": {
          "base_uri": "https://localhost:8080/"
        },
        "id": "b0IDcQGzz8Qq",
        "outputId": "6dd9db3b-c5ea-415d-9b6c-716fadaaeeca"
      },
      "execution_count": null,
      "outputs": [
        {
          "output_type": "stream",
          "name": "stdout",
          "text": [
            "<class 'pandas.core.frame.DataFrame'>\n",
            "RangeIndex: 1120 entries, 0 to 1119\n",
            "Data columns (total 15 columns):\n",
            " #   Column                 Non-Null Count  Dtype\n",
            "---  ------                 --------------  -----\n",
            " 0   GENDER                 1120 non-null   int64\n",
            " 1   AGE                    1120 non-null   int64\n",
            " 2   SMOKING_STATUS         1120 non-null   int64\n",
            " 3   DAILY_CIGARETTES       1120 non-null   int64\n",
            " 4   YELLOW_SKIN            1120 non-null   int64\n",
            " 5   ANXIETY                1120 non-null   int64\n",
            " 6   COPD_DIAGNOSES         1120 non-null   int64\n",
            " 7   FATIGUE                1120 non-null   int64\n",
            " 8   WHEEZING               1120 non-null   int64\n",
            " 9   ALCOHOL_CONSUMPTION    1120 non-null   int64\n",
            " 10  COUGHING               1120 non-null   int64\n",
            " 11  SHORTNESS_OF_BREATH    1120 non-null   int64\n",
            " 12  SWALLOWING_DIFFICULTY  1120 non-null   int64\n",
            " 13  CHEST_PAIN             1120 non-null   int64\n",
            " 14  LUNG_CANCER            1120 non-null   int64\n",
            "dtypes: int64(15)\n",
            "memory usage: 131.4 KB\n"
          ]
        }
      ]
    },
    {
      "cell_type": "code",
      "source": [
        "#saving the dataframe with the row index\n",
        "df.to_csv(r'/content/cleaned_lungCancerData.csv')\n"
      ],
      "metadata": {
        "id": "tOoU7lSa1tPt"
      },
      "execution_count": null,
      "outputs": []
    },
    {
      "cell_type": "code",
      "source": [
        "# saves the dataset without the raws indexes\n",
        "df.to_csv(r'/content/cleaned_lungCancerData1.csv', index=False)\n"
      ],
      "metadata": {
        "id": "7y6nDM-_2vHT"
      },
      "execution_count": null,
      "outputs": []
    },
    {
      "cell_type": "code",
      "source": [
        "newdf = df.copy()"
      ],
      "metadata": {
        "id": "vIr5nZca3Phx"
      },
      "execution_count": null,
      "outputs": []
    },
    {
      "cell_type": "markdown",
      "source": [
        "**DATA PREPROCESSING**"
      ],
      "metadata": {
        "id": "ce7z6Rw42Wf3"
      }
    },
    {
      "cell_type": "code",
      "source": [
        "from sklearn.preprocessing import StandardScaler\n",
        "#  Standard Scaling\n",
        "scaler = StandardScaler()\n",
        "newdf[['AGE', 'DAILY_CIGARETTES']] = scaler.fit_transform(df[['AGE', 'DAILY_CIGARETTES']])"
      ],
      "metadata": {
        "id": "hCc4ZdMi8LoE"
      },
      "execution_count": null,
      "outputs": []
    },
    {
      "cell_type": "code",
      "source": [
        "newdf['AGE']"
      ],
      "metadata": {
        "colab": {
          "base_uri": "https://localhost:8080/"
        },
        "id": "GxEC9kyS8gUq",
        "outputId": "5389a06e-d1d8-476b-d66c-f15d4b64d3bd"
      },
      "execution_count": null,
      "outputs": [
        {
          "output_type": "execute_result",
          "data": {
            "text/plain": [
              "0       0.798319\n",
              "1       1.230677\n",
              "2      -0.066398\n",
              "3       0.279489\n",
              "4       0.279489\n",
              "          ...   \n",
              "1115   -0.239341\n",
              "1116   -0.758171\n",
              "1117    0.452432\n",
              "1118   -0.239341\n",
              "1119   -3.438794\n",
              "Name: AGE, Length: 1120, dtype: float64"
            ]
          },
          "metadata": {},
          "execution_count": 39
        }
      ]
    },
    {
      "cell_type": "code",
      "source": [
        "newdf['AGE'].unique()"
      ],
      "metadata": {
        "colab": {
          "base_uri": "https://localhost:8080/"
        },
        "id": "VNuFFIcYk6XU",
        "outputId": "cb77c7b8-0dc8-4c7b-d0fc-95dfd22ff44c"
      },
      "execution_count": null,
      "outputs": [
        {
          "output_type": "execute_result",
          "data": {
            "text/plain": [
              "array([ 0.79831894,  1.23067736, -0.0663979 ,  0.27948884,  1.31714905,\n",
              "       -0.67169969, -0.75817137,  0.71184726, -0.58522801,  0.10654547,\n",
              "        1.05773399,  0.02007378, -0.15286958, -1.01758643, -0.23934127,\n",
              "       -1.36347316,  0.36596052, -3.3523219 ,  0.4524322 , -0.41228464,\n",
              "        0.19301715, -0.32581295,  0.62537557,  1.49009241,  0.88479063,\n",
              "       -0.49875632, -0.93111474,  1.14420568, -1.10405811,  0.97126231,\n",
              "        0.53890389,  1.40362073,  1.5765641 ,  1.83597915,  1.66303578,\n",
              "       -1.88230327, -1.79583158,  2.35480926, -1.19052979, -2.14171832,\n",
              "       -1.44994485, -2.74702011, -3.43879358, -3.26585021, -2.40113337,\n",
              "       -2.83349179, -1.7093599 , -1.96877495, -3.00643516, -1.27700148,\n",
              "       -2.66054842, -2.48760506, -2.05524664, -1.53641653, -2.22819   ,\n",
              "       -3.17937853, -2.57407674, -0.84464306, -2.31466169, -1.62288821,\n",
              "       -2.91996348])"
            ]
          },
          "metadata": {},
          "execution_count": 40
        }
      ]
    },
    {
      "cell_type": "code",
      "source": [
        "newdf['DAILY_CIGARETTES'].unique()"
      ],
      "metadata": {
        "colab": {
          "base_uri": "https://localhost:8080/"
        },
        "id": "8QH-EzDYmCa5",
        "outputId": "09b2c38c-433f-4b93-b135-b262c3492c65"
      },
      "execution_count": null,
      "outputs": [
        {
          "output_type": "execute_result",
          "data": {
            "text/plain": [
              "array([-0.81517276,  1.53039875,  0.80246277,  2.17745296, -0.16811855,\n",
              "        1.93480763,  0.64069921,  1.20687165, -0.49164565, -0.006355  ,\n",
              "        2.33921652,  1.85392586,  0.31717211,  1.69216231,  2.09657119,\n",
              "       -0.65340921,  1.77304408,  0.88334454,  0.23629033,  1.0451081 ,\n",
              "        2.42009829,  2.25833474, -0.57252743,  0.15540856,  2.01568941,\n",
              "       -0.3298821 ,  1.28775342,  0.39805388,  0.72158099, -0.73429098,\n",
              "        0.07452678,  1.61128053, -0.08723677, -0.41076388,  0.96422632,\n",
              "       -0.24900033,  1.12598987,  1.3686352 ,  1.44951698,  0.47893566,\n",
              "        0.55981744])"
            ]
          },
          "metadata": {},
          "execution_count": 41
        }
      ]
    },
    {
      "cell_type": "code",
      "source": [
        "newdf['DAILY_CIGARETTES'].isnull().sum()"
      ],
      "metadata": {
        "colab": {
          "base_uri": "https://localhost:8080/"
        },
        "id": "rXGtPMvHmQb_",
        "outputId": "592b78b7-f20f-473a-b4bf-7d2ef5ff9033"
      },
      "execution_count": null,
      "outputs": [
        {
          "output_type": "execute_result",
          "data": {
            "text/plain": [
              "0"
            ]
          },
          "metadata": {},
          "execution_count": 42
        }
      ]
    },
    {
      "cell_type": "code",
      "source": [
        "newdf['DAILY_CIGARETTES']"
      ],
      "metadata": {
        "colab": {
          "base_uri": "https://localhost:8080/"
        },
        "id": "6Ww71NY3mQLH",
        "outputId": "14e92776-8ea0-44c1-c6a3-aaa2459dd81b"
      },
      "execution_count": null,
      "outputs": [
        {
          "output_type": "execute_result",
          "data": {
            "text/plain": [
              "0      -0.815173\n",
              "1       1.530399\n",
              "2      -0.815173\n",
              "3       0.802463\n",
              "4      -0.815173\n",
              "          ...   \n",
              "1115   -0.815173\n",
              "1116    0.883345\n",
              "1117   -0.815173\n",
              "1118    0.883345\n",
              "1119   -0.815173\n",
              "Name: DAILY_CIGARETTES, Length: 1120, dtype: float64"
            ]
          },
          "metadata": {},
          "execution_count": 43
        }
      ]
    },
    {
      "cell_type": "markdown",
      "source": [
        "checks the correlation between the variables."
      ],
      "metadata": {
        "id": "0fxKk8Gacurj"
      }
    },
    {
      "cell_type": "code",
      "source": [
        "newdf.corr()"
      ],
      "metadata": {
        "colab": {
          "base_uri": "https://localhost:8080/",
          "height": 539
        },
        "id": "o97k7D9UGPUk",
        "outputId": "0e99f77d-403b-4d42-f0e9-de03e72d855a"
      },
      "execution_count": null,
      "outputs": [
        {
          "output_type": "execute_result",
          "data": {
            "text/plain": [
              "                         GENDER       AGE  SMOKING_STATUS  DAILY_CIGARETTES  \\\n",
              "GENDER                 1.000000  0.041719        0.039998          0.033161   \n",
              "AGE                    0.041719  1.000000       -0.017969          0.045670   \n",
              "SMOKING_STATUS         0.039998 -0.017969        1.000000          0.736022   \n",
              "DAILY_CIGARETTES       0.033161  0.045670        0.736022          1.000000   \n",
              "YELLOW_SKIN           -0.173816  0.034614       -0.015946          0.014946   \n",
              "ANXIETY               -0.095588  0.040602        0.148857          0.127652   \n",
              "COPD_DIAGNOSES        -0.180548  0.000312       -0.128062         -0.097087   \n",
              "FATIGUE               -0.056015  0.095914       -0.010400          0.011858   \n",
              "WHEEZING               0.110455  0.066482       -0.101888         -0.062141   \n",
              "ALCOHOL_CONSUMPTION    0.374606  0.071748       -0.032122         -0.018363   \n",
              "COUGHING               0.115567  0.115901       -0.106417         -0.082216   \n",
              "SHORTNESS_OF_BREATH   -0.061608  0.047504        0.047572          0.048342   \n",
              "SWALLOWING_DIFFICULTY -0.055817 -0.024814        0.028487          0.056428   \n",
              "CHEST_PAIN             0.297187 -0.012193        0.103044          0.081964   \n",
              "LUNG_CANCER            0.154360  0.246397        0.059623          0.087846   \n",
              "\n",
              "                       YELLOW_SKIN   ANXIETY  COPD_DIAGNOSES  FATIGUE   \\\n",
              "GENDER                   -0.173816 -0.095588       -0.180548 -0.056015   \n",
              "AGE                       0.034614  0.040602        0.000312  0.095914   \n",
              "SMOKING_STATUS           -0.015946  0.148857       -0.128062 -0.010400   \n",
              "DAILY_CIGARETTES          0.014946  0.127652       -0.097087  0.011858   \n",
              "YELLOW_SKIN               1.000000  0.462447        0.015193 -0.094060   \n",
              "ANXIETY                   0.462447  1.000000       -0.028210 -0.166240   \n",
              "COPD_DIAGNOSES            0.015193 -0.028210        1.000000 -0.073441   \n",
              "FATIGUE                  -0.094060 -0.166240       -0.073441  1.000000   \n",
              "WHEEZING                 -0.053237 -0.158136       -0.021990  0.127282   \n",
              "ALCOHOL_CONSUMPTION      -0.261837 -0.131205       -0.005967 -0.148486   \n",
              "COUGHING                  0.010724 -0.169047       -0.160031  0.112862   \n",
              "SHORTNESS_OF_BREATH      -0.087108 -0.136068       -0.017115  0.367279   \n",
              "SWALLOWING_DIFFICULTY     0.306781  0.394383        0.081642 -0.102877   \n",
              "CHEST_PAIN               -0.097542 -0.111449       -0.014989 -0.001580   \n",
              "LUNG_CANCER               0.127489  0.126910        0.069927  0.177803   \n",
              "\n",
              "                       WHEEZING  ALCOHOL_CONSUMPTION  COUGHING  \\\n",
              "GENDER                 0.110455             0.374606  0.115567   \n",
              "AGE                    0.066482             0.071748  0.115901   \n",
              "SMOKING_STATUS        -0.101888            -0.032122 -0.106417   \n",
              "DAILY_CIGARETTES      -0.062141            -0.018363 -0.082216   \n",
              "YELLOW_SKIN           -0.053237            -0.261837  0.010724   \n",
              "ANXIETY               -0.158136            -0.131205 -0.169047   \n",
              "COPD_DIAGNOSES        -0.021990            -0.005967 -0.160031   \n",
              "FATIGUE                0.127282            -0.148486  0.112862   \n",
              "WHEEZING               1.000000             0.204697  0.301813   \n",
              "ALCOHOL_CONSUMPTION    0.204697             1.000000  0.165353   \n",
              "COUGHING               0.301813             0.165353  1.000000   \n",
              "SHORTNESS_OF_BREATH    0.024848            -0.145326  0.215785   \n",
              "SWALLOWING_DIFFICULTY  0.073110            -0.003864 -0.137514   \n",
              "CHEST_PAIN             0.080101             0.279909  0.076343   \n",
              "LUNG_CANCER            0.192401             0.208722  0.181142   \n",
              "\n",
              "                       SHORTNESS_OF_BREATH  SWALLOWING_DIFFICULTY  CHEST_PAIN  \\\n",
              "GENDER                           -0.061608              -0.055817    0.297187   \n",
              "AGE                               0.047504              -0.024814   -0.012193   \n",
              "SMOKING_STATUS                    0.047572               0.028487    0.103044   \n",
              "DAILY_CIGARETTES                  0.048342               0.056428    0.081964   \n",
              "YELLOW_SKIN                      -0.087108               0.306781   -0.097542   \n",
              "ANXIETY                          -0.136068               0.394383   -0.111449   \n",
              "COPD_DIAGNOSES                   -0.017115               0.081642   -0.014989   \n",
              "FATIGUE                           0.367279              -0.102877   -0.001580   \n",
              "WHEEZING                          0.024848               0.073110    0.080101   \n",
              "ALCOHOL_CONSUMPTION              -0.145326              -0.003864    0.279909   \n",
              "COUGHING                          0.215785              -0.137514    0.076343   \n",
              "SHORTNESS_OF_BREATH               1.000000              -0.136620    0.022997   \n",
              "SWALLOWING_DIFFICULTY            -0.136620               1.000000    0.044761   \n",
              "CHEST_PAIN                        0.022997               0.044761    1.000000   \n",
              "LUNG_CANCER                       0.063610               0.173261    0.141863   \n",
              "\n",
              "                       LUNG_CANCER  \n",
              "GENDER                    0.154360  \n",
              "AGE                       0.246397  \n",
              "SMOKING_STATUS            0.059623  \n",
              "DAILY_CIGARETTES          0.087846  \n",
              "YELLOW_SKIN               0.127489  \n",
              "ANXIETY                   0.126910  \n",
              "COPD_DIAGNOSES            0.069927  \n",
              "FATIGUE                   0.177803  \n",
              "WHEEZING                  0.192401  \n",
              "ALCOHOL_CONSUMPTION       0.208722  \n",
              "COUGHING                  0.181142  \n",
              "SHORTNESS_OF_BREATH       0.063610  \n",
              "SWALLOWING_DIFFICULTY     0.173261  \n",
              "CHEST_PAIN                0.141863  \n",
              "LUNG_CANCER               1.000000  "
            ],
            "text/html": [
              "\n",
              "  <div id=\"df-b69eb98a-f05e-4ab9-8b3d-88a4a9149ed2\" class=\"colab-df-container\">\n",
              "    <div>\n",
              "<style scoped>\n",
              "    .dataframe tbody tr th:only-of-type {\n",
              "        vertical-align: middle;\n",
              "    }\n",
              "\n",
              "    .dataframe tbody tr th {\n",
              "        vertical-align: top;\n",
              "    }\n",
              "\n",
              "    .dataframe thead th {\n",
              "        text-align: right;\n",
              "    }\n",
              "</style>\n",
              "<table border=\"1\" class=\"dataframe\">\n",
              "  <thead>\n",
              "    <tr style=\"text-align: right;\">\n",
              "      <th></th>\n",
              "      <th>GENDER</th>\n",
              "      <th>AGE</th>\n",
              "      <th>SMOKING_STATUS</th>\n",
              "      <th>DAILY_CIGARETTES</th>\n",
              "      <th>YELLOW_SKIN</th>\n",
              "      <th>ANXIETY</th>\n",
              "      <th>COPD_DIAGNOSES</th>\n",
              "      <th>FATIGUE</th>\n",
              "      <th>WHEEZING</th>\n",
              "      <th>ALCOHOL_CONSUMPTION</th>\n",
              "      <th>COUGHING</th>\n",
              "      <th>SHORTNESS_OF_BREATH</th>\n",
              "      <th>SWALLOWING_DIFFICULTY</th>\n",
              "      <th>CHEST_PAIN</th>\n",
              "      <th>LUNG_CANCER</th>\n",
              "    </tr>\n",
              "  </thead>\n",
              "  <tbody>\n",
              "    <tr>\n",
              "      <th>GENDER</th>\n",
              "      <td>1.000000</td>\n",
              "      <td>0.041719</td>\n",
              "      <td>0.039998</td>\n",
              "      <td>0.033161</td>\n",
              "      <td>-0.173816</td>\n",
              "      <td>-0.095588</td>\n",
              "      <td>-0.180548</td>\n",
              "      <td>-0.056015</td>\n",
              "      <td>0.110455</td>\n",
              "      <td>0.374606</td>\n",
              "      <td>0.115567</td>\n",
              "      <td>-0.061608</td>\n",
              "      <td>-0.055817</td>\n",
              "      <td>0.297187</td>\n",
              "      <td>0.154360</td>\n",
              "    </tr>\n",
              "    <tr>\n",
              "      <th>AGE</th>\n",
              "      <td>0.041719</td>\n",
              "      <td>1.000000</td>\n",
              "      <td>-0.017969</td>\n",
              "      <td>0.045670</td>\n",
              "      <td>0.034614</td>\n",
              "      <td>0.040602</td>\n",
              "      <td>0.000312</td>\n",
              "      <td>0.095914</td>\n",
              "      <td>0.066482</td>\n",
              "      <td>0.071748</td>\n",
              "      <td>0.115901</td>\n",
              "      <td>0.047504</td>\n",
              "      <td>-0.024814</td>\n",
              "      <td>-0.012193</td>\n",
              "      <td>0.246397</td>\n",
              "    </tr>\n",
              "    <tr>\n",
              "      <th>SMOKING_STATUS</th>\n",
              "      <td>0.039998</td>\n",
              "      <td>-0.017969</td>\n",
              "      <td>1.000000</td>\n",
              "      <td>0.736022</td>\n",
              "      <td>-0.015946</td>\n",
              "      <td>0.148857</td>\n",
              "      <td>-0.128062</td>\n",
              "      <td>-0.010400</td>\n",
              "      <td>-0.101888</td>\n",
              "      <td>-0.032122</td>\n",
              "      <td>-0.106417</td>\n",
              "      <td>0.047572</td>\n",
              "      <td>0.028487</td>\n",
              "      <td>0.103044</td>\n",
              "      <td>0.059623</td>\n",
              "    </tr>\n",
              "    <tr>\n",
              "      <th>DAILY_CIGARETTES</th>\n",
              "      <td>0.033161</td>\n",
              "      <td>0.045670</td>\n",
              "      <td>0.736022</td>\n",
              "      <td>1.000000</td>\n",
              "      <td>0.014946</td>\n",
              "      <td>0.127652</td>\n",
              "      <td>-0.097087</td>\n",
              "      <td>0.011858</td>\n",
              "      <td>-0.062141</td>\n",
              "      <td>-0.018363</td>\n",
              "      <td>-0.082216</td>\n",
              "      <td>0.048342</td>\n",
              "      <td>0.056428</td>\n",
              "      <td>0.081964</td>\n",
              "      <td>0.087846</td>\n",
              "    </tr>\n",
              "    <tr>\n",
              "      <th>YELLOW_SKIN</th>\n",
              "      <td>-0.173816</td>\n",
              "      <td>0.034614</td>\n",
              "      <td>-0.015946</td>\n",
              "      <td>0.014946</td>\n",
              "      <td>1.000000</td>\n",
              "      <td>0.462447</td>\n",
              "      <td>0.015193</td>\n",
              "      <td>-0.094060</td>\n",
              "      <td>-0.053237</td>\n",
              "      <td>-0.261837</td>\n",
              "      <td>0.010724</td>\n",
              "      <td>-0.087108</td>\n",
              "      <td>0.306781</td>\n",
              "      <td>-0.097542</td>\n",
              "      <td>0.127489</td>\n",
              "    </tr>\n",
              "    <tr>\n",
              "      <th>ANXIETY</th>\n",
              "      <td>-0.095588</td>\n",
              "      <td>0.040602</td>\n",
              "      <td>0.148857</td>\n",
              "      <td>0.127652</td>\n",
              "      <td>0.462447</td>\n",
              "      <td>1.000000</td>\n",
              "      <td>-0.028210</td>\n",
              "      <td>-0.166240</td>\n",
              "      <td>-0.158136</td>\n",
              "      <td>-0.131205</td>\n",
              "      <td>-0.169047</td>\n",
              "      <td>-0.136068</td>\n",
              "      <td>0.394383</td>\n",
              "      <td>-0.111449</td>\n",
              "      <td>0.126910</td>\n",
              "    </tr>\n",
              "    <tr>\n",
              "      <th>COPD_DIAGNOSES</th>\n",
              "      <td>-0.180548</td>\n",
              "      <td>0.000312</td>\n",
              "      <td>-0.128062</td>\n",
              "      <td>-0.097087</td>\n",
              "      <td>0.015193</td>\n",
              "      <td>-0.028210</td>\n",
              "      <td>1.000000</td>\n",
              "      <td>-0.073441</td>\n",
              "      <td>-0.021990</td>\n",
              "      <td>-0.005967</td>\n",
              "      <td>-0.160031</td>\n",
              "      <td>-0.017115</td>\n",
              "      <td>0.081642</td>\n",
              "      <td>-0.014989</td>\n",
              "      <td>0.069927</td>\n",
              "    </tr>\n",
              "    <tr>\n",
              "      <th>FATIGUE</th>\n",
              "      <td>-0.056015</td>\n",
              "      <td>0.095914</td>\n",
              "      <td>-0.010400</td>\n",
              "      <td>0.011858</td>\n",
              "      <td>-0.094060</td>\n",
              "      <td>-0.166240</td>\n",
              "      <td>-0.073441</td>\n",
              "      <td>1.000000</td>\n",
              "      <td>0.127282</td>\n",
              "      <td>-0.148486</td>\n",
              "      <td>0.112862</td>\n",
              "      <td>0.367279</td>\n",
              "      <td>-0.102877</td>\n",
              "      <td>-0.001580</td>\n",
              "      <td>0.177803</td>\n",
              "    </tr>\n",
              "    <tr>\n",
              "      <th>WHEEZING</th>\n",
              "      <td>0.110455</td>\n",
              "      <td>0.066482</td>\n",
              "      <td>-0.101888</td>\n",
              "      <td>-0.062141</td>\n",
              "      <td>-0.053237</td>\n",
              "      <td>-0.158136</td>\n",
              "      <td>-0.021990</td>\n",
              "      <td>0.127282</td>\n",
              "      <td>1.000000</td>\n",
              "      <td>0.204697</td>\n",
              "      <td>0.301813</td>\n",
              "      <td>0.024848</td>\n",
              "      <td>0.073110</td>\n",
              "      <td>0.080101</td>\n",
              "      <td>0.192401</td>\n",
              "    </tr>\n",
              "    <tr>\n",
              "      <th>ALCOHOL_CONSUMPTION</th>\n",
              "      <td>0.374606</td>\n",
              "      <td>0.071748</td>\n",
              "      <td>-0.032122</td>\n",
              "      <td>-0.018363</td>\n",
              "      <td>-0.261837</td>\n",
              "      <td>-0.131205</td>\n",
              "      <td>-0.005967</td>\n",
              "      <td>-0.148486</td>\n",
              "      <td>0.204697</td>\n",
              "      <td>1.000000</td>\n",
              "      <td>0.165353</td>\n",
              "      <td>-0.145326</td>\n",
              "      <td>-0.003864</td>\n",
              "      <td>0.279909</td>\n",
              "      <td>0.208722</td>\n",
              "    </tr>\n",
              "    <tr>\n",
              "      <th>COUGHING</th>\n",
              "      <td>0.115567</td>\n",
              "      <td>0.115901</td>\n",
              "      <td>-0.106417</td>\n",
              "      <td>-0.082216</td>\n",
              "      <td>0.010724</td>\n",
              "      <td>-0.169047</td>\n",
              "      <td>-0.160031</td>\n",
              "      <td>0.112862</td>\n",
              "      <td>0.301813</td>\n",
              "      <td>0.165353</td>\n",
              "      <td>1.000000</td>\n",
              "      <td>0.215785</td>\n",
              "      <td>-0.137514</td>\n",
              "      <td>0.076343</td>\n",
              "      <td>0.181142</td>\n",
              "    </tr>\n",
              "    <tr>\n",
              "      <th>SHORTNESS_OF_BREATH</th>\n",
              "      <td>-0.061608</td>\n",
              "      <td>0.047504</td>\n",
              "      <td>0.047572</td>\n",
              "      <td>0.048342</td>\n",
              "      <td>-0.087108</td>\n",
              "      <td>-0.136068</td>\n",
              "      <td>-0.017115</td>\n",
              "      <td>0.367279</td>\n",
              "      <td>0.024848</td>\n",
              "      <td>-0.145326</td>\n",
              "      <td>0.215785</td>\n",
              "      <td>1.000000</td>\n",
              "      <td>-0.136620</td>\n",
              "      <td>0.022997</td>\n",
              "      <td>0.063610</td>\n",
              "    </tr>\n",
              "    <tr>\n",
              "      <th>SWALLOWING_DIFFICULTY</th>\n",
              "      <td>-0.055817</td>\n",
              "      <td>-0.024814</td>\n",
              "      <td>0.028487</td>\n",
              "      <td>0.056428</td>\n",
              "      <td>0.306781</td>\n",
              "      <td>0.394383</td>\n",
              "      <td>0.081642</td>\n",
              "      <td>-0.102877</td>\n",
              "      <td>0.073110</td>\n",
              "      <td>-0.003864</td>\n",
              "      <td>-0.137514</td>\n",
              "      <td>-0.136620</td>\n",
              "      <td>1.000000</td>\n",
              "      <td>0.044761</td>\n",
              "      <td>0.173261</td>\n",
              "    </tr>\n",
              "    <tr>\n",
              "      <th>CHEST_PAIN</th>\n",
              "      <td>0.297187</td>\n",
              "      <td>-0.012193</td>\n",
              "      <td>0.103044</td>\n",
              "      <td>0.081964</td>\n",
              "      <td>-0.097542</td>\n",
              "      <td>-0.111449</td>\n",
              "      <td>-0.014989</td>\n",
              "      <td>-0.001580</td>\n",
              "      <td>0.080101</td>\n",
              "      <td>0.279909</td>\n",
              "      <td>0.076343</td>\n",
              "      <td>0.022997</td>\n",
              "      <td>0.044761</td>\n",
              "      <td>1.000000</td>\n",
              "      <td>0.141863</td>\n",
              "    </tr>\n",
              "    <tr>\n",
              "      <th>LUNG_CANCER</th>\n",
              "      <td>0.154360</td>\n",
              "      <td>0.246397</td>\n",
              "      <td>0.059623</td>\n",
              "      <td>0.087846</td>\n",
              "      <td>0.127489</td>\n",
              "      <td>0.126910</td>\n",
              "      <td>0.069927</td>\n",
              "      <td>0.177803</td>\n",
              "      <td>0.192401</td>\n",
              "      <td>0.208722</td>\n",
              "      <td>0.181142</td>\n",
              "      <td>0.063610</td>\n",
              "      <td>0.173261</td>\n",
              "      <td>0.141863</td>\n",
              "      <td>1.000000</td>\n",
              "    </tr>\n",
              "  </tbody>\n",
              "</table>\n",
              "</div>\n",
              "    <div class=\"colab-df-buttons\">\n",
              "\n",
              "  <div class=\"colab-df-container\">\n",
              "    <button class=\"colab-df-convert\" onclick=\"convertToInteractive('df-b69eb98a-f05e-4ab9-8b3d-88a4a9149ed2')\"\n",
              "            title=\"Convert this dataframe to an interactive table.\"\n",
              "            style=\"display:none;\">\n",
              "\n",
              "  <svg xmlns=\"http://www.w3.org/2000/svg\" height=\"24px\" viewBox=\"0 -960 960 960\">\n",
              "    <path d=\"M120-120v-720h720v720H120Zm60-500h600v-160H180v160Zm220 220h160v-160H400v160Zm0 220h160v-160H400v160ZM180-400h160v-160H180v160Zm440 0h160v-160H620v160ZM180-180h160v-160H180v160Zm440 0h160v-160H620v160Z\"/>\n",
              "  </svg>\n",
              "    </button>\n",
              "\n",
              "  <style>\n",
              "    .colab-df-container {\n",
              "      display:flex;\n",
              "      gap: 12px;\n",
              "    }\n",
              "\n",
              "    .colab-df-convert {\n",
              "      background-color: #E8F0FE;\n",
              "      border: none;\n",
              "      border-radius: 50%;\n",
              "      cursor: pointer;\n",
              "      display: none;\n",
              "      fill: #1967D2;\n",
              "      height: 32px;\n",
              "      padding: 0 0 0 0;\n",
              "      width: 32px;\n",
              "    }\n",
              "\n",
              "    .colab-df-convert:hover {\n",
              "      background-color: #E2EBFA;\n",
              "      box-shadow: 0px 1px 2px rgba(60, 64, 67, 0.3), 0px 1px 3px 1px rgba(60, 64, 67, 0.15);\n",
              "      fill: #174EA6;\n",
              "    }\n",
              "\n",
              "    .colab-df-buttons div {\n",
              "      margin-bottom: 4px;\n",
              "    }\n",
              "\n",
              "    [theme=dark] .colab-df-convert {\n",
              "      background-color: #3B4455;\n",
              "      fill: #D2E3FC;\n",
              "    }\n",
              "\n",
              "    [theme=dark] .colab-df-convert:hover {\n",
              "      background-color: #434B5C;\n",
              "      box-shadow: 0px 1px 3px 1px rgba(0, 0, 0, 0.15);\n",
              "      filter: drop-shadow(0px 1px 2px rgba(0, 0, 0, 0.3));\n",
              "      fill: #FFFFFF;\n",
              "    }\n",
              "  </style>\n",
              "\n",
              "    <script>\n",
              "      const buttonEl =\n",
              "        document.querySelector('#df-b69eb98a-f05e-4ab9-8b3d-88a4a9149ed2 button.colab-df-convert');\n",
              "      buttonEl.style.display =\n",
              "        google.colab.kernel.accessAllowed ? 'block' : 'none';\n",
              "\n",
              "      async function convertToInteractive(key) {\n",
              "        const element = document.querySelector('#df-b69eb98a-f05e-4ab9-8b3d-88a4a9149ed2');\n",
              "        const dataTable =\n",
              "          await google.colab.kernel.invokeFunction('convertToInteractive',\n",
              "                                                    [key], {});\n",
              "        if (!dataTable) return;\n",
              "\n",
              "        const docLinkHtml = 'Like what you see? Visit the ' +\n",
              "          '<a target=\"_blank\" href=https://colab.research.google.com/notebooks/data_table.ipynb>data table notebook</a>'\n",
              "          + ' to learn more about interactive tables.';\n",
              "        element.innerHTML = '';\n",
              "        dataTable['output_type'] = 'display_data';\n",
              "        await google.colab.output.renderOutput(dataTable, element);\n",
              "        const docLink = document.createElement('div');\n",
              "        docLink.innerHTML = docLinkHtml;\n",
              "        element.appendChild(docLink);\n",
              "      }\n",
              "    </script>\n",
              "  </div>\n",
              "\n",
              "\n",
              "<div id=\"df-f6309925-a5b7-4d55-b8f2-5d9d102fb3f2\">\n",
              "  <button class=\"colab-df-quickchart\" onclick=\"quickchart('df-f6309925-a5b7-4d55-b8f2-5d9d102fb3f2')\"\n",
              "            title=\"Suggest charts\"\n",
              "            style=\"display:none;\">\n",
              "\n",
              "<svg xmlns=\"http://www.w3.org/2000/svg\" height=\"24px\"viewBox=\"0 0 24 24\"\n",
              "     width=\"24px\">\n",
              "    <g>\n",
              "        <path d=\"M19 3H5c-1.1 0-2 .9-2 2v14c0 1.1.9 2 2 2h14c1.1 0 2-.9 2-2V5c0-1.1-.9-2-2-2zM9 17H7v-7h2v7zm4 0h-2V7h2v10zm4 0h-2v-4h2v4z\"/>\n",
              "    </g>\n",
              "</svg>\n",
              "  </button>\n",
              "\n",
              "<style>\n",
              "  .colab-df-quickchart {\n",
              "      --bg-color: #E8F0FE;\n",
              "      --fill-color: #1967D2;\n",
              "      --hover-bg-color: #E2EBFA;\n",
              "      --hover-fill-color: #174EA6;\n",
              "      --disabled-fill-color: #AAA;\n",
              "      --disabled-bg-color: #DDD;\n",
              "  }\n",
              "\n",
              "  [theme=dark] .colab-df-quickchart {\n",
              "      --bg-color: #3B4455;\n",
              "      --fill-color: #D2E3FC;\n",
              "      --hover-bg-color: #434B5C;\n",
              "      --hover-fill-color: #FFFFFF;\n",
              "      --disabled-bg-color: #3B4455;\n",
              "      --disabled-fill-color: #666;\n",
              "  }\n",
              "\n",
              "  .colab-df-quickchart {\n",
              "    background-color: var(--bg-color);\n",
              "    border: none;\n",
              "    border-radius: 50%;\n",
              "    cursor: pointer;\n",
              "    display: none;\n",
              "    fill: var(--fill-color);\n",
              "    height: 32px;\n",
              "    padding: 0;\n",
              "    width: 32px;\n",
              "  }\n",
              "\n",
              "  .colab-df-quickchart:hover {\n",
              "    background-color: var(--hover-bg-color);\n",
              "    box-shadow: 0 1px 2px rgba(60, 64, 67, 0.3), 0 1px 3px 1px rgba(60, 64, 67, 0.15);\n",
              "    fill: var(--button-hover-fill-color);\n",
              "  }\n",
              "\n",
              "  .colab-df-quickchart-complete:disabled,\n",
              "  .colab-df-quickchart-complete:disabled:hover {\n",
              "    background-color: var(--disabled-bg-color);\n",
              "    fill: var(--disabled-fill-color);\n",
              "    box-shadow: none;\n",
              "  }\n",
              "\n",
              "  .colab-df-spinner {\n",
              "    border: 2px solid var(--fill-color);\n",
              "    border-color: transparent;\n",
              "    border-bottom-color: var(--fill-color);\n",
              "    animation:\n",
              "      spin 1s steps(1) infinite;\n",
              "  }\n",
              "\n",
              "  @keyframes spin {\n",
              "    0% {\n",
              "      border-color: transparent;\n",
              "      border-bottom-color: var(--fill-color);\n",
              "      border-left-color: var(--fill-color);\n",
              "    }\n",
              "    20% {\n",
              "      border-color: transparent;\n",
              "      border-left-color: var(--fill-color);\n",
              "      border-top-color: var(--fill-color);\n",
              "    }\n",
              "    30% {\n",
              "      border-color: transparent;\n",
              "      border-left-color: var(--fill-color);\n",
              "      border-top-color: var(--fill-color);\n",
              "      border-right-color: var(--fill-color);\n",
              "    }\n",
              "    40% {\n",
              "      border-color: transparent;\n",
              "      border-right-color: var(--fill-color);\n",
              "      border-top-color: var(--fill-color);\n",
              "    }\n",
              "    60% {\n",
              "      border-color: transparent;\n",
              "      border-right-color: var(--fill-color);\n",
              "    }\n",
              "    80% {\n",
              "      border-color: transparent;\n",
              "      border-right-color: var(--fill-color);\n",
              "      border-bottom-color: var(--fill-color);\n",
              "    }\n",
              "    90% {\n",
              "      border-color: transparent;\n",
              "      border-bottom-color: var(--fill-color);\n",
              "    }\n",
              "  }\n",
              "</style>\n",
              "\n",
              "  <script>\n",
              "    async function quickchart(key) {\n",
              "      const quickchartButtonEl =\n",
              "        document.querySelector('#' + key + ' button');\n",
              "      quickchartButtonEl.disabled = true;  // To prevent multiple clicks.\n",
              "      quickchartButtonEl.classList.add('colab-df-spinner');\n",
              "      try {\n",
              "        const charts = await google.colab.kernel.invokeFunction(\n",
              "            'suggestCharts', [key], {});\n",
              "      } catch (error) {\n",
              "        console.error('Error during call to suggestCharts:', error);\n",
              "      }\n",
              "      quickchartButtonEl.classList.remove('colab-df-spinner');\n",
              "      quickchartButtonEl.classList.add('colab-df-quickchart-complete');\n",
              "    }\n",
              "    (() => {\n",
              "      let quickchartButtonEl =\n",
              "        document.querySelector('#df-f6309925-a5b7-4d55-b8f2-5d9d102fb3f2 button');\n",
              "      quickchartButtonEl.style.display =\n",
              "        google.colab.kernel.accessAllowed ? 'block' : 'none';\n",
              "    })();\n",
              "  </script>\n",
              "</div>\n",
              "\n",
              "    </div>\n",
              "  </div>\n"
            ],
            "application/vnd.google.colaboratory.intrinsic+json": {
              "type": "dataframe",
              "summary": "{\n  \"name\": \"newdf\",\n  \"rows\": 15,\n  \"fields\": [\n    {\n      \"column\": \"GENDER\",\n      \"properties\": {\n        \"dtype\": \"number\",\n        \"std\": 0.2934534548494025,\n        \"min\": -0.1805482956800252,\n        \"max\": 1.0,\n        \"num_unique_values\": 15,\n        \"samples\": [\n          0.37460617769652327,\n          -0.06160809514192786,\n          1.0\n        ],\n        \"semantic_type\": \"\",\n        \"description\": \"\"\n      }\n    },\n    {\n      \"column\": \"AGE\",\n      \"properties\": {\n        \"dtype\": \"number\",\n        \"std\": 0.25330975132611777,\n        \"min\": -0.024814439791288948,\n        \"max\": 1.0,\n        \"num_unique_values\": 15,\n        \"samples\": [\n          0.0717476176803027,\n          0.04750437626897693,\n          0.04171944627078074\n        ],\n        \"semantic_type\": \"\",\n        \"description\": \"\"\n      }\n    },\n    {\n      \"column\": \"SMOKING_STATUS\",\n      \"properties\": {\n        \"dtype\": \"number\",\n        \"std\": 0.31827713048389533,\n        \"min\": -0.12806232591513203,\n        \"max\": 1.0,\n        \"num_unique_values\": 15,\n        \"samples\": [\n          -0.03212169446852109,\n          0.04757212654492486,\n          0.03999812640745232\n        ],\n        \"semantic_type\": \"\",\n        \"description\": \"\"\n      }\n    },\n    {\n      \"column\": \"DAILY_CIGARETTES\",\n      \"properties\": {\n        \"dtype\": \"number\",\n        \"std\": 0.309316671978906,\n        \"min\": -0.09708739041940391,\n        \"max\": 1.0,\n        \"num_unique_values\": 15,\n        \"samples\": [\n          -0.018362891058561162,\n          0.04834196941584607,\n          0.03316074043596206\n        ],\n        \"semantic_type\": \"\",\n        \"description\": \"\"\n      }\n    },\n    {\n      \"column\": \"YELLOW_SKIN\",\n      \"properties\": {\n        \"dtype\": \"number\",\n        \"std\": 0.31163266550713165,\n        \"min\": -0.2618374088494432,\n        \"max\": 1.0,\n        \"num_unique_values\": 15,\n        \"samples\": [\n          -0.2618374088494432,\n          -0.08710767472623739,\n          -0.1738162905057115\n        ],\n        \"semantic_type\": \"\",\n        \"description\": \"\"\n      }\n    },\n    {\n      \"column\": \"ANXIETY\",\n      \"properties\": {\n        \"dtype\": \"number\",\n        \"std\": 0.32197910624948545,\n        \"min\": -0.16904738941722533,\n        \"max\": 1.0,\n        \"num_unique_values\": 15,\n        \"samples\": [\n          -0.1312053077717606,\n          -0.13606845319053923,\n          -0.09558789725618812\n        ],\n        \"semantic_type\": \"\",\n        \"description\": \"\"\n      }\n    },\n    {\n      \"column\": \"COPD_DIAGNOSES\",\n      \"properties\": {\n        \"dtype\": \"number\",\n        \"std\": 0.2790494941867589,\n        \"min\": -0.1805482956800252,\n        \"max\": 1.0,\n        \"num_unique_values\": 15,\n        \"samples\": [\n          -0.005966900892017194,\n          -0.017115174365043798,\n          -0.1805482956800252\n        ],\n        \"semantic_type\": \"\",\n        \"description\": \"\"\n      }\n    },\n    {\n      \"column\": \"FATIGUE \",\n      \"properties\": {\n        \"dtype\": \"number\",\n        \"std\": 0.2903265923800234,\n        \"min\": -0.16624033737688057,\n        \"max\": 1.0,\n        \"num_unique_values\": 15,\n        \"samples\": [\n          -0.1484862995482345,\n          0.3672790576385951,\n          -0.05601487212306677\n        ],\n        \"semantic_type\": \"\",\n        \"description\": \"\"\n      }\n    },\n    {\n      \"column\": \"WHEEZING\",\n      \"properties\": {\n        \"dtype\": \"number\",\n        \"std\": 0.273293246544718,\n        \"min\": -0.15813608406837937,\n        \"max\": 1.0,\n        \"num_unique_values\": 15,\n        \"samples\": [\n          0.20469702718020072,\n          0.024847522676370814,\n          0.11045521809894303\n        ],\n        \"semantic_type\": \"\",\n        \"description\": \"\"\n      }\n    },\n    {\n      \"column\": \"ALCOHOL_CONSUMPTION\",\n      \"properties\": {\n        \"dtype\": \"number\",\n        \"std\": 0.3053334222471965,\n        \"min\": -0.2618374088494432,\n        \"max\": 1.0,\n        \"num_unique_values\": 15,\n        \"samples\": [\n          1.0,\n          -0.14532633825883656,\n          0.37460617769652327\n        ],\n        \"semantic_type\": \"\",\n        \"description\": \"\"\n      }\n    },\n    {\n      \"column\": \"COUGHING\",\n      \"properties\": {\n        \"dtype\": \"number\",\n        \"std\": 0.2872399306353668,\n        \"min\": -0.16904738941722533,\n        \"max\": 1.0,\n        \"num_unique_values\": 15,\n        \"samples\": [\n          0.16535261705395285,\n          0.21578455506077948,\n          0.11556686091096165\n        ],\n        \"semantic_type\": \"\",\n        \"description\": \"\"\n      }\n    },\n    {\n      \"column\": \"SHORTNESS_OF_BREATH\",\n      \"properties\": {\n        \"dtype\": \"number\",\n        \"std\": 0.28767942303971433,\n        \"min\": -0.14532633825883656,\n        \"max\": 1.0,\n        \"num_unique_values\": 15,\n        \"samples\": [\n          -0.14532633825883656,\n          1.0,\n          -0.06160809514192786\n        ],\n        \"semantic_type\": \"\",\n        \"description\": \"\"\n      }\n    },\n    {\n      \"column\": \"SWALLOWING_DIFFICULTY\",\n      \"properties\": {\n        \"dtype\": \"number\",\n        \"std\": 0.2875414914729868,\n        \"min\": -0.1375141157387197,\n        \"max\": 1.0,\n        \"num_unique_values\": 15,\n        \"samples\": [\n          -0.003864162959436523,\n          -0.13662044817799143,\n          -0.05581662703817531\n        ],\n        \"semantic_type\": \"\",\n        \"description\": \"\"\n      }\n    },\n    {\n      \"column\": \"CHEST_PAIN\",\n      \"properties\": {\n        \"dtype\": \"number\",\n        \"std\": 0.267658276034169,\n        \"min\": -0.11144914732835627,\n        \"max\": 1.0,\n        \"num_unique_values\": 15,\n        \"samples\": [\n          0.2799091875635456,\n          0.022997069237438935,\n          0.2971867586580253\n        ],\n        \"semantic_type\": \"\",\n        \"description\": \"\"\n      }\n    },\n    {\n      \"column\": \"LUNG_CANCER\",\n      \"properties\": {\n        \"dtype\": \"number\",\n        \"std\": 0.22798957293147654,\n        \"min\": 0.05962319770867271,\n        \"max\": 1.0,\n        \"num_unique_values\": 15,\n        \"samples\": [\n          0.20872153243888295,\n          0.0636101975027392,\n          0.15435985618398337\n        ],\n        \"semantic_type\": \"\",\n        \"description\": \"\"\n      }\n    }\n  ]\n}"
            }
          },
          "metadata": {},
          "execution_count": 44
        }
      ]
    },
    {
      "cell_type": "markdown",
      "source": [
        "**DATA EXPLORATION**"
      ],
      "metadata": {
        "id": "Focp5UFz9s6F"
      }
    },
    {
      "cell_type": "markdown",
      "source": [
        "The distribution of the target variable."
      ],
      "metadata": {
        "id": "GcLBrNOvI7r7"
      }
    },
    {
      "cell_type": "code",
      "source": [
        "plt.figure(figsize=(8, 4))\n",
        "sns.countplot(x='LUNG_CANCER', data=newdf)\n",
        "plt.title('Distribution of Lung Cancer')\n",
        "plt.xlabel('Lung Cancer')\n",
        "plt.ylabel('Count')\n",
        "plt.show()"
      ],
      "metadata": {
        "colab": {
          "base_uri": "https://localhost:8080/",
          "height": 373
        },
        "id": "R4TDr_rmHSHy",
        "outputId": "0a0c4078-ebdb-4ade-be9d-efa86b212977"
      },
      "execution_count": null,
      "outputs": [
        {
          "output_type": "display_data",
          "data": {
            "text/plain": [
              "<Figure size 800x400 with 1 Axes>"
            ],
            "image/png": "[encoded data removed]"
          },
          "metadata": {}
        }
      ]
    },
    {
      "cell_type": "markdown",
      "source": [
        "Exploring the relationship of the independent variables with our target variable."
      ],
      "metadata": {
        "id": "eF94yMcGcYDq"
      }
    },
    {
      "cell_type": "code",
      "source": [
        "def plot(col, newdf=newdf):\n",
        "    return newdf.groupby(col)['LUNG_CANCER'].value_counts(normalize=True).unstack().plot(kind='bar', figsize=(6,4))"
      ],
      "metadata": {
        "id": "ijn7MJ0iLL8R"
      },
      "execution_count": null,
      "outputs": []
    },
    {
      "cell_type": "code",
      "source": [
        "plot('GENDER')\n",
        "plot('SMOKING_STATUS')\n",
        "plot('YELLOW_SKIN')\n",
        "plot('ANXIETY')\n",
        "plot('COPD_DIAGNOSES')\n",
        "plot('FATIGUE ')\n",
        "plot('WHEEZING')\n",
        "plot('ALCOHOL_CONSUMPTION')\n",
        "plot('COUGHING')\n",
        "plot('SHORTNESS_OF_BREATH')\n",
        "plot('SWALLOWING_DIFFICULTY')\n",
        "plot('CHEST_PAIN')\n",
        "\n"
      ],
      "metadata": {
        "colab": {
          "base_uri": "https://localhost:8080/",
          "height": 1000
        },
        "id": "mIOxFYuaNBw7",
        "outputId": "524732f1-4225-473d-9dec-8844f1430679"
      },
      "execution_count": null,
      "outputs": [
        {
          "output_type": "execute_result",
          "data": {
            "text/plain": [
              "<Axes: xlabel='CHEST_PAIN'>"
            ]
          },
          "metadata": {},
          "execution_count": 47
        },
        {
          "output_type": "display_data",
          "data": {
            "text/plain": [
              "<Figure size 600x400 with 1 Axes>"
            ],
            "image/png": "[encoded data removed]"
          },
          "metadata": {}
        },
        {
          "output_type": "display_data",
          "data": {
            "text/plain": [
              "<Figure size 600x400 with 1 Axes>"
            ],
            "image/png": "[encoded data removed]"
          },
          "metadata": {}
        },
        {
          "output_type": "display_data",
          "data": {
            "text/plain": [
              "<Figure size 600x400 with 1 Axes>"
            ],
            "image/png": "[encoded data removed]"
          },
          "metadata": {}
        },
        {
          "output_type": "display_data",
          "data": {
            "text/plain": [
              "<Figure size 600x400 with 1 Axes>"
            ],
            "image/png": "[encoded data removed]"
          },
          "metadata": {}
        },
        {
          "output_type": "display_data",
          "data": {
            "text/plain": [
              "<Figure size 600x400 with 1 Axes>"
            ],
            "image/png": "[encoded data removed]"
          },
          "metadata": {}
        },
        {
          "output_type": "display_data",
          "data": {
            "text/plain": [
              "<Figure size 600x400 with 1 Axes>"
            ],
            "image/png": "[encoded data removed]"
          },
          "metadata": {}
        },
        {
          "output_type": "display_data",
          "data": {
            "text/plain": [
              "<Figure size 600x400 with 1 Axes>"
            ],
            "image/png": "[encoded data removed]"
          },
          "metadata": {}
        },
        {
          "output_type": "display_data",
          "data": {
            "text/plain": [
              "<Figure size 600x400 with 1 Axes>"
            ],
            "image/png": "[encoded data removed]"
          },
          "metadata": {}
        },
        {
          "output_type": "display_data",
          "data": {
            "text/plain": [
              "<Figure size 600x400 with 1 Axes>"
            ],
            "image/png": "[encoded data removed]"
          },
          "metadata": {}
        },
        {
          "output_type": "display_data",
          "data": {
            "text/plain": [
              "<Figure size 600x400 with 1 Axes>"
            ],
            "image/png": "[encoded data removed]"
          },
          "metadata": {}
        },
        {
          "output_type": "display_data",
          "data": {
            "text/plain": [
              "<Figure size 600x400 with 1 Axes>"
            ],
            "image/png": "[encoded data removed]"
          },
          "metadata": {}
        },
        {
          "output_type": "display_data",
          "data": {
            "text/plain": [
              "<Figure size 600x400 with 1 Axes>"
            ],
            "image/png": "[encoded data removed]"
          },
          "metadata": {}
        }
      ]
    },
    {
      "cell_type": "code",
      "source": [
        "X=newdf.drop(['LUNG_CANCER'],axis=1)\n",
        "y=newdf['LUNG_CANCER']"
      ],
      "metadata": {
        "id": "Xl-CmYcQz5UR"
      },
      "execution_count": null,
      "outputs": []
    },
    {
      "cell_type": "code",
      "source": [
        "X.columns"
      ],
      "metadata": {
        "colab": {
          "base_uri": "https://localhost:8080/"
        },
        "id": "VC4nEiWnjhcp",
        "outputId": "e3bfd59b-c3d3-48b0-ce4d-5b805a8cb2e4"
      },
      "execution_count": null,
      "outputs": [
        {
          "output_type": "execute_result",
          "data": {
            "text/plain": [
              "Index(['GENDER', 'AGE', 'SMOKING_STATUS', 'DAILY_CIGARETTES', 'YELLOW_SKIN',\n",
              "       'ANXIETY', 'COPD_DIAGNOSES', 'FATIGUE ', 'WHEEZING',\n",
              "       'ALCOHOL_CONSUMPTION', 'COUGHING', 'SHORTNESS_OF_BREATH',\n",
              "       'SWALLOWING_DIFFICULTY', 'CHEST_PAIN'],\n",
              "      dtype='object')"
            ]
          },
          "metadata": {},
          "execution_count": 132
        }
      ]
    },
    {
      "cell_type": "code",
      "source": [
        "y.head()"
      ],
      "metadata": {
        "colab": {
          "base_uri": "https://localhost:8080/"
        },
        "id": "d7VLOwUajV9a",
        "outputId": "d6bea703-ef89-483e-fc45-0db127ea6b24"
      },
      "execution_count": null,
      "outputs": [
        {
          "output_type": "execute_result",
          "data": {
            "text/plain": [
              "0    1\n",
              "1    1\n",
              "2    0\n",
              "3    0\n",
              "4    0\n",
              "Name: LUNG_CANCER, dtype: int64"
            ]
          },
          "metadata": {},
          "execution_count": 131
        }
      ]
    },
    {
      "cell_type": "markdown",
      "source": [
        "Changing the non binary labels 2 and 1 to 1 (yes)and O(No)"
      ],
      "metadata": {
        "id": "0op0CVoiCcM6"
      }
    },
    {
      "cell_type": "code",
      "source": [
        "for i in X.columns[2:]:\n",
        "    temp=[]\n",
        "    for j in X[i]:\n",
        "        temp.append(j-1)\n",
        "    X[i]=temp\n",
        "X.head()"
      ],
      "metadata": {
        "colab": {
          "base_uri": "https://localhost:8080/",
          "height": 226
        },
        "id": "Vo9ClWkN-eNz",
        "outputId": "268002c6-5a86-48b1-d071-182230018452"
      },
      "execution_count": null,
      "outputs": [
        {
          "output_type": "execute_result",
          "data": {
            "text/plain": [
              "   GENDER       AGE  SMOKING_STATUS  DAILY_CIGARETTES  YELLOW_SKIN  ANXIETY  \\\n",
              "0       1  0.798319               0         -1.815173            1        1   \n",
              "1       1  1.230677               1          0.530399            0        0   \n",
              "2       0 -0.066398               0         -1.815173            0        0   \n",
              "3       1  0.279489               1         -0.197537            1        1   \n",
              "4       0  0.279489               0         -1.815173            1        0   \n",
              "\n",
              "   COPD_DIAGNOSES  FATIGUE   WHEEZING  ALCOHOL_CONSUMPTION  COUGHING  \\\n",
              "0               0         1         1                    1         1   \n",
              "1               1         1         0                    0         0   \n",
              "2               0         1         1                    0         1   \n",
              "3               0         0         0                    1         0   \n",
              "4               0         0         1                    0         1   \n",
              "\n",
              "   SHORTNESS_OF_BREATH  SWALLOWING_DIFFICULTY  CHEST_PAIN  \n",
              "0                    1                      1           1  \n",
              "1                    1                      1           1  \n",
              "2                    1                      0           1  \n",
              "3                    0                      1           1  \n",
              "4                    1                      0           0  "
            ],
            "text/html": [
              "\n",
              "  <div id=\"df-0e025f2f-c331-40ae-9c52-2b2e768a42ca\" class=\"colab-df-container\">\n",
              "    <div>\n",
              "<style scoped>\n",
              "    .dataframe tbody tr th:only-of-type {\n",
              "        vertical-align: middle;\n",
              "    }\n",
              "\n",
              "    .dataframe tbody tr th {\n",
              "        vertical-align: top;\n",
              "    }\n",
              "\n",
              "    .dataframe thead th {\n",
              "        text-align: right;\n",
              "    }\n",
              "</style>\n",
              "<table border=\"1\" class=\"dataframe\">\n",
              "  <thead>\n",
              "    <tr style=\"text-align: right;\">\n",
              "      <th></th>\n",
              "      <th>GENDER</th>\n",
              "      <th>AGE</th>\n",
              "      <th>SMOKING_STATUS</th>\n",
              "      <th>DAILY_CIGARETTES</th>\n",
              "      <th>YELLOW_SKIN</th>\n",
              "      <th>ANXIETY</th>\n",
              "      <th>COPD_DIAGNOSES</th>\n",
              "      <th>FATIGUE</th>\n",
              "      <th>WHEEZING</th>\n",
              "      <th>ALCOHOL_CONSUMPTION</th>\n",
              "      <th>COUGHING</th>\n",
              "      <th>SHORTNESS_OF_BREATH</th>\n",
              "      <th>SWALLOWING_DIFFICULTY</th>\n",
              "      <th>CHEST_PAIN</th>\n",
              "    </tr>\n",
              "  </thead>\n",
              "  <tbody>\n",
              "    <tr>\n",
              "      <th>0</th>\n",
              "      <td>1</td>\n",
              "      <td>0.798319</td>\n",
              "      <td>0</td>\n",
              "      <td>-1.815173</td>\n",
              "      <td>1</td>\n",
              "      <td>1</td>\n",
              "      <td>0</td>\n",
              "      <td>1</td>\n",
              "      <td>1</td>\n",
              "      <td>1</td>\n",
              "      <td>1</td>\n",
              "      <td>1</td>\n",
              "      <td>1</td>\n",
              "      <td>1</td>\n",
              "    </tr>\n",
              "    <tr>\n",
              "      <th>1</th>\n",
              "      <td>1</td>\n",
              "      <td>1.230677</td>\n",
              "      <td>1</td>\n",
              "      <td>0.530399</td>\n",
              "      <td>0</td>\n",
              "      <td>0</td>\n",
              "      <td>1</td>\n",
              "      <td>1</td>\n",
              "      <td>0</td>\n",
              "      <td>0</td>\n",
              "      <td>0</td>\n",
              "      <td>1</td>\n",
              "      <td>1</td>\n",
              "      <td>1</td>\n",
              "    </tr>\n",
              "    <tr>\n",
              "      <th>2</th>\n",
              "      <td>0</td>\n",
              "      <td>-0.066398</td>\n",
              "      <td>0</td>\n",
              "      <td>-1.815173</td>\n",
              "      <td>0</td>\n",
              "      <td>0</td>\n",
              "      <td>0</td>\n",
              "      <td>1</td>\n",
              "      <td>1</td>\n",
              "      <td>0</td>\n",
              "      <td>1</td>\n",
              "      <td>1</td>\n",
              "      <td>0</td>\n",
              "      <td>1</td>\n",
              "    </tr>\n",
              "    <tr>\n",
              "      <th>3</th>\n",
              "      <td>1</td>\n",
              "      <td>0.279489</td>\n",
              "      <td>1</td>\n",
              "      <td>-0.197537</td>\n",
              "      <td>1</td>\n",
              "      <td>1</td>\n",
              "      <td>0</td>\n",
              "      <td>0</td>\n",
              "      <td>0</td>\n",
              "      <td>1</td>\n",
              "      <td>0</td>\n",
              "      <td>0</td>\n",
              "      <td>1</td>\n",
              "      <td>1</td>\n",
              "    </tr>\n",
              "    <tr>\n",
              "      <th>4</th>\n",
              "      <td>0</td>\n",
              "      <td>0.279489</td>\n",
              "      <td>0</td>\n",
              "      <td>-1.815173</td>\n",
              "      <td>1</td>\n",
              "      <td>0</td>\n",
              "      <td>0</td>\n",
              "      <td>0</td>\n",
              "      <td>1</td>\n",
              "      <td>0</td>\n",
              "      <td>1</td>\n",
              "      <td>1</td>\n",
              "      <td>0</td>\n",
              "      <td>0</td>\n",
              "    </tr>\n",
              "  </tbody>\n",
              "</table>\n",
              "</div>\n",
              "    <div class=\"colab-df-buttons\">\n",
              "\n",
              "  <div class=\"colab-df-container\">\n",
              "    <button class=\"colab-df-convert\" onclick=\"convertToInteractive('df-0e025f2f-c331-40ae-9c52-2b2e768a42ca')\"\n",
              "            title=\"Convert this dataframe to an interactive table.\"\n",
              "            style=\"display:none;\">\n",
              "\n",
              "  <svg xmlns=\"http://www.w3.org/2000/svg\" height=\"24px\" viewBox=\"0 -960 960 960\">\n",
              "    <path d=\"M120-120v-720h720v720H120Zm60-500h600v-160H180v160Zm220 220h160v-160H400v160Zm0 220h160v-160H400v160ZM180-400h160v-160H180v160Zm440 0h160v-160H620v160ZM180-180h160v-160H180v160Zm440 0h160v-160H620v160Z\"/>\n",
              "  </svg>\n",
              "    </button>\n",
              "\n",
              "  <style>\n",
              "    .colab-df-container {\n",
              "      display:flex;\n",
              "      gap: 12px;\n",
              "    }\n",
              "\n",
              "    .colab-df-convert {\n",
              "      background-color: #E8F0FE;\n",
              "      border: none;\n",
              "      border-radius: 50%;\n",
              "      cursor: pointer;\n",
              "      display: none;\n",
              "      fill: #1967D2;\n",
              "      height: 32px;\n",
              "      padding: 0 0 0 0;\n",
              "      width: 32px;\n",
              "    }\n",
              "\n",
              "    .colab-df-convert:hover {\n",
              "      background-color: #E2EBFA;\n",
              "      box-shadow: 0px 1px 2px rgba(60, 64, 67, 0.3), 0px 1px 3px 1px rgba(60, 64, 67, 0.15);\n",
              "      fill: #174EA6;\n",
              "    }\n",
              "\n",
              "    .colab-df-buttons div {\n",
              "      margin-bottom: 4px;\n",
              "    }\n",
              "\n",
              "    [theme=dark] .colab-df-convert {\n",
              "      background-color: #3B4455;\n",
              "      fill: #D2E3FC;\n",
              "    }\n",
              "\n",
              "    [theme=dark] .colab-df-convert:hover {\n",
              "      background-color: #434B5C;\n",
              "      box-shadow: 0px 1px 3px 1px rgba(0, 0, 0, 0.15);\n",
              "      filter: drop-shadow(0px 1px 2px rgba(0, 0, 0, 0.3));\n",
              "      fill: #FFFFFF;\n",
              "    }\n",
              "  </style>\n",
              "\n",
              "    <script>\n",
              "      const buttonEl =\n",
              "        document.querySelector('#df-0e025f2f-c331-40ae-9c52-2b2e768a42ca button.colab-df-convert');\n",
              "      buttonEl.style.display =\n",
              "        google.colab.kernel.accessAllowed ? 'block' : 'none';\n",
              "\n",
              "      async function convertToInteractive(key) {\n",
              "        const element = document.querySelector('#df-0e025f2f-c331-40ae-9c52-2b2e768a42ca');\n",
              "        const dataTable =\n",
              "          await google.colab.kernel.invokeFunction('convertToInteractive',\n",
              "                                                    [key], {});\n",
              "        if (!dataTable) return;\n",
              "\n",
              "        const docLinkHtml = 'Like what you see? Visit the ' +\n",
              "          '<a target=\"_blank\" href=https://colab.research.google.com/notebooks/data_table.ipynb>data table notebook</a>'\n",
              "          + ' to learn more about interactive tables.';\n",
              "        element.innerHTML = '';\n",
              "        dataTable['output_type'] = 'display_data';\n",
              "        await google.colab.output.renderOutput(dataTable, element);\n",
              "        const docLink = document.createElement('div');\n",
              "        docLink.innerHTML = docLinkHtml;\n",
              "        element.appendChild(docLink);\n",
              "      }\n",
              "    </script>\n",
              "  </div>\n",
              "\n",
              "\n",
              "<div id=\"df-6b97e67c-2d5f-4dd2-aa5b-c98f5e03b946\">\n",
              "  <button class=\"colab-df-quickchart\" onclick=\"quickchart('df-6b97e67c-2d5f-4dd2-aa5b-c98f5e03b946')\"\n",
              "            title=\"Suggest charts\"\n",
              "            style=\"display:none;\">\n",
              "\n",
              "<svg xmlns=\"http://www.w3.org/2000/svg\" height=\"24px\"viewBox=\"0 0 24 24\"\n",
              "     width=\"24px\">\n",
              "    <g>\n",
              "        <path d=\"M19 3H5c-1.1 0-2 .9-2 2v14c0 1.1.9 2 2 2h14c1.1 0 2-.9 2-2V5c0-1.1-.9-2-2-2zM9 17H7v-7h2v7zm4 0h-2V7h2v10zm4 0h-2v-4h2v4z\"/>\n",
              "    </g>\n",
              "</svg>\n",
              "  </button>\n",
              "\n",
              "<style>\n",
              "  .colab-df-quickchart {\n",
              "      --bg-color: #E8F0FE;\n",
              "      --fill-color: #1967D2;\n",
              "      --hover-bg-color: #E2EBFA;\n",
              "      --hover-fill-color: #174EA6;\n",
              "      --disabled-fill-color: #AAA;\n",
              "      --disabled-bg-color: #DDD;\n",
              "  }\n",
              "\n",
              "  [theme=dark] .colab-df-quickchart {\n",
              "      --bg-color: #3B4455;\n",
              "      --fill-color: #D2E3FC;\n",
              "      --hover-bg-color: #434B5C;\n",
              "      --hover-fill-color: #FFFFFF;\n",
              "      --disabled-bg-color: #3B4455;\n",
              "      --disabled-fill-color: #666;\n",
              "  }\n",
              "\n",
              "  .colab-df-quickchart {\n",
              "    background-color: var(--bg-color);\n",
              "    border: none;\n",
              "    border-radius: 50%;\n",
              "    cursor: pointer;\n",
              "    display: none;\n",
              "    fill: var(--fill-color);\n",
              "    height: 32px;\n",
              "    padding: 0;\n",
              "    width: 32px;\n",
              "  }\n",
              "\n",
              "  .colab-df-quickchart:hover {\n",
              "    background-color: var(--hover-bg-color);\n",
              "    box-shadow: 0 1px 2px rgba(60, 64, 67, 0.3), 0 1px 3px 1px rgba(60, 64, 67, 0.15);\n",
              "    fill: var(--button-hover-fill-color);\n",
              "  }\n",
              "\n",
              "  .colab-df-quickchart-complete:disabled,\n",
              "  .colab-df-quickchart-complete:disabled:hover {\n",
              "    background-color: var(--disabled-bg-color);\n",
              "    fill: var(--disabled-fill-color);\n",
              "    box-shadow: none;\n",
              "  }\n",
              "\n",
              "  .colab-df-spinner {\n",
              "    border: 2px solid var(--fill-color);\n",
              "    border-color: transparent;\n",
              "    border-bottom-color: var(--fill-color);\n",
              "    animation:\n",
              "      spin 1s steps(1) infinite;\n",
              "  }\n",
              "\n",
              "  @keyframes spin {\n",
              "    0% {\n",
              "      border-color: transparent;\n",
              "      border-bottom-color: var(--fill-color);\n",
              "      border-left-color: var(--fill-color);\n",
              "    }\n",
              "    20% {\n",
              "      border-color: transparent;\n",
              "      border-left-color: var(--fill-color);\n",
              "      border-top-color: var(--fill-color);\n",
              "    }\n",
              "    30% {\n",
              "      border-color: transparent;\n",
              "      border-left-color: var(--fill-color);\n",
              "      border-top-color: var(--fill-color);\n",
              "      border-right-color: var(--fill-color);\n",
              "    }\n",
              "    40% {\n",
              "      border-color: transparent;\n",
              "      border-right-color: var(--fill-color);\n",
              "      border-top-color: var(--fill-color);\n",
              "    }\n",
              "    60% {\n",
              "      border-color: transparent;\n",
              "      border-right-color: var(--fill-color);\n",
              "    }\n",
              "    80% {\n",
              "      border-color: transparent;\n",
              "      border-right-color: var(--fill-color);\n",
              "      border-bottom-color: var(--fill-color);\n",
              "    }\n",
              "    90% {\n",
              "      border-color: transparent;\n",
              "      border-bottom-color: var(--fill-color);\n",
              "    }\n",
              "  }\n",
              "</style>\n",
              "\n",
              "  <script>\n",
              "    async function quickchart(key) {\n",
              "      const quickchartButtonEl =\n",
              "        document.querySelector('#' + key + ' button');\n",
              "      quickchartButtonEl.disabled = true;  // To prevent multiple clicks.\n",
              "      quickchartButtonEl.classList.add('colab-df-spinner');\n",
              "      try {\n",
              "        const charts = await google.colab.kernel.invokeFunction(\n",
              "            'suggestCharts', [key], {});\n",
              "      } catch (error) {\n",
              "        console.error('Error during call to suggestCharts:', error);\n",
              "      }\n",
              "      quickchartButtonEl.classList.remove('colab-df-spinner');\n",
              "      quickchartButtonEl.classList.add('colab-df-quickchart-complete');\n",
              "    }\n",
              "    (() => {\n",
              "      let quickchartButtonEl =\n",
              "        document.querySelector('#df-6b97e67c-2d5f-4dd2-aa5b-c98f5e03b946 button');\n",
              "      quickchartButtonEl.style.display =\n",
              "        google.colab.kernel.accessAllowed ? 'block' : 'none';\n",
              "    })();\n",
              "  </script>\n",
              "</div>\n",
              "\n",
              "    </div>\n",
              "  </div>\n"
            ],
            "application/vnd.google.colaboratory.intrinsic+json": {
              "type": "dataframe",
              "variable_name": "X",
              "summary": "{\n  \"name\": \"X\",\n  \"rows\": 1120,\n  \"fields\": [\n    {\n      \"column\": \"GENDER\",\n      \"properties\": {\n        \"dtype\": \"number\",\n        \"std\": 0,\n        \"min\": 0,\n        \"max\": 1,\n        \"num_unique_values\": 2,\n        \"samples\": [\n          0,\n          1\n        ],\n        \"semantic_type\": \"\",\n        \"description\": \"\"\n      }\n    },\n    {\n      \"column\": \"AGE\",\n      \"properties\": {\n        \"dtype\": \"number\",\n        \"std\": 1.000446727741738,\n        \"min\": -3.4387935820021425,\n        \"max\": 2.354809255749109,\n        \"num_unique_values\": 61,\n        \"samples\": [\n          0.79831894112937,\n          -0.6716996893448282\n        ],\n        \"semantic_type\": \"\",\n        \"description\": \"\"\n      }\n    },\n    {\n      \"column\": \"SMOKING_STATUS\",\n      \"properties\": {\n        \"dtype\": \"number\",\n        \"std\": 0,\n        \"min\": 0,\n        \"max\": 1,\n        \"num_unique_values\": 2,\n        \"samples\": [\n          1,\n          0\n        ],\n        \"semantic_type\": \"\",\n        \"description\": \"\"\n      }\n    },\n    {\n      \"column\": \"DAILY_CIGARETTES\",\n      \"properties\": {\n        \"dtype\": \"number\",\n        \"std\": 1.000446727741738,\n        \"min\": -1.8151727598948917,\n        \"max\": 1.4200982928417445,\n        \"num_unique_values\": 41,\n        \"samples\": [\n          1.0156894112496646,\n          0.6921623059760011\n        ],\n        \"semantic_type\": \"\",\n        \"description\": \"\"\n      }\n    },\n    {\n      \"column\": \"YELLOW_SKIN\",\n      \"properties\": {\n        \"dtype\": \"number\",\n        \"std\": 0,\n        \"min\": 0,\n        \"max\": 1,\n        \"num_unique_values\": 2,\n        \"samples\": [\n          0,\n          1\n        ],\n        \"semantic_type\": \"\",\n        \"description\": \"\"\n      }\n    },\n    {\n      \"column\": \"ANXIETY\",\n      \"properties\": {\n        \"dtype\": \"number\",\n        \"std\": 0,\n        \"min\": 0,\n        \"max\": 1,\n        \"num_unique_values\": 2,\n        \"samples\": [\n          0,\n          1\n        ],\n        \"semantic_type\": \"\",\n        \"description\": \"\"\n      }\n    },\n    {\n      \"column\": \"COPD_DIAGNOSES\",\n      \"properties\": {\n        \"dtype\": \"number\",\n        \"std\": 0,\n        \"min\": 0,\n        \"max\": 1,\n        \"num_unique_values\": 2,\n        \"samples\": [\n          1,\n          0\n        ],\n        \"semantic_type\": \"\",\n        \"description\": \"\"\n      }\n    },\n    {\n      \"column\": \"FATIGUE \",\n      \"properties\": {\n        \"dtype\": \"number\",\n        \"std\": 0,\n        \"min\": 0,\n        \"max\": 1,\n        \"num_unique_values\": 2,\n        \"samples\": [\n          0,\n          1\n        ],\n        \"semantic_type\": \"\",\n        \"description\": \"\"\n      }\n    },\n    {\n      \"column\": \"WHEEZING\",\n      \"properties\": {\n        \"dtype\": \"number\",\n        \"std\": 0,\n        \"min\": 0,\n        \"max\": 1,\n        \"num_unique_values\": 2,\n        \"samples\": [\n          0,\n          1\n        ],\n        \"semantic_type\": \"\",\n        \"description\": \"\"\n      }\n    },\n    {\n      \"column\": \"ALCOHOL_CONSUMPTION\",\n      \"properties\": {\n        \"dtype\": \"number\",\n        \"std\": 0,\n        \"min\": 0,\n        \"max\": 1,\n        \"num_unique_values\": 2,\n        \"samples\": [\n          0,\n          1\n        ],\n        \"semantic_type\": \"\",\n        \"description\": \"\"\n      }\n    },\n    {\n      \"column\": \"COUGHING\",\n      \"properties\": {\n        \"dtype\": \"number\",\n        \"std\": 0,\n        \"min\": 0,\n        \"max\": 1,\n        \"num_unique_values\": 2,\n        \"samples\": [\n          0,\n          1\n        ],\n        \"semantic_type\": \"\",\n        \"description\": \"\"\n      }\n    },\n    {\n      \"column\": \"SHORTNESS_OF_BREATH\",\n      \"properties\": {\n        \"dtype\": \"number\",\n        \"std\": 0,\n        \"min\": 0,\n        \"max\": 1,\n        \"num_unique_values\": 2,\n        \"samples\": [\n          0,\n          1\n        ],\n        \"semantic_type\": \"\",\n        \"description\": \"\"\n      }\n    },\n    {\n      \"column\": \"SWALLOWING_DIFFICULTY\",\n      \"properties\": {\n        \"dtype\": \"number\",\n        \"std\": 0,\n        \"min\": 0,\n        \"max\": 1,\n        \"num_unique_values\": 2,\n        \"samples\": [\n          0,\n          1\n        ],\n        \"semantic_type\": \"\",\n        \"description\": \"\"\n      }\n    },\n    {\n      \"column\": \"CHEST_PAIN\",\n      \"properties\": {\n        \"dtype\": \"number\",\n        \"std\": 0,\n        \"min\": 0,\n        \"max\": 1,\n        \"num_unique_values\": 2,\n        \"samples\": [\n          0,\n          1\n        ],\n        \"semantic_type\": \"\",\n        \"description\": \"\"\n      }\n    }\n  ]\n}"
            }
          },
          "metadata": {},
          "execution_count": 114
        }
      ]
    },
    {
      "cell_type": "code",
      "source": [
        "from sklearn.model_selection import train_test_split\n",
        "X_train, X_test, y_train, y_test = train_test_split(X, y, random_state=42, test_size = 0.3, stratify= y )"
      ],
      "metadata": {
        "id": "USZmdAJHHtIy"
      },
      "execution_count": null,
      "outputs": []
    },
    {
      "cell_type": "code",
      "source": [
        "print(X_train.shape , y_train.shape)\n",
        "print(X_test.shape , y_test.shape)\n"
      ],
      "metadata": {
        "colab": {
          "base_uri": "https://localhost:8080/"
        },
        "id": "PxhlNfz4PvQa",
        "outputId": "e61cc945-4653-4158-e27d-59e50570bc25"
      },
      "execution_count": null,
      "outputs": [
        {
          "output_type": "stream",
          "name": "stdout",
          "text": [
            "(784, 14) (784,)\n",
            "(336, 14) (336,)\n"
          ]
        }
      ]
    },
    {
      "cell_type": "markdown",
      "source": [
        "**Naive Bayes model**"
      ],
      "metadata": {
        "id": "zS0psiAkwSgA"
      }
    },
    {
      "cell_type": "code",
      "source": [
        "from sklearn.naive_bayes import GaussianNB\n",
        "nb = GaussianNB()\n",
        "nb.fit(X_train, y_train)\n",
        "y_nb_test=nb.predict(X_test)\n",
        "y_nb_train=nb.predict(X_train)"
      ],
      "metadata": {
        "id": "A7KSTpkKwR_8"
      },
      "execution_count": null,
      "outputs": []
    },
    {
      "cell_type": "code",
      "source": [
        "from sklearn.metrics import classification_report, confusion_matrix\n",
        "from sklearn.metrics import accuracy_score, f1_score,precision_score, recall_score, confusion_matrix ,ConfusionMatrixDisplay\n",
        "print(confusion_matrix(y_train,y_nb_train))\n",
        "print(classification_report(y_train,y_nb_train))"
      ],
      "metadata": {
        "colab": {
          "base_uri": "https://localhost:8080/"
        },
        "id": "_X7jVvSaNehP",
        "outputId": "23aba2d6-ac60-4c31-ccd6-0b879f155229"
      },
      "execution_count": null,
      "outputs": [
        {
          "output_type": "stream",
          "name": "stdout",
          "text": [
            "[[ 69  85]\n",
            " [ 47 583]]\n",
            "              precision    recall  f1-score   support\n",
            "\n",
            "           0       0.59      0.45      0.51       154\n",
            "           1       0.87      0.93      0.90       630\n",
            "\n",
            "    accuracy                           0.83       784\n",
            "   macro avg       0.73      0.69      0.70       784\n",
            "weighted avg       0.82      0.83      0.82       784\n",
            "\n"
          ]
        }
      ]
    },
    {
      "cell_type": "code",
      "source": [
        "\n",
        "print(confusion_matrix(y_test, y_nb_test))\n",
        "print(classification_report(y_test, y_nb_test))"
      ],
      "metadata": {
        "colab": {
          "base_uri": "https://localhost:8080/"
        },
        "id": "YskY5epeNgLN",
        "outputId": "2c4f3ab5-6cb5-4e56-8932-23dffca5a806"
      },
      "execution_count": null,
      "outputs": [
        {
          "output_type": "stream",
          "name": "stdout",
          "text": [
            "[[ 27  39]\n",
            " [ 26 244]]\n",
            "              precision    recall  f1-score   support\n",
            "\n",
            "           0       0.51      0.41      0.45        66\n",
            "           1       0.86      0.90      0.88       270\n",
            "\n",
            "    accuracy                           0.81       336\n",
            "   macro avg       0.69      0.66      0.67       336\n",
            "weighted avg       0.79      0.81      0.80       336\n",
            "\n"
          ]
        }
      ]
    },
    {
      "cell_type": "markdown",
      "source": [
        "To plot the AOC-ROC curve."
      ],
      "metadata": {
        "id": "IDKM5FdShayn"
      }
    },
    {
      "cell_type": "code",
      "source": [
        "from sklearn import metrics\n",
        "auc = metrics.roc_auc_score(y_test, y_nb_test)\n",
        "\n",
        "false_positive_rate, true_positive_rate, thresolds = metrics.roc_curve(y_test, y_nb_test)\n",
        "\n",
        "plt.figure(figsize=(5, 5), dpi=100)\n",
        "plt.axis('scaled')\n",
        "plt.xlim([0, 1])\n",
        "plt.ylim([0, 1])\n",
        "plt.title(\"AUC-ROC Curve\")\n",
        "plt.plot(false_positive_rate, true_positive_rate,'--' )\n",
        "plt.fill_between(false_positive_rate, true_positive_rate, facecolor='lightyellow', alpha=0.7)\n",
        "plt.text(0.95, 0.05, 'AUC = %0.4f' % auc, ha='right', fontsize=12, weight='bold', color='blue')\n",
        "plt.xlabel(\"False Positive Rate\")\n",
        "plt.ylabel(\"True Positive Rate\")\n",
        "plt.show()"
      ],
      "metadata": {
        "colab": {
          "base_uri": "https://localhost:8080/",
          "height": 487
        },
        "id": "xckOFSSWH0Ot",
        "outputId": "f2afefbd-173b-4e52-aadb-f7ae2171e895"
      },
      "execution_count": null,
      "outputs": [
        {
          "output_type": "display_data",
          "data": {
            "text/plain": [
              "<Figure size 500x500 with 1 Axes>"
            ],
            "image/png": "[encoded data removed]"
          },
          "metadata": {}
        }
      ]
    },
    {
      "cell_type": "code",
      "source": [
        "sns.set(rc = {'axes.grid':False})\n",
        "ConfusionMatrixDisplay.from_predictions(y_test, y_nb_test)\n",
        "plt.title('The model Confusion matrix')\n",
        "plt.show()"
      ],
      "metadata": {
        "colab": {
          "base_uri": "https://localhost:8080/",
          "height": 480
        },
        "id": "fnZw5WfGMY2z",
        "outputId": "ef6165ff-d805-42cc-8bdb-c4ff3ef20681"
      },
      "execution_count": null,
      "outputs": [
        {
          "output_type": "display_data",
          "data": {
            "text/plain": [
              "<Figure size 640x480 with 2 Axes>"
            ],
            "image/png": "[encoded data removed]"
          },
          "metadata": {}
        }
      ]
    },
    {
      "cell_type": "markdown",
      "source": [
        "Tuning nb model using var smoothing hyperparameter."
      ],
      "metadata": {
        "id": "c2pdzqsRtUoN"
      }
    },
    {
      "cell_type": "code",
      "source": [
        "from sklearn.model_selection import GridSearchCV\n",
        "from sklearn.naive_bayes import GaussianNB\n",
        "\n",
        "# Define the model\n",
        "nb = GaussianNB()\n",
        "\n",
        "# Define the parameter grid\n",
        "param_grid_nb = {\n",
        "    'var_smoothing': [1e-09, 1e-08, 1e-07, 1e-06]\n",
        "}\n",
        "\n",
        "# Set up GridSearchCV\n",
        "grid_search_nb = GridSearchCV(estimator=nb, param_grid=param_grid_nb, cv=5, scoring='accuracy')\n",
        "\n",
        "# Fit the model\n",
        "grid_search_nb.fit(X_train, y_train)\n",
        "\n",
        "# Best parameters and score\n",
        "print(f\"Best parameters for NB: {grid_search_nb.best_params_}\")\n",
        "print(f\"Best score for NB: {grid_search_nb.best_score_}\")"
      ],
      "metadata": {
        "colab": {
          "base_uri": "https://localhost:8080/"
        },
        "id": "I05yfLCftiIZ",
        "outputId": "f9b459af-bffc-4372-88b9-a259a0f13d60"
      },
      "execution_count": null,
      "outputs": [
        {
          "output_type": "stream",
          "name": "stdout",
          "text": [
            "Best parameters for NB: {'var_smoothing': 1e-09}\n",
            "Best score for NB: 0.8290952147640045\n"
          ]
        }
      ]
    },
    {
      "cell_type": "markdown",
      "source": [
        "**KNN classifier model**"
      ],
      "metadata": {
        "id": "CAN6rMDi7Qj2"
      }
    },
    {
      "cell_type": "code",
      "source": [
        "# Calculating error for K values between 1 and 40\n",
        "error = []\n",
        "from sklearn.neighbors import KNeighborsClassifier\n",
        "for i in range(1, 40):\n",
        "    knn = KNeighborsClassifier(n_neighbors=i)\n",
        "    knn.fit(X_train, y_train)\n",
        "    pred_i = knn.predict(X_test)\n",
        "    error.append(np.mean(pred_i != y_test))\n",
        "plt.figure(figsize=(12, 6))\n",
        "plt.plot(range(1, 40), error, color='red', linestyle='dashed', marker='o',\n",
        "         markerfacecolor='blue', markersize=10)\n",
        "plt.title('Error Rate K Value')\n",
        "plt.xlabel('K Value')\n",
        "plt.ylabel('Mean Error')\n"
      ],
      "metadata": {
        "colab": {
          "base_uri": "https://localhost:8080/",
          "height": 377
        },
        "id": "27cfAz8UUgGB",
        "outputId": "553bcb78-4a2a-494f-ee2a-619d25100411"
      },
      "execution_count": null,
      "outputs": [
        {
          "output_type": "execute_result",
          "data": {
            "text/plain": [
              "Text(0, 0.5, 'Mean Error')"
            ]
          },
          "metadata": {},
          "execution_count": 89
        },
        {
          "output_type": "display_data",
          "data": {
            "text/plain": [
              "<Figure size 1200x600 with 1 Axes>"
            ],
            "image/png": "[encoded data removed]"
          },
          "metadata": {}
        }
      ]
    },
    {
      "cell_type": "markdown",
      "source": [
        "lowest error occurs on the first k values n-neighbor=1"
      ],
      "metadata": {
        "id": "O06otKDHVCnG"
      }
    },
    {
      "cell_type": "code",
      "source": [
        "from sklearn.neighbors import KNeighborsClassifier\n",
        "# Create KNN classifier\n",
        "knn = KNeighborsClassifier(n_neighbors = 3)\n",
        "# Fit the classifier to the data\n",
        "knn.fit(X_train,y_train)\n",
        "y_knn_test=knn.predict(X_test)\n",
        "y_knn_train=knn.predict(X_train)"
      ],
      "metadata": {
        "id": "Q4HoM7m72_C_"
      },
      "execution_count": null,
      "outputs": []
    },
    {
      "cell_type": "markdown",
      "source": [
        "**The Model's metric score report on training dataset**"
      ],
      "metadata": {
        "id": "N_yXpMm88Dv4"
      }
    },
    {
      "cell_type": "code",
      "source": [
        "print(confusion_matrix(y_train,y_knn_train))\n",
        "print(classification_report(y_train,y_knn_train))"
      ],
      "metadata": {
        "colab": {
          "base_uri": "https://localhost:8080/"
        },
        "id": "bzC6j3OyV1XU",
        "outputId": "bf0b3236-ecaa-4bbf-b659-d46fc0eada73"
      },
      "execution_count": null,
      "outputs": [
        {
          "output_type": "stream",
          "name": "stdout",
          "text": [
            "[[105  49]\n",
            " [ 14 616]]\n",
            "              precision    recall  f1-score   support\n",
            "\n",
            "           0       0.88      0.68      0.77       154\n",
            "           1       0.93      0.98      0.95       630\n",
            "\n",
            "    accuracy                           0.92       784\n",
            "   macro avg       0.90      0.83      0.86       784\n",
            "weighted avg       0.92      0.92      0.92       784\n",
            "\n"
          ]
        }
      ]
    },
    {
      "cell_type": "markdown",
      "source": [
        "**The Model's metric score report on test dataset**"
      ],
      "metadata": {
        "id": "DhiIpxvdcBRH"
      }
    },
    {
      "cell_type": "code",
      "source": [
        "print(confusion_matrix(y_test, y_knn_test))\n",
        "print(classification_report(y_test, y_knn_test))"
      ],
      "metadata": {
        "colab": {
          "base_uri": "https://localhost:8080/"
        },
        "id": "vk872epg7_H0",
        "outputId": "0a7cfa98-2b5f-48fe-f97e-bf5e58f7d13d"
      },
      "execution_count": null,
      "outputs": [
        {
          "output_type": "stream",
          "name": "stdout",
          "text": [
            "[[ 30  36]\n",
            " [ 19 251]]\n",
            "              precision    recall  f1-score   support\n",
            "\n",
            "           0       0.61      0.45      0.52        66\n",
            "           1       0.87      0.93      0.90       270\n",
            "\n",
            "    accuracy                           0.84       336\n",
            "   macro avg       0.74      0.69      0.71       336\n",
            "weighted avg       0.82      0.84      0.83       336\n",
            "\n"
          ]
        }
      ]
    },
    {
      "cell_type": "code",
      "source": [
        "auc = metrics.roc_auc_score(y_test, y_knn_test)\n",
        "\n",
        "false_positive_rate, true_positive_rate, thresolds = metrics.roc_curve(y_test, y_knn_test)\n",
        "\n",
        "plt.figure(figsize=(5, 5), dpi=100)\n",
        "plt.axis('scaled')\n",
        "plt.xlim([0, 1])\n",
        "plt.ylim([0, 1])\n",
        "plt.title(\"AUC-ROC Curve\")\n",
        "plt.plot(false_positive_rate, true_positive_rate,'--' )\n",
        "plt.fill_between(false_positive_rate, true_positive_rate, facecolor='lightyellow', alpha=0.7)\n",
        "plt.text(0.95, 0.05, 'AUC = %0.4f' % auc, ha='right', fontsize=12, weight='bold', color='blue')\n",
        "plt.xlabel(\"False Positive Rate\")\n",
        "plt.ylabel(\"True Positive Rate\")\n",
        "plt.show()"
      ],
      "metadata": {
        "colab": {
          "base_uri": "https://localhost:8080/",
          "height": 496
        },
        "id": "Aai_ekKwjG1w",
        "outputId": "62774d47-1599-47a4-c4ae-2482c7e03169"
      },
      "execution_count": null,
      "outputs": [
        {
          "output_type": "display_data",
          "data": {
            "text/plain": [
              "<Figure size 500x500 with 1 Axes>"
            ],
            "image/png": "[encoded data removed]"
          },
          "metadata": {}
        }
      ]
    },
    {
      "cell_type": "code",
      "source": [
        "sns.set(rc = {'axes.grid':False})\n",
        "ConfusionMatrixDisplay.from_predictions(y_test, y_knn_test)\n",
        "plt.title('The models Confusion matrix')\n",
        "plt.show()"
      ],
      "metadata": {
        "colab": {
          "base_uri": "https://localhost:8080/",
          "height": 480
        },
        "id": "4vX7gfQdK1bE",
        "outputId": "5b0e15f4-4390-4c27-ed74-d15535ef59cf"
      },
      "execution_count": null,
      "outputs": [
        {
          "output_type": "display_data",
          "data": {
            "text/plain": [
              "<Figure size 640x480 with 2 Axes>"
            ],
            "image/png": "[encoded data removed]"
          },
          "metadata": {}
        }
      ]
    },
    {
      "cell_type": "markdown",
      "source": [
        "**Tuning the model using gridsearchcv**"
      ],
      "metadata": {
        "id": "Voz0zUcGrod_"
      }
    },
    {
      "cell_type": "code",
      "source": [
        "from sklearn.model_selection import GridSearchCV\n",
        "#create new a knn model\n",
        "knn1 = KNeighborsClassifier()\n",
        "#create a dictionary of all values we want to test for n_neighbors\n",
        "param_grid = {'n_neighbors': np.arange(1, 25), 'metric': ['euclidean', 'manhattan']}\n",
        "#use gridsearch to test all values for n_neighbors\n",
        "knn_gscv = GridSearchCV(knn1, param_grid, cv=5)\n",
        "#fit model to data\n",
        "knn_gscv.fit(X, y)\n"
      ],
      "metadata": {
        "colab": {
          "base_uri": "https://localhost:8080/",
          "height": 116
        },
        "id": "-0ro0nYJGTAw",
        "outputId": "69536f02-50ce-4722-acb4-fa914f7a8311"
      },
      "execution_count": null,
      "outputs": [
        {
          "output_type": "execute_result",
          "data": {
            "text/plain": [
              "GridSearchCV(cv=5, estimator=KNeighborsClassifier(),\n",
              "             param_grid={'metric': ['euclidean', 'manhattan'],\n",
              "                         'n_neighbors': array([ 1,  2,  3,  4,  5,  6,  7,  8,  9, 10, 11, 12, 13, 14, 15, 16, 17,\n",
              "       18, 19, 20, 21, 22, 23, 24])})"
            ],
            "text/html": [
              "<style>#sk-container-id-3 {color: black;background-color: white;}#sk-container-id-3 pre{padding: 0;}#sk-container-id-3 div.sk-toggleable {background-color: white;}#sk-container-id-3 label.sk-toggleable__label {cursor: pointer;display: block;width: 100%;margin-bottom: 0;padding: 0.3em;box-sizing: border-box;text-align: center;}#sk-container-id-3 label.sk-toggleable__label-arrow:before {content: \"▸\";float: left;margin-right: 0.25em;color: #696969;}#sk-container-id-3 label.sk-toggleable__label-arrow:hover:before {color: black;}#sk-container-id-3 div.sk-estimator:hover label.sk-toggleable__label-arrow:before {color: black;}#sk-container-id-3 div.sk-toggleable__content {max-height: 0;max-width: 0;overflow: hidden;text-align: left;background-color: #f0f8ff;}#sk-container-id-3 div.sk-toggleable__content pre {margin: 0.2em;color: black;border-radius: 0.25em;background-color: #f0f8ff;}#sk-container-id-3 input.sk-toggleable__control:checked~div.sk-toggleable__content {max-height: 200px;max-width: 100%;overflow: auto;}#sk-container-id-3 input.sk-toggleable__control:checked~label.sk-toggleable__label-arrow:before {content: \"▾\";}#sk-container-id-3 div.sk-estimator input.sk-toggleable__control:checked~label.sk-toggleable__label {background-color: #d4ebff;}#sk-container-id-3 div.sk-label input.sk-toggleable__control:checked~label.sk-toggleable__label {background-color: #d4ebff;}#sk-container-id-3 input.sk-hidden--visually {border: 0;clip: rect(1px 1px 1px 1px);clip: rect(1px, 1px, 1px, 1px);height: 1px;margin: -1px;overflow: hidden;padding: 0;position: absolute;width: 1px;}#sk-container-id-3 div.sk-estimator {font-family: monospace;background-color: #f0f8ff;border: 1px dotted black;border-radius: 0.25em;box-sizing: border-box;margin-bottom: 0.5em;}#sk-container-id-3 div.sk-estimator:hover {background-color: #d4ebff;}#sk-container-id-3 div.sk-parallel-item::after {content: \"\";width: 100%;border-bottom: 1px solid gray;flex-grow: 1;}#sk-container-id-3 div.sk-label:hover label.sk-toggleable__label {background-color: #d4ebff;}#sk-container-id-3 div.sk-serial::before {content: \"\";position: absolute;border-left: 1px solid gray;box-sizing: border-box;top: 0;bottom: 0;left: 50%;z-index: 0;}#sk-container-id-3 div.sk-serial {display: flex;flex-direction: column;align-items: center;background-color: white;padding-right: 0.2em;padding-left: 0.2em;position: relative;}#sk-container-id-3 div.sk-item {position: relative;z-index: 1;}#sk-container-id-3 div.sk-parallel {display: flex;align-items: stretch;justify-content: center;background-color: white;position: relative;}#sk-container-id-3 div.sk-item::before, #sk-container-id-3 div.sk-parallel-item::before {content: \"\";position: absolute;border-left: 1px solid gray;box-sizing: border-box;top: 0;bottom: 0;left: 50%;z-index: -1;}#sk-container-id-3 div.sk-parallel-item {display: flex;flex-direction: column;z-index: 1;position: relative;background-color: white;}#sk-container-id-3 div.sk-parallel-item:first-child::after {align-self: flex-end;width: 50%;}#sk-container-id-3 div.sk-parallel-item:last-child::after {align-self: flex-start;width: 50%;}#sk-container-id-3 div.sk-parallel-item:only-child::after {width: 0;}#sk-container-id-3 div.sk-dashed-wrapped {border: 1px dashed gray;margin: 0 0.4em 0.5em 0.4em;box-sizing: border-box;padding-bottom: 0.4em;background-color: white;}#sk-container-id-3 div.sk-label label {font-family: monospace;font-weight: bold;display: inline-block;line-height: 1.2em;}#sk-container-id-3 div.sk-label-container {text-align: center;}#sk-container-id-3 div.sk-container {/* jupyter's `normalize.less` sets `[hidden] { display: none; }` but bootstrap.min.css set `[hidden] { display: none !important; }` so we also need the `!important` here to be able to override the default hidden behavior on the sphinx rendered scikit-learn.org. See: https://github.com/scikit-learn/scikit-learn/issues/21755 */display: inline-block !important;position: relative;}#sk-container-id-3 div.sk-text-repr-fallback {display: none;}</style><div id=\"sk-container-id-3\" class=\"sk-top-container\"><div class=\"sk-text-repr-fallback\"><pre>GridSearchCV(cv=5, estimator=KNeighborsClassifier(),\n",
              "             param_grid={&#x27;metric&#x27;: [&#x27;euclidean&#x27;, &#x27;manhattan&#x27;],\n",
              "                         &#x27;n_neighbors&#x27;: array([ 1,  2,  3,  4,  5,  6,  7,  8,  9, 10, 11, 12, 13, 14, 15, 16, 17,\n",
              "       18, 19, 20, 21, 22, 23, 24])})</pre><b>In a Jupyter environment, please rerun this cell to show the HTML representation or trust the notebook. <br />On GitHub, the HTML representation is unable to render, please try loading this page with nbviewer.org.</b></div><div class=\"sk-container\" hidden><div class=\"sk-item sk-dashed-wrapped\"><div class=\"sk-label-container\"><div class=\"sk-label sk-toggleable\"><input class=\"sk-toggleable__control sk-hidden--visually\" id=\"sk-estimator-id-7\" type=\"checkbox\" ><label for=\"sk-estimator-id-7\" class=\"sk-toggleable__label sk-toggleable__label-arrow\">GridSearchCV</label><div class=\"sk-toggleable__content\"><pre>GridSearchCV(cv=5, estimator=KNeighborsClassifier(),\n",
              "             param_grid={&#x27;metric&#x27;: [&#x27;euclidean&#x27;, &#x27;manhattan&#x27;],\n",
              "                         &#x27;n_neighbors&#x27;: array([ 1,  2,  3,  4,  5,  6,  7,  8,  9, 10, 11, 12, 13, 14, 15, 16, 17,\n",
              "       18, 19, 20, 21, 22, 23, 24])})</pre></div></div></div><div class=\"sk-parallel\"><div class=\"sk-parallel-item\"><div class=\"sk-item\"><div class=\"sk-label-container\"><div class=\"sk-label sk-toggleable\"><input class=\"sk-toggleable__control sk-hidden--visually\" id=\"sk-estimator-id-8\" type=\"checkbox\" ><label for=\"sk-estimator-id-8\" class=\"sk-toggleable__label sk-toggleable__label-arrow\">estimator: KNeighborsClassifier</label><div class=\"sk-toggleable__content\"><pre>KNeighborsClassifier()</pre></div></div></div><div class=\"sk-serial\"><div class=\"sk-item\"><div class=\"sk-estimator sk-toggleable\"><input class=\"sk-toggleable__control sk-hidden--visually\" id=\"sk-estimator-id-9\" type=\"checkbox\" ><label for=\"sk-estimator-id-9\" class=\"sk-toggleable__label sk-toggleable__label-arrow\">KNeighborsClassifier</label><div class=\"sk-toggleable__content\"><pre>KNeighborsClassifier()</pre></div></div></div></div></div></div></div></div></div></div>"
            ]
          },
          "metadata": {},
          "execution_count": 94
        }
      ]
    },
    {
      "cell_type": "markdown",
      "source": [
        "**Checking the best tuned hyperparameters.**"
      ],
      "metadata": {
        "id": "22BT1dABcawH"
      }
    },
    {
      "cell_type": "code",
      "source": [
        "#check top performing n_neighbors value\n",
        "knn_gscv.best_params_\n"
      ],
      "metadata": {
        "colab": {
          "base_uri": "https://localhost:8080/"
        },
        "id": "5vGwreU8K1uI",
        "outputId": "da541caa-b1b4-4870-cb60-136d6c2a33b2"
      },
      "execution_count": null,
      "outputs": [
        {
          "output_type": "execute_result",
          "data": {
            "text/plain": [
              "{'metric': 'manhattan', 'n_neighbors': 1}"
            ]
          },
          "metadata": {},
          "execution_count": 95
        }
      ]
    },
    {
      "cell_type": "code",
      "source": [
        "#create new a knn model\n",
        "knn2 = KNeighborsClassifier()\n",
        "# create a dictionary of all values we want to test for n_neighbors\n",
        "param_grid = {'n_neighbors': [1], 'metric': ['manhattan']}\n",
        "# use gridsearch to test all values for n_neighbors\n",
        "knn_gscv = GridSearchCV(knn2, param_grid, cv=5)\n",
        "#fit model to data\n",
        "knn_gscv.fit(X, y)\n",
        "y_knn2_test=knn_gscv.predict(X_test)\n",
        "y_knn2_train=knn_gscv.predict(X_train)"
      ],
      "metadata": {
        "id": "F6wHURFXuLKL"
      },
      "execution_count": null,
      "outputs": []
    },
    {
      "cell_type": "code",
      "source": [
        "print(confusion_matrix(y_train, y_knn2_train))\n",
        "print(classification_report(y_train, y_knn2_train))"
      ],
      "metadata": {
        "colab": {
          "base_uri": "https://localhost:8080/"
        },
        "id": "FF4-P3RrYS27",
        "outputId": "37b436e7-090d-4ddd-8f86-80c508438551"
      },
      "execution_count": null,
      "outputs": [
        {
          "output_type": "stream",
          "name": "stdout",
          "text": [
            "[[154   0]\n",
            " [  1 629]]\n",
            "              precision    recall  f1-score   support\n",
            "\n",
            "           0       0.99      1.00      1.00       154\n",
            "           1       1.00      1.00      1.00       630\n",
            "\n",
            "    accuracy                           1.00       784\n",
            "   macro avg       1.00      1.00      1.00       784\n",
            "weighted avg       1.00      1.00      1.00       784\n",
            "\n"
          ]
        }
      ]
    },
    {
      "cell_type": "code",
      "source": [
        "print(confusion_matrix(y_test, y_knn2_test))\n",
        "print(classification_report(y_test, y_knn2_test))"
      ],
      "metadata": {
        "colab": {
          "base_uri": "https://localhost:8080/"
        },
        "id": "cumfhQxOGiR0",
        "outputId": "49bdf09e-b7b2-4cb0-cf1b-4a1fd1bfcbc5"
      },
      "execution_count": null,
      "outputs": [
        {
          "output_type": "stream",
          "name": "stdout",
          "text": [
            "[[ 66   0]\n",
            " [  0 270]]\n",
            "              precision    recall  f1-score   support\n",
            "\n",
            "           0       1.00      1.00      1.00        66\n",
            "           1       1.00      1.00      1.00       270\n",
            "\n",
            "    accuracy                           1.00       336\n",
            "   macro avg       1.00      1.00      1.00       336\n",
            "weighted avg       1.00      1.00      1.00       336\n",
            "\n"
          ]
        }
      ]
    },
    {
      "cell_type": "code",
      "source": [
        "sns.set(rc = {'axes.grid':False})\n",
        "ConfusionMatrixDisplay.from_predictions(y_test, y_knn2_test)\n",
        "plt.title('The models Confusion matrix')\n",
        "plt.show()"
      ],
      "metadata": {
        "colab": {
          "base_uri": "https://localhost:8080/",
          "height": 480
        },
        "id": "WCr3cFczbeLH",
        "outputId": "bf3e7cf2-a550-481a-a325-b93d9a058049"
      },
      "execution_count": null,
      "outputs": [
        {
          "output_type": "display_data",
          "data": {
            "text/plain": [
              "<Figure size 640x480 with 2 Axes>"
            ],
            "image/png": "[encoded data removed]"
          },
          "metadata": {}
        }
      ]
    },
    {
      "cell_type": "code",
      "source": [
        "auc = metrics.roc_auc_score(y_test, y_knn2_test)\n",
        "\n",
        "false_positive_rate, true_positive_rate, thresolds = metrics.roc_curve(y_test, y_knn2_test)\n",
        "\n",
        "plt.figure(figsize=(5, 5), dpi=100)\n",
        "plt.axis('scaled')\n",
        "plt.xlim([0, 1])\n",
        "plt.ylim([0, 1])\n",
        "plt.title(\"AUC-ROC Curve\")\n",
        "plt.plot(false_positive_rate, true_positive_rate,'--' )\n",
        "plt.fill_between(false_positive_rate, true_positive_rate, facecolor='lightyellow', alpha=0.7)\n",
        "plt.text(0.95, 0.05, 'AUC = %0.4f' % auc, ha='right', fontsize=12, weight='bold', color='blue')\n",
        "plt.xlabel(\"False Positive Rate\")\n",
        "plt.ylabel(\"True Positive Rate\")\n",
        "plt.show()"
      ],
      "metadata": {
        "colab": {
          "base_uri": "https://localhost:8080/",
          "height": 496
        },
        "id": "Ma-u1ZzTbKUP",
        "outputId": "8e8a2d06-6593-4185-dc21-de2a20095e4e"
      },
      "execution_count": null,
      "outputs": [
        {
          "output_type": "display_data",
          "data": {
            "text/plain": [
              "<Figure size 500x500 with 1 Axes>"
            ],
            "image/png": "[encoded data removed]"
          },
          "metadata": {}
        }
      ]
    },
    {
      "cell_type": "markdown",
      "source": [
        " **Support Vector Machine (SVM) with a Linear Kernel**"
      ],
      "metadata": {
        "id": "VCDZD3Dju0Yg"
      }
    },
    {
      "cell_type": "code",
      "source": [
        "from sklearn.svm import SVC\n",
        "svclassifier = SVC(kernel='linear')\n",
        "svclassifier.fit(X_train, y_train)\n",
        "y_svm_test = svclassifier.predict(X_test)\n",
        "y_svm_train = svclassifier.predict(X_train)"
      ],
      "metadata": {
        "id": "1adow2xPuzMM"
      },
      "execution_count": null,
      "outputs": []
    },
    {
      "cell_type": "code",
      "source": [
        "print(confusion_matrix(y_train, y_svm_train))\n",
        "print(classification_report(y_train, y_svm_train))"
      ],
      "metadata": {
        "colab": {
          "base_uri": "https://localhost:8080/"
        },
        "id": "WreIPiXDtqP8",
        "outputId": "13325e6f-32c4-4809-8d43-dbf8c305ff63"
      },
      "execution_count": null,
      "outputs": [
        {
          "output_type": "stream",
          "name": "stdout",
          "text": [
            "[[ 54 100]\n",
            " [ 26 604]]\n",
            "              precision    recall  f1-score   support\n",
            "\n",
            "           0       0.68      0.35      0.46       154\n",
            "           1       0.86      0.96      0.91       630\n",
            "\n",
            "    accuracy                           0.84       784\n",
            "   macro avg       0.77      0.65      0.68       784\n",
            "weighted avg       0.82      0.84      0.82       784\n",
            "\n"
          ]
        }
      ]
    },
    {
      "cell_type": "code",
      "source": [
        "print(confusion_matrix(y_test, y_svm_test))\n",
        "print(classification_report(y_test, y_svm_test))"
      ],
      "metadata": {
        "colab": {
          "base_uri": "https://localhost:8080/"
        },
        "id": "aU7WNn1VvxCj",
        "outputId": "2d9b99db-68f0-4a20-d20e-2597d2a588ad"
      },
      "execution_count": null,
      "outputs": [
        {
          "output_type": "stream",
          "name": "stdout",
          "text": [
            "[[ 20  46]\n",
            " [ 17 253]]\n",
            "              precision    recall  f1-score   support\n",
            "\n",
            "           0       0.54      0.30      0.39        66\n",
            "           1       0.85      0.94      0.89       270\n",
            "\n",
            "    accuracy                           0.81       336\n",
            "   macro avg       0.69      0.62      0.64       336\n",
            "weighted avg       0.79      0.81      0.79       336\n",
            "\n"
          ]
        }
      ]
    },
    {
      "cell_type": "code",
      "source": [
        "sns.set(rc = {'axes.grid':False})\n",
        "ConfusionMatrixDisplay.from_predictions(y_test, y_svm_test)\n",
        "plt.title('The models Confusion matrix')\n",
        "plt.show()"
      ],
      "metadata": {
        "colab": {
          "base_uri": "https://localhost:8080/",
          "height": 480
        },
        "id": "XwwIvZykkvz9",
        "outputId": "6da62922-f06e-42d3-ef8d-07ba9bc7a765"
      },
      "execution_count": null,
      "outputs": [
        {
          "output_type": "display_data",
          "data": {
            "text/plain": [
              "<Figure size 640x480 with 2 Axes>"
            ],
            "image/png": "[encoded data removed]"
          },
          "metadata": {}
        }
      ]
    },
    {
      "cell_type": "code",
      "source": [
        "auc = metrics.roc_auc_score(y_test, y_svm_test)\n",
        "\n",
        "false_positive_rate, true_positive_rate, thresolds = metrics.roc_curve(y_test, y_svm_test)\n",
        "\n",
        "plt.figure(figsize=(5, 5), dpi=100)\n",
        "plt.axis('scaled')\n",
        "plt.xlim([0, 1])\n",
        "plt.ylim([0, 1])\n",
        "plt.title(\"AUC-ROC Curve\")\n",
        "plt.plot(false_positive_rate, true_positive_rate,'--' )\n",
        "plt.fill_between(false_positive_rate, true_positive_rate, facecolor='lightyellow', alpha=0.7)\n",
        "plt.text(0.95, 0.05, 'AUC = %0.4f' % auc, ha='right', fontsize=12, weight='bold', color='blue')\n",
        "plt.xlabel(\"False Positive Rate\")\n",
        "plt.ylabel(\"True Positive Rate\")\n",
        "plt.show()"
      ],
      "metadata": {
        "colab": {
          "base_uri": "https://localhost:8080/",
          "height": 496
        },
        "id": "F2G0qFBjv4u2",
        "outputId": "2eb1101c-da1b-4bf9-9094-3a8dbc410c47"
      },
      "execution_count": null,
      "outputs": [
        {
          "output_type": "display_data",
          "data": {
            "text/plain": [
              "<Figure size 500x500 with 1 Axes>"
            ],
            "image/png": "[encoded data removed]"
          },
          "metadata": {}
        }
      ]
    },
    {
      "cell_type": "markdown",
      "source": [
        "**Artifical neural network MLP**"
      ],
      "metadata": {
        "id": "ZHx7RqGmR2RT"
      }
    },
    {
      "cell_type": "code",
      "source": [
        "from sklearn.neural_network import MLPClassifier\n",
        "mlp = MLPClassifier(hidden_layer_sizes=(8,8,8), activation='relu', solver='adam', max_iter=500)\n",
        "mlp.fit(X_train,y_train)\n",
        "\n",
        "y_ann_train = mlp.predict(X_train)\n",
        "y_ann_test = mlp.predict(X_test)\n"
      ],
      "metadata": {
        "id": "39kYTjvhSCb2",
        "colab": {
          "base_uri": "https://localhost:8080/"
        },
        "outputId": "94a484b8-3fd8-47f1-a056-0dcec36be65d"
      },
      "execution_count": null,
      "outputs": [
        {
          "output_type": "stream",
          "name": "stderr",
          "text": [
            "/usr/local/lib/python3.10/dist-packages/sklearn/neural_network/_multilayer_perceptron.py:686: ConvergenceWarning: Stochastic Optimizer: Maximum iterations (500) reached and the optimization hasn't converged yet.\n",
            "  warnings.warn(\n"
          ]
        }
      ]
    },
    {
      "cell_type": "markdown",
      "source": [
        "Model's performance based on training dataset."
      ],
      "metadata": {
        "id": "Hf4jWDFXtTlp"
      }
    },
    {
      "cell_type": "code",
      "source": [
        "print(confusion_matrix(y_train,y_ann_train))\n",
        "print(classification_report(y_train,y_ann_train))"
      ],
      "metadata": {
        "colab": {
          "base_uri": "https://localhost:8080/"
        },
        "id": "6y3qTSDHtAt-",
        "outputId": "315c1581-1f76-4b18-9b81-8f4fdad31edc"
      },
      "execution_count": null,
      "outputs": [
        {
          "output_type": "stream",
          "name": "stdout",
          "text": [
            "[[108  46]\n",
            " [ 20 610]]\n",
            "              precision    recall  f1-score   support\n",
            "\n",
            "           0       0.84      0.70      0.77       154\n",
            "           1       0.93      0.97      0.95       630\n",
            "\n",
            "    accuracy                           0.92       784\n",
            "   macro avg       0.89      0.83      0.86       784\n",
            "weighted avg       0.91      0.92      0.91       784\n",
            "\n"
          ]
        }
      ]
    },
    {
      "cell_type": "markdown",
      "source": [
        "Model's performance based on testing dataset."
      ],
      "metadata": {
        "id": "opK5NPHXtgA4"
      }
    },
    {
      "cell_type": "code",
      "source": [
        "print(confusion_matrix(y_test,y_ann_test))\n",
        "print(classification_report(y_test,y_ann_test))"
      ],
      "metadata": {
        "id": "bXW0ggs1SQZD",
        "colab": {
          "base_uri": "https://localhost:8080/"
        },
        "outputId": "5a3f1842-77bf-4337-b374-4d9d40343f8e"
      },
      "execution_count": null,
      "outputs": [
        {
          "output_type": "stream",
          "name": "stdout",
          "text": [
            "[[ 37  29]\n",
            " [ 21 249]]\n",
            "              precision    recall  f1-score   support\n",
            "\n",
            "           0       0.64      0.56      0.60        66\n",
            "           1       0.90      0.92      0.91       270\n",
            "\n",
            "    accuracy                           0.85       336\n",
            "   macro avg       0.77      0.74      0.75       336\n",
            "weighted avg       0.85      0.85      0.85       336\n",
            "\n"
          ]
        }
      ]
    },
    {
      "cell_type": "code",
      "source": [
        "sns.set(rc = {'axes.grid':False})\n",
        "ConfusionMatrixDisplay.from_predictions(y_test, y_ann_test)\n",
        "plt.title('The models Confusion matrix')\n",
        "plt.show()"
      ],
      "metadata": {
        "colab": {
          "base_uri": "https://localhost:8080/",
          "height": 480
        },
        "id": "CbqYljzbqS3p",
        "outputId": "598247cc-c31b-4d87-b60d-a234c5412322"
      },
      "execution_count": null,
      "outputs": [
        {
          "output_type": "display_data",
          "data": {
            "text/plain": [
              "<Figure size 640x480 with 2 Axes>"
            ],
            "image/png": "[encoded data removed]"
          },
          "metadata": {}
        }
      ]
    },
    {
      "cell_type": "code",
      "source": [
        "auc = metrics.roc_auc_score(y_test, y_ann_test)\n",
        "\n",
        "false_positive_rate, true_positive_rate, thresolds = metrics.roc_curve(y_test, y_ann_test)\n",
        "\n",
        "plt.figure(figsize=(5, 5), dpi=100)\n",
        "plt.axis('scaled')\n",
        "plt.xlim([0, 1])\n",
        "plt.ylim([0, 1])\n",
        "plt.title(\"AUC-ROC Curve\")\n",
        "plt.plot(false_positive_rate, true_positive_rate,'--' )\n",
        "plt.fill_between(false_positive_rate, true_positive_rate, facecolor='lightyellow', alpha=0.7)\n",
        "plt.text(0.95, 0.05, 'AUC = %0.4f' % auc, ha='right', fontsize=12, weight='bold', color='blue')\n",
        "plt.xlabel(\"False Positive Rate\")\n",
        "plt.ylabel(\"True Positive Rate\")\n",
        "plt.show()"
      ],
      "metadata": {
        "colab": {
          "base_uri": "https://localhost:8080/",
          "height": 496
        },
        "id": "BGBtm3NtfnHE",
        "outputId": "f721d5f2-cc3a-4c67-f234-5fdfd83160b2"
      },
      "execution_count": null,
      "outputs": [
        {
          "output_type": "display_data",
          "data": {
            "text/plain": [
              "<Figure size 500x500 with 1 Axes>"
            ],
            "image/png": "[encoded data removed]"
          },
          "metadata": {}
        }
      ]
    },
    {
      "cell_type": "markdown",
      "source": [
        "**Tuning the model using gridsearchcv**"
      ],
      "metadata": {
        "id": "zY2naCAof7DD"
      }
    },
    {
      "cell_type": "code",
      "source": [
        "\n",
        "params = {'activation': ['relu', 'tanh', 'identity'],\n",
        "          'hidden_layer_sizes': [(13,), (25,50,),(30,60.90)],\n",
        "          'solver': ['adam', 'sgd'],\n",
        "          'learning_rate' : ['constant', 'adaptive'],\n",
        "          'max_iter': [500]\n",
        "         }\n",
        "\n",
        "mlp_classif_grid = GridSearchCV(MLPClassifier(random_state=42), param_grid=params, n_jobs=1, cv=5, verbose=3)\n",
        "mlp_classif_grid.fit(X_train,y_train)\n"
      ],
      "metadata": {
        "colab": {
          "base_uri": "https://localhost:8080/",
          "height": 1000
        },
        "collapsed": true,
        "id": "ovpHDG6ZgYvL",
        "outputId": "12848cc5-748b-416c-b088-39833b4a5adc"
      },
      "execution_count": null,
      "outputs": [
        {
          "output_type": "stream",
          "name": "stdout",
          "text": [
            "Fitting 5 folds for each of 36 candidates, totalling 180 fits\n"
          ]
        },
        {
          "output_type": "stream",
          "name": "stderr",
          "text": [
            "/usr/local/lib/python3.10/dist-packages/sklearn/neural_network/_multilayer_perceptron.py:686: ConvergenceWarning: Stochastic Optimizer: Maximum iterations (500) reached and the optimization hasn't converged yet.\n",
            "  warnings.warn(\n"
          ]
        },
        {
          "output_type": "stream",
          "name": "stdout",
          "text": [
            "[CV 1/5] END activation=relu, hidden_layer_sizes=(13,), learning_rate=constant, max_iter=500, solver=adam;, score=0.866 total time=   0.7s\n"
          ]
        },
        {
          "output_type": "stream",
          "name": "stderr",
          "text": [
            "/usr/local/lib/python3.10/dist-packages/sklearn/neural_network/_multilayer_perceptron.py:686: ConvergenceWarning: Stochastic Optimizer: Maximum iterations (500) reached and the optimization hasn't converged yet.\n",
            "  warnings.warn(\n"
          ]
        },
        {
          "output_type": "stream",
          "name": "stdout",
          "text": [
            "[CV 2/5] END activation=relu, hidden_layer_sizes=(13,), learning_rate=constant, max_iter=500, solver=adam;, score=0.854 total time=   0.7s\n"
          ]
        },
        {
          "output_type": "stream",
          "name": "stderr",
          "text": [
            "/usr/local/lib/python3.10/dist-packages/sklearn/neural_network/_multilayer_perceptron.py:686: ConvergenceWarning: Stochastic Optimizer: Maximum iterations (500) reached and the optimization hasn't converged yet.\n",
            "  warnings.warn(\n"
          ]
        },
        {
          "output_type": "stream",
          "name": "stdout",
          "text": [
            "[CV 3/5] END activation=relu, hidden_layer_sizes=(13,), learning_rate=constant, max_iter=500, solver=adam;, score=0.860 total time=   0.7s\n"
          ]
        },
        {
          "output_type": "stream",
          "name": "stderr",
          "text": [
            "/usr/local/lib/python3.10/dist-packages/sklearn/neural_network/_multilayer_perceptron.py:686: ConvergenceWarning: Stochastic Optimizer: Maximum iterations (500) reached and the optimization hasn't converged yet.\n",
            "  warnings.warn(\n"
          ]
        },
        {
          "output_type": "stream",
          "name": "stdout",
          "text": [
            "[CV 4/5] END activation=relu, hidden_layer_sizes=(13,), learning_rate=constant, max_iter=500, solver=adam;, score=0.809 total time=   0.7s\n"
          ]
        },
        {
          "output_type": "stream",
          "name": "stderr",
          "text": [
            "/usr/local/lib/python3.10/dist-packages/sklearn/neural_network/_multilayer_perceptron.py:686: ConvergenceWarning: Stochastic Optimizer: Maximum iterations (500) reached and the optimization hasn't converged yet.\n",
            "  warnings.warn(\n"
          ]
        },
        {
          "output_type": "stream",
          "name": "stdout",
          "text": [
            "[CV 5/5] END activation=relu, hidden_layer_sizes=(13,), learning_rate=constant, max_iter=500, solver=adam;, score=0.859 total time=   0.7s\n",
            "[CV 1/5] END activation=relu, hidden_layer_sizes=(13,), learning_rate=constant, max_iter=500, solver=sgd;, score=0.828 total time=   0.4s\n",
            "[CV 2/5] END activation=relu, hidden_layer_sizes=(13,), learning_rate=constant, max_iter=500, solver=sgd;, score=0.777 total time=   0.4s\n",
            "[CV 3/5] END activation=relu, hidden_layer_sizes=(13,), learning_rate=constant, max_iter=500, solver=sgd;, score=0.822 total time=   0.4s\n",
            "[CV 4/5] END activation=relu, hidden_layer_sizes=(13,), learning_rate=constant, max_iter=500, solver=sgd;, score=0.815 total time=   0.3s\n",
            "[CV 5/5] END activation=relu, hidden_layer_sizes=(13,), learning_rate=constant, max_iter=500, solver=sgd;, score=0.808 total time=   0.4s\n"
          ]
        },
        {
          "output_type": "stream",
          "name": "stderr",
          "text": [
            "/usr/local/lib/python3.10/dist-packages/sklearn/neural_network/_multilayer_perceptron.py:686: ConvergenceWarning: Stochastic Optimizer: Maximum iterations (500) reached and the optimization hasn't converged yet.\n",
            "  warnings.warn(\n"
          ]
        },
        {
          "output_type": "stream",
          "name": "stdout",
          "text": [
            "[CV 1/5] END activation=relu, hidden_layer_sizes=(13,), learning_rate=adaptive, max_iter=500, solver=adam;, score=0.866 total time=   1.1s\n"
          ]
        },
        {
          "output_type": "stream",
          "name": "stderr",
          "text": [
            "/usr/local/lib/python3.10/dist-packages/sklearn/neural_network/_multilayer_perceptron.py:686: ConvergenceWarning: Stochastic Optimizer: Maximum iterations (500) reached and the optimization hasn't converged yet.\n",
            "  warnings.warn(\n"
          ]
        },
        {
          "output_type": "stream",
          "name": "stdout",
          "text": [
            "[CV 2/5] END activation=relu, hidden_layer_sizes=(13,), learning_rate=adaptive, max_iter=500, solver=adam;, score=0.854 total time=   1.1s\n"
          ]
        },
        {
          "output_type": "stream",
          "name": "stderr",
          "text": [
            "/usr/local/lib/python3.10/dist-packages/sklearn/neural_network/_multilayer_perceptron.py:686: ConvergenceWarning: Stochastic Optimizer: Maximum iterations (500) reached and the optimization hasn't converged yet.\n",
            "  warnings.warn(\n"
          ]
        },
        {
          "output_type": "stream",
          "name": "stdout",
          "text": [
            "[CV 3/5] END activation=relu, hidden_layer_sizes=(13,), learning_rate=adaptive, max_iter=500, solver=adam;, score=0.860 total time=   1.1s\n"
          ]
        },
        {
          "output_type": "stream",
          "name": "stderr",
          "text": [
            "/usr/local/lib/python3.10/dist-packages/sklearn/neural_network/_multilayer_perceptron.py:686: ConvergenceWarning: Stochastic Optimizer: Maximum iterations (500) reached and the optimization hasn't converged yet.\n",
            "  warnings.warn(\n"
          ]
        },
        {
          "output_type": "stream",
          "name": "stdout",
          "text": [
            "[CV 4/5] END activation=relu, hidden_layer_sizes=(13,), learning_rate=adaptive, max_iter=500, solver=adam;, score=0.809 total time=   0.7s\n"
          ]
        },
        {
          "output_type": "stream",
          "name": "stderr",
          "text": [
            "/usr/local/lib/python3.10/dist-packages/sklearn/neural_network/_multilayer_perceptron.py:686: ConvergenceWarning: Stochastic Optimizer: Maximum iterations (500) reached and the optimization hasn't converged yet.\n",
            "  warnings.warn(\n"
          ]
        },
        {
          "output_type": "stream",
          "name": "stdout",
          "text": [
            "[CV 5/5] END activation=relu, hidden_layer_sizes=(13,), learning_rate=adaptive, max_iter=500, solver=adam;, score=0.859 total time=   1.7s\n",
            "[CV 1/5] END activation=relu, hidden_layer_sizes=(13,), learning_rate=adaptive, max_iter=500, solver=sgd;, score=0.828 total time=   0.9s\n",
            "[CV 2/5] END activation=relu, hidden_layer_sizes=(13,), learning_rate=adaptive, max_iter=500, solver=sgd;, score=0.777 total time=   0.9s\n",
            "[CV 3/5] END activation=relu, hidden_layer_sizes=(13,), learning_rate=adaptive, max_iter=500, solver=sgd;, score=0.822 total time=   0.9s\n",
            "[CV 4/5] END activation=relu, hidden_layer_sizes=(13,), learning_rate=adaptive, max_iter=500, solver=sgd;, score=0.815 total time=   0.8s\n",
            "[CV 5/5] END activation=relu, hidden_layer_sizes=(13,), learning_rate=adaptive, max_iter=500, solver=sgd;, score=0.808 total time=   1.0s\n"
          ]
        },
        {
          "output_type": "stream",
          "name": "stderr",
          "text": [
            "/usr/local/lib/python3.10/dist-packages/sklearn/neural_network/_multilayer_perceptron.py:686: ConvergenceWarning: Stochastic Optimizer: Maximum iterations (500) reached and the optimization hasn't converged yet.\n",
            "  warnings.warn(\n"
          ]
        },
        {
          "output_type": "stream",
          "name": "stdout",
          "text": [
            "[CV 1/5] END activation=relu, hidden_layer_sizes=(25, 50), learning_rate=constant, max_iter=500, solver=adam;, score=0.904 total time=   6.0s\n"
          ]
        },
        {
          "output_type": "stream",
          "name": "stderr",
          "text": [
            "/usr/local/lib/python3.10/dist-packages/sklearn/neural_network/_multilayer_perceptron.py:686: ConvergenceWarning: Stochastic Optimizer: Maximum iterations (500) reached and the optimization hasn't converged yet.\n",
            "  warnings.warn(\n"
          ]
        },
        {
          "output_type": "stream",
          "name": "stdout",
          "text": [
            "[CV 2/5] END activation=relu, hidden_layer_sizes=(25, 50), learning_rate=constant, max_iter=500, solver=adam;, score=0.834 total time=   2.5s\n"
          ]
        },
        {
          "output_type": "stream",
          "name": "stderr",
          "text": [
            "/usr/local/lib/python3.10/dist-packages/sklearn/neural_network/_multilayer_perceptron.py:686: ConvergenceWarning: Stochastic Optimizer: Maximum iterations (500) reached and the optimization hasn't converged yet.\n",
            "  warnings.warn(\n"
          ]
        },
        {
          "output_type": "stream",
          "name": "stdout",
          "text": [
            "[CV 3/5] END activation=relu, hidden_layer_sizes=(25, 50), learning_rate=constant, max_iter=500, solver=adam;, score=0.873 total time=   2.0s\n"
          ]
        },
        {
          "output_type": "stream",
          "name": "stderr",
          "text": [
            "/usr/local/lib/python3.10/dist-packages/sklearn/neural_network/_multilayer_perceptron.py:686: ConvergenceWarning: Stochastic Optimizer: Maximum iterations (500) reached and the optimization hasn't converged yet.\n",
            "  warnings.warn(\n"
          ]
        },
        {
          "output_type": "stream",
          "name": "stdout",
          "text": [
            "[CV 4/5] END activation=relu, hidden_layer_sizes=(25, 50), learning_rate=constant, max_iter=500, solver=adam;, score=0.854 total time=   2.1s\n"
          ]
        },
        {
          "output_type": "stream",
          "name": "stderr",
          "text": [
            "/usr/local/lib/python3.10/dist-packages/sklearn/neural_network/_multilayer_perceptron.py:686: ConvergenceWarning: Stochastic Optimizer: Maximum iterations (500) reached and the optimization hasn't converged yet.\n",
            "  warnings.warn(\n"
          ]
        },
        {
          "output_type": "stream",
          "name": "stdout",
          "text": [
            "[CV 5/5] END activation=relu, hidden_layer_sizes=(25, 50), learning_rate=constant, max_iter=500, solver=adam;, score=0.833 total time=   2.1s\n",
            "[CV 1/5] END activation=relu, hidden_layer_sizes=(25, 50), learning_rate=constant, max_iter=500, solver=sgd;, score=0.866 total time=   2.0s\n",
            "[CV 2/5] END activation=relu, hidden_layer_sizes=(25, 50), learning_rate=constant, max_iter=500, solver=sgd;, score=0.803 total time=   3.7s\n"
          ]
        },
        {
          "output_type": "stream",
          "name": "stderr",
          "text": [
            "/usr/local/lib/python3.10/dist-packages/sklearn/neural_network/_multilayer_perceptron.py:686: ConvergenceWarning: Stochastic Optimizer: Maximum iterations (500) reached and the optimization hasn't converged yet.\n",
            "  warnings.warn(\n"
          ]
        },
        {
          "output_type": "stream",
          "name": "stdout",
          "text": [
            "[CV 3/5] END activation=relu, hidden_layer_sizes=(25, 50), learning_rate=constant, max_iter=500, solver=sgd;, score=0.834 total time=   2.0s\n"
          ]
        },
        {
          "output_type": "stream",
          "name": "stderr",
          "text": [
            "/usr/local/lib/python3.10/dist-packages/sklearn/neural_network/_multilayer_perceptron.py:686: ConvergenceWarning: Stochastic Optimizer: Maximum iterations (500) reached and the optimization hasn't converged yet.\n",
            "  warnings.warn(\n"
          ]
        },
        {
          "output_type": "stream",
          "name": "stdout",
          "text": [
            "[CV 4/5] END activation=relu, hidden_layer_sizes=(25, 50), learning_rate=constant, max_iter=500, solver=sgd;, score=0.803 total time=   1.9s\n"
          ]
        },
        {
          "output_type": "stream",
          "name": "stderr",
          "text": [
            "/usr/local/lib/python3.10/dist-packages/sklearn/neural_network/_multilayer_perceptron.py:686: ConvergenceWarning: Stochastic Optimizer: Maximum iterations (500) reached and the optimization hasn't converged yet.\n",
            "  warnings.warn(\n"
          ]
        },
        {
          "output_type": "stream",
          "name": "stdout",
          "text": [
            "[CV 5/5] END activation=relu, hidden_layer_sizes=(25, 50), learning_rate=constant, max_iter=500, solver=sgd;, score=0.853 total time=   1.8s\n"
          ]
        },
        {
          "output_type": "stream",
          "name": "stderr",
          "text": [
            "/usr/local/lib/python3.10/dist-packages/sklearn/neural_network/_multilayer_perceptron.py:686: ConvergenceWarning: Stochastic Optimizer: Maximum iterations (500) reached and the optimization hasn't converged yet.\n",
            "  warnings.warn(\n"
          ]
        },
        {
          "output_type": "stream",
          "name": "stdout",
          "text": [
            "[CV 1/5] END activation=relu, hidden_layer_sizes=(25, 50), learning_rate=adaptive, max_iter=500, solver=adam;, score=0.904 total time=   2.1s\n"
          ]
        },
        {
          "output_type": "stream",
          "name": "stderr",
          "text": [
            "/usr/local/lib/python3.10/dist-packages/sklearn/neural_network/_multilayer_perceptron.py:686: ConvergenceWarning: Stochastic Optimizer: Maximum iterations (500) reached and the optimization hasn't converged yet.\n",
            "  warnings.warn(\n"
          ]
        },
        {
          "output_type": "stream",
          "name": "stdout",
          "text": [
            "[CV 2/5] END activation=relu, hidden_layer_sizes=(25, 50), learning_rate=adaptive, max_iter=500, solver=adam;, score=0.834 total time=   2.1s\n"
          ]
        },
        {
          "output_type": "stream",
          "name": "stderr",
          "text": [
            "/usr/local/lib/python3.10/dist-packages/sklearn/neural_network/_multilayer_perceptron.py:686: ConvergenceWarning: Stochastic Optimizer: Maximum iterations (500) reached and the optimization hasn't converged yet.\n",
            "  warnings.warn(\n"
          ]
        },
        {
          "output_type": "stream",
          "name": "stdout",
          "text": [
            "[CV 3/5] END activation=relu, hidden_layer_sizes=(25, 50), learning_rate=adaptive, max_iter=500, solver=adam;, score=0.873 total time=   4.2s\n"
          ]
        },
        {
          "output_type": "stream",
          "name": "stderr",
          "text": [
            "/usr/local/lib/python3.10/dist-packages/sklearn/neural_network/_multilayer_perceptron.py:686: ConvergenceWarning: Stochastic Optimizer: Maximum iterations (500) reached and the optimization hasn't converged yet.\n",
            "  warnings.warn(\n"
          ]
        },
        {
          "output_type": "stream",
          "name": "stdout",
          "text": [
            "[CV 4/5] END activation=relu, hidden_layer_sizes=(25, 50), learning_rate=adaptive, max_iter=500, solver=adam;, score=0.854 total time=   2.1s\n"
          ]
        },
        {
          "output_type": "stream",
          "name": "stderr",
          "text": [
            "/usr/local/lib/python3.10/dist-packages/sklearn/neural_network/_multilayer_perceptron.py:686: ConvergenceWarning: Stochastic Optimizer: Maximum iterations (500) reached and the optimization hasn't converged yet.\n",
            "  warnings.warn(\n"
          ]
        },
        {
          "output_type": "stream",
          "name": "stdout",
          "text": [
            "[CV 5/5] END activation=relu, hidden_layer_sizes=(25, 50), learning_rate=adaptive, max_iter=500, solver=adam;, score=0.833 total time=   2.1s\n"
          ]
        },
        {
          "output_type": "stream",
          "name": "stderr",
          "text": [
            "/usr/local/lib/python3.10/dist-packages/sklearn/neural_network/_multilayer_perceptron.py:686: ConvergenceWarning: Stochastic Optimizer: Maximum iterations (500) reached and the optimization hasn't converged yet.\n",
            "  warnings.warn(\n"
          ]
        },
        {
          "output_type": "stream",
          "name": "stdout",
          "text": [
            "[CV 1/5] END activation=relu, hidden_layer_sizes=(25, 50), learning_rate=adaptive, max_iter=500, solver=sgd;, score=0.866 total time=   1.9s\n",
            "[CV 2/5] END activation=relu, hidden_layer_sizes=(25, 50), learning_rate=adaptive, max_iter=500, solver=sgd;, score=0.803 total time=   1.9s\n"
          ]
        },
        {
          "output_type": "stream",
          "name": "stderr",
          "text": [
            "/usr/local/lib/python3.10/dist-packages/sklearn/neural_network/_multilayer_perceptron.py:686: ConvergenceWarning: Stochastic Optimizer: Maximum iterations (500) reached and the optimization hasn't converged yet.\n",
            "  warnings.warn(\n"
          ]
        },
        {
          "output_type": "stream",
          "name": "stdout",
          "text": [
            "[CV 3/5] END activation=relu, hidden_layer_sizes=(25, 50), learning_rate=adaptive, max_iter=500, solver=sgd;, score=0.834 total time=   1.9s\n"
          ]
        },
        {
          "output_type": "stream",
          "name": "stderr",
          "text": [
            "/usr/local/lib/python3.10/dist-packages/sklearn/neural_network/_multilayer_perceptron.py:686: ConvergenceWarning: Stochastic Optimizer: Maximum iterations (500) reached and the optimization hasn't converged yet.\n",
            "  warnings.warn(\n"
          ]
        },
        {
          "output_type": "stream",
          "name": "stdout",
          "text": [
            "[CV 4/5] END activation=relu, hidden_layer_sizes=(25, 50), learning_rate=adaptive, max_iter=500, solver=sgd;, score=0.803 total time=   3.9s\n"
          ]
        },
        {
          "output_type": "stream",
          "name": "stderr",
          "text": [
            "/usr/local/lib/python3.10/dist-packages/sklearn/neural_network/_multilayer_perceptron.py:686: ConvergenceWarning: Stochastic Optimizer: Maximum iterations (500) reached and the optimization hasn't converged yet.\n",
            "  warnings.warn(\n"
          ]
        },
        {
          "output_type": "stream",
          "name": "stdout",
          "text": [
            "[CV 5/5] END activation=relu, hidden_layer_sizes=(25, 50), learning_rate=adaptive, max_iter=500, solver=sgd;, score=0.853 total time=   2.0s\n",
            "[CV 1/5] END activation=relu, hidden_layer_sizes=(30, 60.9), learning_rate=constant, max_iter=500, solver=adam;, score=nan total time=   0.0s\n",
            "[CV 2/5] END activation=relu, hidden_layer_sizes=(30, 60.9), learning_rate=constant, max_iter=500, solver=adam;, score=nan total time=   0.0s\n",
            "[CV 3/5] END activation=relu, hidden_layer_sizes=(30, 60.9), learning_rate=constant, max_iter=500, solver=adam;, score=nan total time=   0.0s\n",
            "[CV 4/5] END activation=relu, hidden_layer_sizes=(30, 60.9), learning_rate=constant, max_iter=500, solver=adam;, score=nan total time=   0.0s\n",
            "[CV 5/5] END activation=relu, hidden_layer_sizes=(30, 60.9), learning_rate=constant, max_iter=500, solver=adam;, score=nan total time=   0.0s\n",
            "[CV 1/5] END activation=relu, hidden_layer_sizes=(30, 60.9), learning_rate=constant, max_iter=500, solver=sgd;, score=nan total time=   0.0s\n",
            "[CV 2/5] END activation=relu, hidden_layer_sizes=(30, 60.9), learning_rate=constant, max_iter=500, solver=sgd;, score=nan total time=   0.0s\n",
            "[CV 3/5] END activation=relu, hidden_layer_sizes=(30, 60.9), learning_rate=constant, max_iter=500, solver=sgd;, score=nan total time=   0.0s\n",
            "[CV 4/5] END activation=relu, hidden_layer_sizes=(30, 60.9), learning_rate=constant, max_iter=500, solver=sgd;, score=nan total time=   0.0s\n",
            "[CV 5/5] END activation=relu, hidden_layer_sizes=(30, 60.9), learning_rate=constant, max_iter=500, solver=sgd;, score=nan total time=   0.0s\n",
            "[CV 1/5] END activation=relu, hidden_layer_sizes=(30, 60.9), learning_rate=adaptive, max_iter=500, solver=adam;, score=nan total time=   0.0s\n",
            "[CV 2/5] END activation=relu, hidden_layer_sizes=(30, 60.9), learning_rate=adaptive, max_iter=500, solver=adam;, score=nan total time=   0.0s\n",
            "[CV 3/5] END activation=relu, hidden_layer_sizes=(30, 60.9), learning_rate=adaptive, max_iter=500, solver=adam;, score=nan total time=   0.0s\n",
            "[CV 4/5] END activation=relu, hidden_layer_sizes=(30, 60.9), learning_rate=adaptive, max_iter=500, solver=adam;, score=nan total time=   0.0s\n",
            "[CV 5/5] END activation=relu, hidden_layer_sizes=(30, 60.9), learning_rate=adaptive, max_iter=500, solver=adam;, score=nan total time=   0.0s\n",
            "[CV 1/5] END activation=relu, hidden_layer_sizes=(30, 60.9), learning_rate=adaptive, max_iter=500, solver=sgd;, score=nan total time=   0.0s\n",
            "[CV 2/5] END activation=relu, hidden_layer_sizes=(30, 60.9), learning_rate=adaptive, max_iter=500, solver=sgd;, score=nan total time=   0.0s\n",
            "[CV 3/5] END activation=relu, hidden_layer_sizes=(30, 60.9), learning_rate=adaptive, max_iter=500, solver=sgd;, score=nan total time=   0.0s\n",
            "[CV 4/5] END activation=relu, hidden_layer_sizes=(30, 60.9), learning_rate=adaptive, max_iter=500, solver=sgd;, score=nan total time=   0.0s\n",
            "[CV 5/5] END activation=relu, hidden_layer_sizes=(30, 60.9), learning_rate=adaptive, max_iter=500, solver=sgd;, score=nan total time=   0.0s\n"
          ]
        },
        {
          "output_type": "stream",
          "name": "stderr",
          "text": [
            "/usr/local/lib/python3.10/dist-packages/sklearn/neural_network/_multilayer_perceptron.py:686: ConvergenceWarning: Stochastic Optimizer: Maximum iterations (500) reached and the optimization hasn't converged yet.\n",
            "  warnings.warn(\n"
          ]
        },
        {
          "output_type": "stream",
          "name": "stdout",
          "text": [
            "[CV 1/5] END activation=tanh, hidden_layer_sizes=(13,), learning_rate=constant, max_iter=500, solver=adam;, score=0.828 total time=   0.9s\n"
          ]
        },
        {
          "output_type": "stream",
          "name": "stderr",
          "text": [
            "/usr/local/lib/python3.10/dist-packages/sklearn/neural_network/_multilayer_perceptron.py:686: ConvergenceWarning: Stochastic Optimizer: Maximum iterations (500) reached and the optimization hasn't converged yet.\n",
            "  warnings.warn(\n"
          ]
        },
        {
          "output_type": "stream",
          "name": "stdout",
          "text": [
            "[CV 2/5] END activation=tanh, hidden_layer_sizes=(13,), learning_rate=constant, max_iter=500, solver=adam;, score=0.834 total time=   0.9s\n"
          ]
        },
        {
          "output_type": "stream",
          "name": "stderr",
          "text": [
            "/usr/local/lib/python3.10/dist-packages/sklearn/neural_network/_multilayer_perceptron.py:686: ConvergenceWarning: Stochastic Optimizer: Maximum iterations (500) reached and the optimization hasn't converged yet.\n",
            "  warnings.warn(\n"
          ]
        },
        {
          "output_type": "stream",
          "name": "stdout",
          "text": [
            "[CV 3/5] END activation=tanh, hidden_layer_sizes=(13,), learning_rate=constant, max_iter=500, solver=adam;, score=0.860 total time=   1.3s\n"
          ]
        },
        {
          "output_type": "stream",
          "name": "stderr",
          "text": [
            "/usr/local/lib/python3.10/dist-packages/sklearn/neural_network/_multilayer_perceptron.py:686: ConvergenceWarning: Stochastic Optimizer: Maximum iterations (500) reached and the optimization hasn't converged yet.\n",
            "  warnings.warn(\n"
          ]
        },
        {
          "output_type": "stream",
          "name": "stdout",
          "text": [
            "[CV 4/5] END activation=tanh, hidden_layer_sizes=(13,), learning_rate=constant, max_iter=500, solver=adam;, score=0.834 total time=   0.9s\n"
          ]
        },
        {
          "output_type": "stream",
          "name": "stderr",
          "text": [
            "/usr/local/lib/python3.10/dist-packages/sklearn/neural_network/_multilayer_perceptron.py:686: ConvergenceWarning: Stochastic Optimizer: Maximum iterations (500) reached and the optimization hasn't converged yet.\n",
            "  warnings.warn(\n"
          ]
        },
        {
          "output_type": "stream",
          "name": "stdout",
          "text": [
            "[CV 5/5] END activation=tanh, hidden_layer_sizes=(13,), learning_rate=constant, max_iter=500, solver=adam;, score=0.853 total time=   0.9s\n",
            "[CV 1/5] END activation=tanh, hidden_layer_sizes=(13,), learning_rate=constant, max_iter=500, solver=sgd;, score=0.828 total time=   0.8s\n",
            "[CV 2/5] END activation=tanh, hidden_layer_sizes=(13,), learning_rate=constant, max_iter=500, solver=sgd;, score=0.777 total time=   0.7s\n",
            "[CV 3/5] END activation=tanh, hidden_layer_sizes=(13,), learning_rate=constant, max_iter=500, solver=sgd;, score=0.822 total time=   0.8s\n",
            "[CV 4/5] END activation=tanh, hidden_layer_sizes=(13,), learning_rate=constant, max_iter=500, solver=sgd;, score=0.834 total time=   0.7s\n",
            "[CV 5/5] END activation=tanh, hidden_layer_sizes=(13,), learning_rate=constant, max_iter=500, solver=sgd;, score=0.814 total time=   0.9s\n"
          ]
        },
        {
          "output_type": "stream",
          "name": "stderr",
          "text": [
            "/usr/local/lib/python3.10/dist-packages/sklearn/neural_network/_multilayer_perceptron.py:686: ConvergenceWarning: Stochastic Optimizer: Maximum iterations (500) reached and the optimization hasn't converged yet.\n",
            "  warnings.warn(\n"
          ]
        },
        {
          "output_type": "stream",
          "name": "stdout",
          "text": [
            "[CV 1/5] END activation=tanh, hidden_layer_sizes=(13,), learning_rate=adaptive, max_iter=500, solver=adam;, score=0.828 total time=   1.3s\n"
          ]
        },
        {
          "output_type": "stream",
          "name": "stderr",
          "text": [
            "/usr/local/lib/python3.10/dist-packages/sklearn/neural_network/_multilayer_perceptron.py:686: ConvergenceWarning: Stochastic Optimizer: Maximum iterations (500) reached and the optimization hasn't converged yet.\n",
            "  warnings.warn(\n"
          ]
        },
        {
          "output_type": "stream",
          "name": "stdout",
          "text": [
            "[CV 2/5] END activation=tanh, hidden_layer_sizes=(13,), learning_rate=adaptive, max_iter=500, solver=adam;, score=0.834 total time=   1.2s\n"
          ]
        },
        {
          "output_type": "stream",
          "name": "stderr",
          "text": [
            "/usr/local/lib/python3.10/dist-packages/sklearn/neural_network/_multilayer_perceptron.py:686: ConvergenceWarning: Stochastic Optimizer: Maximum iterations (500) reached and the optimization hasn't converged yet.\n",
            "  warnings.warn(\n"
          ]
        },
        {
          "output_type": "stream",
          "name": "stdout",
          "text": [
            "[CV 3/5] END activation=tanh, hidden_layer_sizes=(13,), learning_rate=adaptive, max_iter=500, solver=adam;, score=0.860 total time=   0.9s\n"
          ]
        },
        {
          "output_type": "stream",
          "name": "stderr",
          "text": [
            "/usr/local/lib/python3.10/dist-packages/sklearn/neural_network/_multilayer_perceptron.py:686: ConvergenceWarning: Stochastic Optimizer: Maximum iterations (500) reached and the optimization hasn't converged yet.\n",
            "  warnings.warn(\n"
          ]
        },
        {
          "output_type": "stream",
          "name": "stdout",
          "text": [
            "[CV 4/5] END activation=tanh, hidden_layer_sizes=(13,), learning_rate=adaptive, max_iter=500, solver=adam;, score=0.834 total time=   1.4s\n"
          ]
        },
        {
          "output_type": "stream",
          "name": "stderr",
          "text": [
            "/usr/local/lib/python3.10/dist-packages/sklearn/neural_network/_multilayer_perceptron.py:686: ConvergenceWarning: Stochastic Optimizer: Maximum iterations (500) reached and the optimization hasn't converged yet.\n",
            "  warnings.warn(\n"
          ]
        },
        {
          "output_type": "stream",
          "name": "stdout",
          "text": [
            "[CV 5/5] END activation=tanh, hidden_layer_sizes=(13,), learning_rate=adaptive, max_iter=500, solver=adam;, score=0.853 total time=   0.9s\n"
          ]
        },
        {
          "output_type": "stream",
          "name": "stderr",
          "text": [
            "/usr/local/lib/python3.10/dist-packages/sklearn/neural_network/_multilayer_perceptron.py:686: ConvergenceWarning: Stochastic Optimizer: Maximum iterations (500) reached and the optimization hasn't converged yet.\n",
            "  warnings.warn(\n"
          ]
        },
        {
          "output_type": "stream",
          "name": "stdout",
          "text": [
            "[CV 1/5] END activation=tanh, hidden_layer_sizes=(13,), learning_rate=adaptive, max_iter=500, solver=sgd;, score=0.828 total time=   0.8s\n",
            "[CV 2/5] END activation=tanh, hidden_layer_sizes=(13,), learning_rate=adaptive, max_iter=500, solver=sgd;, score=0.777 total time=   0.8s\n"
          ]
        },
        {
          "output_type": "stream",
          "name": "stderr",
          "text": [
            "/usr/local/lib/python3.10/dist-packages/sklearn/neural_network/_multilayer_perceptron.py:686: ConvergenceWarning: Stochastic Optimizer: Maximum iterations (500) reached and the optimization hasn't converged yet.\n",
            "  warnings.warn(\n"
          ]
        },
        {
          "output_type": "stream",
          "name": "stdout",
          "text": [
            "[CV 3/5] END activation=tanh, hidden_layer_sizes=(13,), learning_rate=adaptive, max_iter=500, solver=sgd;, score=0.822 total time=   0.8s\n"
          ]
        },
        {
          "output_type": "stream",
          "name": "stderr",
          "text": [
            "/usr/local/lib/python3.10/dist-packages/sklearn/neural_network/_multilayer_perceptron.py:686: ConvergenceWarning: Stochastic Optimizer: Maximum iterations (500) reached and the optimization hasn't converged yet.\n",
            "  warnings.warn(\n"
          ]
        },
        {
          "output_type": "stream",
          "name": "stdout",
          "text": [
            "[CV 4/5] END activation=tanh, hidden_layer_sizes=(13,), learning_rate=adaptive, max_iter=500, solver=sgd;, score=0.834 total time=   0.8s\n",
            "[CV 5/5] END activation=tanh, hidden_layer_sizes=(13,), learning_rate=adaptive, max_iter=500, solver=sgd;, score=0.821 total time=   0.8s\n"
          ]
        },
        {
          "output_type": "stream",
          "name": "stderr",
          "text": [
            "/usr/local/lib/python3.10/dist-packages/sklearn/neural_network/_multilayer_perceptron.py:686: ConvergenceWarning: Stochastic Optimizer: Maximum iterations (500) reached and the optimization hasn't converged yet.\n",
            "  warnings.warn(\n"
          ]
        },
        {
          "output_type": "stream",
          "name": "stdout",
          "text": [
            "[CV 1/5] END activation=tanh, hidden_layer_sizes=(25, 50), learning_rate=constant, max_iter=500, solver=adam;, score=0.892 total time=   4.6s\n"
          ]
        },
        {
          "output_type": "stream",
          "name": "stderr",
          "text": [
            "/usr/local/lib/python3.10/dist-packages/sklearn/neural_network/_multilayer_perceptron.py:686: ConvergenceWarning: Stochastic Optimizer: Maximum iterations (500) reached and the optimization hasn't converged yet.\n",
            "  warnings.warn(\n"
          ]
        },
        {
          "output_type": "stream",
          "name": "stdout",
          "text": [
            "[CV 2/5] END activation=tanh, hidden_layer_sizes=(25, 50), learning_rate=constant, max_iter=500, solver=adam;, score=0.860 total time=   4.3s\n"
          ]
        },
        {
          "output_type": "stream",
          "name": "stderr",
          "text": [
            "/usr/local/lib/python3.10/dist-packages/sklearn/neural_network/_multilayer_perceptron.py:686: ConvergenceWarning: Stochastic Optimizer: Maximum iterations (500) reached and the optimization hasn't converged yet.\n",
            "  warnings.warn(\n"
          ]
        },
        {
          "output_type": "stream",
          "name": "stdout",
          "text": [
            "[CV 3/5] END activation=tanh, hidden_layer_sizes=(25, 50), learning_rate=constant, max_iter=500, solver=adam;, score=0.904 total time=   3.4s\n"
          ]
        },
        {
          "output_type": "stream",
          "name": "stderr",
          "text": [
            "/usr/local/lib/python3.10/dist-packages/sklearn/neural_network/_multilayer_perceptron.py:686: ConvergenceWarning: Stochastic Optimizer: Maximum iterations (500) reached and the optimization hasn't converged yet.\n",
            "  warnings.warn(\n"
          ]
        },
        {
          "output_type": "stream",
          "name": "stdout",
          "text": [
            "[CV 4/5] END activation=tanh, hidden_layer_sizes=(25, 50), learning_rate=constant, max_iter=500, solver=adam;, score=0.860 total time=   3.4s\n"
          ]
        },
        {
          "output_type": "stream",
          "name": "stderr",
          "text": [
            "/usr/local/lib/python3.10/dist-packages/sklearn/neural_network/_multilayer_perceptron.py:686: ConvergenceWarning: Stochastic Optimizer: Maximum iterations (500) reached and the optimization hasn't converged yet.\n",
            "  warnings.warn(\n"
          ]
        },
        {
          "output_type": "stream",
          "name": "stdout",
          "text": [
            "[CV 5/5] END activation=tanh, hidden_layer_sizes=(25, 50), learning_rate=constant, max_iter=500, solver=adam;, score=0.827 total time=   5.3s\n",
            "[CV 1/5] END activation=tanh, hidden_layer_sizes=(25, 50), learning_rate=constant, max_iter=500, solver=sgd;, score=0.822 total time=   2.5s\n",
            "[CV 2/5] END activation=tanh, hidden_layer_sizes=(25, 50), learning_rate=constant, max_iter=500, solver=sgd;, score=0.809 total time=   2.3s\n",
            "[CV 3/5] END activation=tanh, hidden_layer_sizes=(25, 50), learning_rate=constant, max_iter=500, solver=sgd;, score=0.815 total time=   2.4s\n",
            "[CV 4/5] END activation=tanh, hidden_layer_sizes=(25, 50), learning_rate=constant, max_iter=500, solver=sgd;, score=0.803 total time=   3.1s\n",
            "[CV 5/5] END activation=tanh, hidden_layer_sizes=(25, 50), learning_rate=constant, max_iter=500, solver=sgd;, score=0.827 total time=   3.7s\n"
          ]
        },
        {
          "output_type": "stream",
          "name": "stderr",
          "text": [
            "/usr/local/lib/python3.10/dist-packages/sklearn/neural_network/_multilayer_perceptron.py:686: ConvergenceWarning: Stochastic Optimizer: Maximum iterations (500) reached and the optimization hasn't converged yet.\n",
            "  warnings.warn(\n"
          ]
        },
        {
          "output_type": "stream",
          "name": "stdout",
          "text": [
            "[CV 1/5] END activation=tanh, hidden_layer_sizes=(25, 50), learning_rate=adaptive, max_iter=500, solver=adam;, score=0.892 total time=   3.4s\n"
          ]
        },
        {
          "output_type": "stream",
          "name": "stderr",
          "text": [
            "/usr/local/lib/python3.10/dist-packages/sklearn/neural_network/_multilayer_perceptron.py:686: ConvergenceWarning: Stochastic Optimizer: Maximum iterations (500) reached and the optimization hasn't converged yet.\n",
            "  warnings.warn(\n"
          ]
        },
        {
          "output_type": "stream",
          "name": "stdout",
          "text": [
            "[CV 2/5] END activation=tanh, hidden_layer_sizes=(25, 50), learning_rate=adaptive, max_iter=500, solver=adam;, score=0.860 total time=   3.4s\n"
          ]
        },
        {
          "output_type": "stream",
          "name": "stderr",
          "text": [
            "/usr/local/lib/python3.10/dist-packages/sklearn/neural_network/_multilayer_perceptron.py:686: ConvergenceWarning: Stochastic Optimizer: Maximum iterations (500) reached and the optimization hasn't converged yet.\n",
            "  warnings.warn(\n"
          ]
        },
        {
          "output_type": "stream",
          "name": "stdout",
          "text": [
            "[CV 3/5] END activation=tanh, hidden_layer_sizes=(25, 50), learning_rate=adaptive, max_iter=500, solver=adam;, score=0.904 total time=   5.5s\n"
          ]
        },
        {
          "output_type": "stream",
          "name": "stderr",
          "text": [
            "/usr/local/lib/python3.10/dist-packages/sklearn/neural_network/_multilayer_perceptron.py:686: ConvergenceWarning: Stochastic Optimizer: Maximum iterations (500) reached and the optimization hasn't converged yet.\n",
            "  warnings.warn(\n"
          ]
        },
        {
          "output_type": "stream",
          "name": "stdout",
          "text": [
            "[CV 4/5] END activation=tanh, hidden_layer_sizes=(25, 50), learning_rate=adaptive, max_iter=500, solver=adam;, score=0.860 total time=   3.4s\n"
          ]
        },
        {
          "output_type": "stream",
          "name": "stderr",
          "text": [
            "/usr/local/lib/python3.10/dist-packages/sklearn/neural_network/_multilayer_perceptron.py:686: ConvergenceWarning: Stochastic Optimizer: Maximum iterations (500) reached and the optimization hasn't converged yet.\n",
            "  warnings.warn(\n"
          ]
        },
        {
          "output_type": "stream",
          "name": "stdout",
          "text": [
            "[CV 5/5] END activation=tanh, hidden_layer_sizes=(25, 50), learning_rate=adaptive, max_iter=500, solver=adam;, score=0.827 total time=   4.0s\n",
            "[CV 1/5] END activation=tanh, hidden_layer_sizes=(25, 50), learning_rate=adaptive, max_iter=500, solver=sgd;, score=0.822 total time=   6.3s\n",
            "[CV 2/5] END activation=tanh, hidden_layer_sizes=(25, 50), learning_rate=adaptive, max_iter=500, solver=sgd;, score=0.809 total time=   2.7s\n",
            "[CV 3/5] END activation=tanh, hidden_layer_sizes=(25, 50), learning_rate=adaptive, max_iter=500, solver=sgd;, score=0.815 total time=   2.7s\n",
            "[CV 4/5] END activation=tanh, hidden_layer_sizes=(25, 50), learning_rate=adaptive, max_iter=500, solver=sgd;, score=0.803 total time=   2.7s\n",
            "[CV 5/5] END activation=tanh, hidden_layer_sizes=(25, 50), learning_rate=adaptive, max_iter=500, solver=sgd;, score=0.827 total time=   4.3s\n",
            "[CV 1/5] END activation=tanh, hidden_layer_sizes=(30, 60.9), learning_rate=constant, max_iter=500, solver=adam;, score=nan total time=   0.0s\n",
            "[CV 2/5] END activation=tanh, hidden_layer_sizes=(30, 60.9), learning_rate=constant, max_iter=500, solver=adam;, score=nan total time=   0.0s\n",
            "[CV 3/5] END activation=tanh, hidden_layer_sizes=(30, 60.9), learning_rate=constant, max_iter=500, solver=adam;, score=nan total time=   0.0s\n",
            "[CV 4/5] END activation=tanh, hidden_layer_sizes=(30, 60.9), learning_rate=constant, max_iter=500, solver=adam;, score=nan total time=   0.0s\n",
            "[CV 5/5] END activation=tanh, hidden_layer_sizes=(30, 60.9), learning_rate=constant, max_iter=500, solver=adam;, score=nan total time=   0.0s\n",
            "[CV 1/5] END activation=tanh, hidden_layer_sizes=(30, 60.9), learning_rate=constant, max_iter=500, solver=sgd;, score=nan total time=   0.0s\n",
            "[CV 2/5] END activation=tanh, hidden_layer_sizes=(30, 60.9), learning_rate=constant, max_iter=500, solver=sgd;, score=nan total time=   0.0s\n",
            "[CV 3/5] END activation=tanh, hidden_layer_sizes=(30, 60.9), learning_rate=constant, max_iter=500, solver=sgd;, score=nan total time=   0.0s\n",
            "[CV 4/5] END activation=tanh, hidden_layer_sizes=(30, 60.9), learning_rate=constant, max_iter=500, solver=sgd;, score=nan total time=   0.0s\n",
            "[CV 5/5] END activation=tanh, hidden_layer_sizes=(30, 60.9), learning_rate=constant, max_iter=500, solver=sgd;, score=nan total time=   0.0s\n",
            "[CV 1/5] END activation=tanh, hidden_layer_sizes=(30, 60.9), learning_rate=adaptive, max_iter=500, solver=adam;, score=nan total time=   0.0s\n",
            "[CV 2/5] END activation=tanh, hidden_layer_sizes=(30, 60.9), learning_rate=adaptive, max_iter=500, solver=adam;, score=nan total time=   0.0s\n",
            "[CV 3/5] END activation=tanh, hidden_layer_sizes=(30, 60.9), learning_rate=adaptive, max_iter=500, solver=adam;, score=nan total time=   0.0s\n",
            "[CV 4/5] END activation=tanh, hidden_layer_sizes=(30, 60.9), learning_rate=adaptive, max_iter=500, solver=adam;, score=nan total time=   0.0s\n",
            "[CV 5/5] END activation=tanh, hidden_layer_sizes=(30, 60.9), learning_rate=adaptive, max_iter=500, solver=adam;, score=nan total time=   0.0s\n",
            "[CV 1/5] END activation=tanh, hidden_layer_sizes=(30, 60.9), learning_rate=adaptive, max_iter=500, solver=sgd;, score=nan total time=   0.0s\n",
            "[CV 2/5] END activation=tanh, hidden_layer_sizes=(30, 60.9), learning_rate=adaptive, max_iter=500, solver=sgd;, score=nan total time=   0.0s\n",
            "[CV 3/5] END activation=tanh, hidden_layer_sizes=(30, 60.9), learning_rate=adaptive, max_iter=500, solver=sgd;, score=nan total time=   0.0s\n",
            "[CV 4/5] END activation=tanh, hidden_layer_sizes=(30, 60.9), learning_rate=adaptive, max_iter=500, solver=sgd;, score=nan total time=   0.0s\n",
            "[CV 5/5] END activation=tanh, hidden_layer_sizes=(30, 60.9), learning_rate=adaptive, max_iter=500, solver=sgd;, score=nan total time=   0.0s\n",
            "[CV 1/5] END activation=identity, hidden_layer_sizes=(13,), learning_rate=constant, max_iter=500, solver=adam;, score=0.841 total time=   0.5s\n",
            "[CV 2/5] END activation=identity, hidden_layer_sizes=(13,), learning_rate=constant, max_iter=500, solver=adam;, score=0.828 total time=   0.3s\n",
            "[CV 3/5] END activation=identity, hidden_layer_sizes=(13,), learning_rate=constant, max_iter=500, solver=adam;, score=0.822 total time=   0.3s\n",
            "[CV 4/5] END activation=identity, hidden_layer_sizes=(13,), learning_rate=constant, max_iter=500, solver=adam;, score=0.828 total time=   0.3s\n",
            "[CV 5/5] END activation=identity, hidden_layer_sizes=(13,), learning_rate=constant, max_iter=500, solver=adam;, score=0.833 total time=   0.3s\n",
            "[CV 1/5] END activation=identity, hidden_layer_sizes=(13,), learning_rate=constant, max_iter=500, solver=sgd;, score=0.803 total time=   0.3s\n",
            "[CV 2/5] END activation=identity, hidden_layer_sizes=(13,), learning_rate=constant, max_iter=500, solver=sgd;, score=0.796 total time=   0.3s\n",
            "[CV 3/5] END activation=identity, hidden_layer_sizes=(13,), learning_rate=constant, max_iter=500, solver=sgd;, score=0.822 total time=   0.3s\n",
            "[CV 4/5] END activation=identity, hidden_layer_sizes=(13,), learning_rate=constant, max_iter=500, solver=sgd;, score=0.828 total time=   0.3s\n",
            "[CV 5/5] END activation=identity, hidden_layer_sizes=(13,), learning_rate=constant, max_iter=500, solver=sgd;, score=0.801 total time=   0.3s\n",
            "[CV 1/5] END activation=identity, hidden_layer_sizes=(13,), learning_rate=adaptive, max_iter=500, solver=adam;, score=0.841 total time=   0.3s\n",
            "[CV 2/5] END activation=identity, hidden_layer_sizes=(13,), learning_rate=adaptive, max_iter=500, solver=adam;, score=0.828 total time=   0.2s\n",
            "[CV 3/5] END activation=identity, hidden_layer_sizes=(13,), learning_rate=adaptive, max_iter=500, solver=adam;, score=0.822 total time=   0.3s\n",
            "[CV 4/5] END activation=identity, hidden_layer_sizes=(13,), learning_rate=adaptive, max_iter=500, solver=adam;, score=0.828 total time=   0.3s\n",
            "[CV 5/5] END activation=identity, hidden_layer_sizes=(13,), learning_rate=adaptive, max_iter=500, solver=adam;, score=0.833 total time=   0.3s\n",
            "[CV 1/5] END activation=identity, hidden_layer_sizes=(13,), learning_rate=adaptive, max_iter=500, solver=sgd;, score=0.803 total time=   0.3s\n",
            "[CV 2/5] END activation=identity, hidden_layer_sizes=(13,), learning_rate=adaptive, max_iter=500, solver=sgd;, score=0.796 total time=   0.3s\n",
            "[CV 3/5] END activation=identity, hidden_layer_sizes=(13,), learning_rate=adaptive, max_iter=500, solver=sgd;, score=0.828 total time=   0.4s\n",
            "[CV 4/5] END activation=identity, hidden_layer_sizes=(13,), learning_rate=adaptive, max_iter=500, solver=sgd;, score=0.822 total time=   0.3s\n",
            "[CV 5/5] END activation=identity, hidden_layer_sizes=(13,), learning_rate=adaptive, max_iter=500, solver=sgd;, score=0.801 total time=   0.4s\n",
            "[CV 1/5] END activation=identity, hidden_layer_sizes=(25, 50), learning_rate=constant, max_iter=500, solver=adam;, score=0.854 total time=   0.4s\n",
            "[CV 2/5] END activation=identity, hidden_layer_sizes=(25, 50), learning_rate=constant, max_iter=500, solver=adam;, score=0.841 total time=   0.4s\n",
            "[CV 3/5] END activation=identity, hidden_layer_sizes=(25, 50), learning_rate=constant, max_iter=500, solver=adam;, score=0.834 total time=   0.3s\n",
            "[CV 4/5] END activation=identity, hidden_layer_sizes=(25, 50), learning_rate=constant, max_iter=500, solver=adam;, score=0.809 total time=   0.4s\n",
            "[CV 5/5] END activation=identity, hidden_layer_sizes=(25, 50), learning_rate=constant, max_iter=500, solver=adam;, score=0.833 total time=   0.3s\n",
            "[CV 1/5] END activation=identity, hidden_layer_sizes=(25, 50), learning_rate=constant, max_iter=500, solver=sgd;, score=0.834 total time=   0.9s\n",
            "[CV 2/5] END activation=identity, hidden_layer_sizes=(25, 50), learning_rate=constant, max_iter=500, solver=sgd;, score=0.828 total time=   0.9s\n",
            "[CV 3/5] END activation=identity, hidden_layer_sizes=(25, 50), learning_rate=constant, max_iter=500, solver=sgd;, score=0.815 total time=   0.9s\n",
            "[CV 4/5] END activation=identity, hidden_layer_sizes=(25, 50), learning_rate=constant, max_iter=500, solver=sgd;, score=0.815 total time=   1.7s\n",
            "[CV 5/5] END activation=identity, hidden_layer_sizes=(25, 50), learning_rate=constant, max_iter=500, solver=sgd;, score=0.840 total time=   1.9s\n",
            "[CV 1/5] END activation=identity, hidden_layer_sizes=(25, 50), learning_rate=adaptive, max_iter=500, solver=adam;, score=0.854 total time=   0.6s\n",
            "[CV 2/5] END activation=identity, hidden_layer_sizes=(25, 50), learning_rate=adaptive, max_iter=500, solver=adam;, score=0.841 total time=   0.4s\n",
            "[CV 3/5] END activation=identity, hidden_layer_sizes=(25, 50), learning_rate=adaptive, max_iter=500, solver=adam;, score=0.834 total time=   0.3s\n",
            "[CV 4/5] END activation=identity, hidden_layer_sizes=(25, 50), learning_rate=adaptive, max_iter=500, solver=adam;, score=0.809 total time=   0.4s\n",
            "[CV 5/5] END activation=identity, hidden_layer_sizes=(25, 50), learning_rate=adaptive, max_iter=500, solver=adam;, score=0.833 total time=   0.2s\n",
            "[CV 1/5] END activation=identity, hidden_layer_sizes=(25, 50), learning_rate=adaptive, max_iter=500, solver=sgd;, score=0.834 total time=   1.7s\n",
            "[CV 2/5] END activation=identity, hidden_layer_sizes=(25, 50), learning_rate=adaptive, max_iter=500, solver=sgd;, score=0.822 total time=   1.1s\n",
            "[CV 3/5] END activation=identity, hidden_layer_sizes=(25, 50), learning_rate=adaptive, max_iter=500, solver=sgd;, score=0.828 total time=   1.0s\n",
            "[CV 4/5] END activation=identity, hidden_layer_sizes=(25, 50), learning_rate=adaptive, max_iter=500, solver=sgd;, score=0.815 total time=   0.9s\n",
            "[CV 5/5] END activation=identity, hidden_layer_sizes=(25, 50), learning_rate=adaptive, max_iter=500, solver=sgd;, score=0.827 total time=   0.9s\n",
            "[CV 1/5] END activation=identity, hidden_layer_sizes=(30, 60.9), learning_rate=constant, max_iter=500, solver=adam;, score=nan total time=   0.0s\n",
            "[CV 2/5] END activation=identity, hidden_layer_sizes=(30, 60.9), learning_rate=constant, max_iter=500, solver=adam;, score=nan total time=   0.0s\n",
            "[CV 3/5] END activation=identity, hidden_layer_sizes=(30, 60.9), learning_rate=constant, max_iter=500, solver=adam;, score=nan total time=   0.0s\n",
            "[CV 4/5] END activation=identity, hidden_layer_sizes=(30, 60.9), learning_rate=constant, max_iter=500, solver=adam;, score=nan total time=   0.0s\n",
            "[CV 5/5] END activation=identity, hidden_layer_sizes=(30, 60.9), learning_rate=constant, max_iter=500, solver=adam;, score=nan total time=   0.0s\n",
            "[CV 1/5] END activation=identity, hidden_layer_sizes=(30, 60.9), learning_rate=constant, max_iter=500, solver=sgd;, score=nan total time=   0.0s\n",
            "[CV 2/5] END activation=identity, hidden_layer_sizes=(30, 60.9), learning_rate=constant, max_iter=500, solver=sgd;, score=nan total time=   0.0s\n",
            "[CV 3/5] END activation=identity, hidden_layer_sizes=(30, 60.9), learning_rate=constant, max_iter=500, solver=sgd;, score=nan total time=   0.0s\n",
            "[CV 4/5] END activation=identity, hidden_layer_sizes=(30, 60.9), learning_rate=constant, max_iter=500, solver=sgd;, score=nan total time=   0.0s\n",
            "[CV 5/5] END activation=identity, hidden_layer_sizes=(30, 60.9), learning_rate=constant, max_iter=500, solver=sgd;, score=nan total time=   0.0s\n",
            "[CV 1/5] END activation=identity, hidden_layer_sizes=(30, 60.9), learning_rate=adaptive, max_iter=500, solver=adam;, score=nan total time=   0.0s\n",
            "[CV 2/5] END activation=identity, hidden_layer_sizes=(30, 60.9), learning_rate=adaptive, max_iter=500, solver=adam;, score=nan total time=   0.0s\n",
            "[CV 3/5] END activation=identity, hidden_layer_sizes=(30, 60.9), learning_rate=adaptive, max_iter=500, solver=adam;, score=nan total time=   0.0s\n",
            "[CV 4/5] END activation=identity, hidden_layer_sizes=(30, 60.9), learning_rate=adaptive, max_iter=500, solver=adam;, score=nan total time=   0.0s\n",
            "[CV 5/5] END activation=identity, hidden_layer_sizes=(30, 60.9), learning_rate=adaptive, max_iter=500, solver=adam;, score=nan total time=   0.0s\n",
            "[CV 1/5] END activation=identity, hidden_layer_sizes=(30, 60.9), learning_rate=adaptive, max_iter=500, solver=sgd;, score=nan total time=   0.0s\n",
            "[CV 2/5] END activation=identity, hidden_layer_sizes=(30, 60.9), learning_rate=adaptive, max_iter=500, solver=sgd;, score=nan total time=   0.0s\n",
            "[CV 3/5] END activation=identity, hidden_layer_sizes=(30, 60.9), learning_rate=adaptive, max_iter=500, solver=sgd;, score=nan total time=   0.0s\n",
            "[CV 4/5] END activation=identity, hidden_layer_sizes=(30, 60.9), learning_rate=adaptive, max_iter=500, solver=sgd;, score=nan total time=   0.0s\n",
            "[CV 5/5] END activation=identity, hidden_layer_sizes=(30, 60.9), learning_rate=adaptive, max_iter=500, solver=sgd;, score=nan total time=   0.0s\n"
          ]
        },
        {
          "output_type": "stream",
          "name": "stderr",
          "text": [
            "/usr/local/lib/python3.10/dist-packages/sklearn/model_selection/_validation.py:378: FitFailedWarning: \n",
            "60 fits failed out of a total of 180.\n",
            "The score on these train-test partitions for these parameters will be set to nan.\n",
            "If these failures are not expected, you can try to debug them by setting error_score='raise'.\n",
            "\n",
            "Below are more details about the failures:\n",
            "--------------------------------------------------------------------------------\n",
            "60 fits failed with the following error:\n",
            "Traceback (most recent call last):\n",
            "  File \"/usr/local/lib/python3.10/dist-packages/sklearn/model_selection/_validation.py\", line 686, in _fit_and_score\n",
            "    estimator.fit(X_train, y_train, **fit_params)\n",
            "  File \"/usr/local/lib/python3.10/dist-packages/sklearn/neural_network/_multilayer_perceptron.py\", line 749, in fit\n",
            "    return self._fit(X, y, incremental=False)\n",
            "  File \"/usr/local/lib/python3.10/dist-packages/sklearn/neural_network/_multilayer_perceptron.py\", line 454, in _fit\n",
            "    self._initialize(y, layer_units, X.dtype)\n",
            "  File \"/usr/local/lib/python3.10/dist-packages/sklearn/neural_network/_multilayer_perceptron.py\", line 387, in _initialize\n",
            "    coef_init, intercept_init = self._init_coef(\n",
            "  File \"/usr/local/lib/python3.10/dist-packages/sklearn/neural_network/_multilayer_perceptron.py\", line 414, in _init_coef\n",
            "    coef_init = self._random_state.uniform(\n",
            "  File \"mtrand.pyx\", line 1157, in numpy.random.mtrand.RandomState.uniform\n",
            "  File \"_common.pyx\", line 636, in numpy.random._common.cont\n",
            "TypeError: 'float' object cannot be interpreted as an integer\n",
            "\n",
            "  warnings.warn(some_fits_failed_message, FitFailedWarning)\n",
            "/usr/local/lib/python3.10/dist-packages/sklearn/model_selection/_search.py:952: UserWarning: One or more of the test scores are non-finite: [0.84950188 0.8099461  0.84950188 0.8099461  0.8596603  0.83165932\n",
            " 0.8596603  0.83165932        nan        nan        nan        nan\n",
            " 0.8418504  0.81504981 0.8418504  0.81633186 0.86856933 0.81506614\n",
            " 0.86856933 0.81506614        nan        nan        nan        nan\n",
            " 0.83036093 0.80993794 0.83036093 0.80993794 0.83418259 0.82654744\n",
            " 0.83418259 0.82525723        nan        nan        nan        nan]\n",
            "  warnings.warn(\n",
            "/usr/local/lib/python3.10/dist-packages/sklearn/neural_network/_multilayer_perceptron.py:686: ConvergenceWarning: Stochastic Optimizer: Maximum iterations (500) reached and the optimization hasn't converged yet.\n",
            "  warnings.warn(\n"
          ]
        },
        {
          "output_type": "execute_result",
          "data": {
            "text/plain": [
              "GridSearchCV(cv=5, estimator=MLPClassifier(random_state=42), n_jobs=1,\n",
              "             param_grid={'activation': ['relu', 'tanh', 'identity'],\n",
              "                         'hidden_layer_sizes': [(13,), (25, 50), (30, 60.9)],\n",
              "                         'learning_rate': ['constant', 'adaptive'],\n",
              "                         'max_iter': [500], 'solver': ['adam', 'sgd']},\n",
              "             verbose=3)"
            ],
            "text/html": [
              "<style>#sk-container-id-2 {color: black;background-color: white;}#sk-container-id-2 pre{padding: 0;}#sk-container-id-2 div.sk-toggleable {background-color: white;}#sk-container-id-2 label.sk-toggleable__label {cursor: pointer;display: block;width: 100%;margin-bottom: 0;padding: 0.3em;box-sizing: border-box;text-align: center;}#sk-container-id-2 label.sk-toggleable__label-arrow:before {content: \"▸\";float: left;margin-right: 0.25em;color: #696969;}#sk-container-id-2 label.sk-toggleable__label-arrow:hover:before {color: black;}#sk-container-id-2 div.sk-estimator:hover label.sk-toggleable__label-arrow:before {color: black;}#sk-container-id-2 div.sk-toggleable__content {max-height: 0;max-width: 0;overflow: hidden;text-align: left;background-color: #f0f8ff;}#sk-container-id-2 div.sk-toggleable__content pre {margin: 0.2em;color: black;border-radius: 0.25em;background-color: #f0f8ff;}#sk-container-id-2 input.sk-toggleable__control:checked~div.sk-toggleable__content {max-height: 200px;max-width: 100%;overflow: auto;}#sk-container-id-2 input.sk-toggleable__control:checked~label.sk-toggleable__label-arrow:before {content: \"▾\";}#sk-container-id-2 div.sk-estimator input.sk-toggleable__control:checked~label.sk-toggleable__label {background-color: #d4ebff;}#sk-container-id-2 div.sk-label input.sk-toggleable__control:checked~label.sk-toggleable__label {background-color: #d4ebff;}#sk-container-id-2 input.sk-hidden--visually {border: 0;clip: rect(1px 1px 1px 1px);clip: rect(1px, 1px, 1px, 1px);height: 1px;margin: -1px;overflow: hidden;padding: 0;position: absolute;width: 1px;}#sk-container-id-2 div.sk-estimator {font-family: monospace;background-color: #f0f8ff;border: 1px dotted black;border-radius: 0.25em;box-sizing: border-box;margin-bottom: 0.5em;}#sk-container-id-2 div.sk-estimator:hover {background-color: #d4ebff;}#sk-container-id-2 div.sk-parallel-item::after {content: \"\";width: 100%;border-bottom: 1px solid gray;flex-grow: 1;}#sk-container-id-2 div.sk-label:hover label.sk-toggleable__label {background-color: #d4ebff;}#sk-container-id-2 div.sk-serial::before {content: \"\";position: absolute;border-left: 1px solid gray;box-sizing: border-box;top: 0;bottom: 0;left: 50%;z-index: 0;}#sk-container-id-2 div.sk-serial {display: flex;flex-direction: column;align-items: center;background-color: white;padding-right: 0.2em;padding-left: 0.2em;position: relative;}#sk-container-id-2 div.sk-item {position: relative;z-index: 1;}#sk-container-id-2 div.sk-parallel {display: flex;align-items: stretch;justify-content: center;background-color: white;position: relative;}#sk-container-id-2 div.sk-item::before, #sk-container-id-2 div.sk-parallel-item::before {content: \"\";position: absolute;border-left: 1px solid gray;box-sizing: border-box;top: 0;bottom: 0;left: 50%;z-index: -1;}#sk-container-id-2 div.sk-parallel-item {display: flex;flex-direction: column;z-index: 1;position: relative;background-color: white;}#sk-container-id-2 div.sk-parallel-item:first-child::after {align-self: flex-end;width: 50%;}#sk-container-id-2 div.sk-parallel-item:last-child::after {align-self: flex-start;width: 50%;}#sk-container-id-2 div.sk-parallel-item:only-child::after {width: 0;}#sk-container-id-2 div.sk-dashed-wrapped {border: 1px dashed gray;margin: 0 0.4em 0.5em 0.4em;box-sizing: border-box;padding-bottom: 0.4em;background-color: white;}#sk-container-id-2 div.sk-label label {font-family: monospace;font-weight: bold;display: inline-block;line-height: 1.2em;}#sk-container-id-2 div.sk-label-container {text-align: center;}#sk-container-id-2 div.sk-container {/* jupyter's `normalize.less` sets `[hidden] { display: none; }` but bootstrap.min.css set `[hidden] { display: none !important; }` so we also need the `!important` here to be able to override the default hidden behavior on the sphinx rendered scikit-learn.org. See: https://github.com/scikit-learn/scikit-learn/issues/21755 */display: inline-block !important;position: relative;}#sk-container-id-2 div.sk-text-repr-fallback {display: none;}</style><div id=\"sk-container-id-2\" class=\"sk-top-container\"><div class=\"sk-text-repr-fallback\"><pre>GridSearchCV(cv=5, estimator=MLPClassifier(random_state=42), n_jobs=1,\n",
              "             param_grid={&#x27;activation&#x27;: [&#x27;relu&#x27;, &#x27;tanh&#x27;, &#x27;identity&#x27;],\n",
              "                         &#x27;hidden_layer_sizes&#x27;: [(13,), (25, 50), (30, 60.9)],\n",
              "                         &#x27;learning_rate&#x27;: [&#x27;constant&#x27;, &#x27;adaptive&#x27;],\n",
              "                         &#x27;max_iter&#x27;: [500], &#x27;solver&#x27;: [&#x27;adam&#x27;, &#x27;sgd&#x27;]},\n",
              "             verbose=3)</pre><b>In a Jupyter environment, please rerun this cell to show the HTML representation or trust the notebook. <br />On GitHub, the HTML representation is unable to render, please try loading this page with nbviewer.org.</b></div><div class=\"sk-container\" hidden><div class=\"sk-item sk-dashed-wrapped\"><div class=\"sk-label-container\"><div class=\"sk-label sk-toggleable\"><input class=\"sk-toggleable__control sk-hidden--visually\" id=\"sk-estimator-id-4\" type=\"checkbox\" ><label for=\"sk-estimator-id-4\" class=\"sk-toggleable__label sk-toggleable__label-arrow\">GridSearchCV</label><div class=\"sk-toggleable__content\"><pre>GridSearchCV(cv=5, estimator=MLPClassifier(random_state=42), n_jobs=1,\n",
              "             param_grid={&#x27;activation&#x27;: [&#x27;relu&#x27;, &#x27;tanh&#x27;, &#x27;identity&#x27;],\n",
              "                         &#x27;hidden_layer_sizes&#x27;: [(13,), (25, 50), (30, 60.9)],\n",
              "                         &#x27;learning_rate&#x27;: [&#x27;constant&#x27;, &#x27;adaptive&#x27;],\n",
              "                         &#x27;max_iter&#x27;: [500], &#x27;solver&#x27;: [&#x27;adam&#x27;, &#x27;sgd&#x27;]},\n",
              "             verbose=3)</pre></div></div></div><div class=\"sk-parallel\"><div class=\"sk-parallel-item\"><div class=\"sk-item\"><div class=\"sk-label-container\"><div class=\"sk-label sk-toggleable\"><input class=\"sk-toggleable__control sk-hidden--visually\" id=\"sk-estimator-id-5\" type=\"checkbox\" ><label for=\"sk-estimator-id-5\" class=\"sk-toggleable__label sk-toggleable__label-arrow\">estimator: MLPClassifier</label><div class=\"sk-toggleable__content\"><pre>MLPClassifier(random_state=42)</pre></div></div></div><div class=\"sk-serial\"><div class=\"sk-item\"><div class=\"sk-estimator sk-toggleable\"><input class=\"sk-toggleable__control sk-hidden--visually\" id=\"sk-estimator-id-6\" type=\"checkbox\" ><label for=\"sk-estimator-id-6\" class=\"sk-toggleable__label sk-toggleable__label-arrow\">MLPClassifier</label><div class=\"sk-toggleable__content\"><pre>MLPClassifier(random_state=42)</pre></div></div></div></div></div></div></div></div></div></div>"
            ]
          },
          "metadata": {},
          "execution_count": 81
        }
      ]
    },
    {
      "cell_type": "code",
      "source": [
        "mlp_classif_grid.best_params_"
      ],
      "metadata": {
        "colab": {
          "base_uri": "https://localhost:8080/"
        },
        "id": "9ubHr5qooaVB",
        "outputId": "8ec92cfa-8297-4d58-da8c-189895042a53"
      },
      "execution_count": null,
      "outputs": [
        {
          "output_type": "execute_result",
          "data": {
            "text/plain": [
              "{'activation': 'tanh',\n",
              " 'hidden_layer_sizes': (25, 50),\n",
              " 'learning_rate': 'constant',\n",
              " 'max_iter': 500,\n",
              " 'solver': 'adam'}"
            ]
          },
          "metadata": {},
          "execution_count": 82
        }
      ]
    },
    {
      "cell_type": "markdown",
      "source": [
        "Fitting the training data to our model, based on the hyperparameter from gridsearch."
      ],
      "metadata": {
        "id": "SGm2DnpDrfXH"
      }
    },
    {
      "cell_type": "code",
      "source": [
        "mlp = MLPClassifier(\n",
        "    activation='tanh',\n",
        "    hidden_layer_sizes=(25, 50),\n",
        "    learning_rate='constant',\n",
        "    max_iter=500,\n",
        "    solver='adam'\n",
        ")\n",
        "\n",
        "# Fit the model to the training data\n",
        "mlp.fit(X_train, y_train)\n",
        "\n",
        "# Make predictions on the test data\n",
        "y_ann2_test = mlp.predict(X_test)\n",
        "y_ann2_train = mlp.predict(X_train)"
      ],
      "metadata": {
        "colab": {
          "base_uri": "https://localhost:8080/"
        },
        "id": "vtUSALHqqJFq",
        "outputId": "572338ea-8699-4ab2-8ec5-0625360ff9f3"
      },
      "execution_count": null,
      "outputs": [
        {
          "output_type": "stream",
          "name": "stderr",
          "text": [
            "/usr/local/lib/python3.10/dist-packages/sklearn/neural_network/_multilayer_perceptron.py:686: ConvergenceWarning: Stochastic Optimizer: Maximum iterations (500) reached and the optimization hasn't converged yet.\n",
            "  warnings.warn(\n"
          ]
        }
      ]
    },
    {
      "cell_type": "code",
      "source": [
        "print(confusion_matrix(y_train,y_ann2_train))\n",
        "print(classification_report(y_train,y_ann2_train))"
      ],
      "metadata": {
        "colab": {
          "base_uri": "https://localhost:8080/"
        },
        "id": "w69kPlG5o_pY",
        "outputId": "8d441c2f-fc2e-4842-a188-f28d371b5ce9"
      },
      "execution_count": null,
      "outputs": [
        {
          "output_type": "stream",
          "name": "stdout",
          "text": [
            "[[136  18]\n",
            " [  9 621]]\n",
            "              precision    recall  f1-score   support\n",
            "\n",
            "           0       0.94      0.88      0.91       154\n",
            "           1       0.97      0.99      0.98       630\n",
            "\n",
            "    accuracy                           0.97       784\n",
            "   macro avg       0.95      0.93      0.94       784\n",
            "weighted avg       0.97      0.97      0.97       784\n",
            "\n"
          ]
        }
      ]
    },
    {
      "cell_type": "code",
      "source": [
        "print(confusion_matrix(y_test,y_ann2_test))\n",
        "print(classification_report(y_test,y_ann2_test))"
      ],
      "metadata": {
        "colab": {
          "base_uri": "https://localhost:8080/"
        },
        "id": "QfD4RawWhjzc",
        "outputId": "9ff4a509-b20c-474a-8702-98a2dbd37bd1"
      },
      "execution_count": null,
      "outputs": [
        {
          "output_type": "stream",
          "name": "stdout",
          "text": [
            "[[ 45  21]\n",
            " [ 24 246]]\n",
            "              precision    recall  f1-score   support\n",
            "\n",
            "           0       0.65      0.68      0.67        66\n",
            "           1       0.92      0.91      0.92       270\n",
            "\n",
            "    accuracy                           0.87       336\n",
            "   macro avg       0.79      0.80      0.79       336\n",
            "weighted avg       0.87      0.87      0.87       336\n",
            "\n"
          ]
        }
      ]
    },
    {
      "cell_type": "code",
      "source": [
        "sns.set(rc = {'axes.grid':False})\n",
        "ConfusionMatrixDisplay.from_predictions(y_test, y_ann2_test)\n",
        "plt.title('The models Confusion matrix')\n",
        "plt.show()"
      ],
      "metadata": {
        "colab": {
          "base_uri": "https://localhost:8080/",
          "height": 480
        },
        "id": "Bf4E6HqksDRZ",
        "outputId": "3ea20b09-6235-4160-acfa-c2636ee19a46"
      },
      "execution_count": null,
      "outputs": [
        {
          "output_type": "display_data",
          "data": {
            "text/plain": [
              "<Figure size 640x480 with 2 Axes>"
            ],
            "image/png": "[encoded data removed]"
          },
          "metadata": {}
        }
      ]
    },
    {
      "cell_type": "code",
      "source": [
        "auc = metrics.roc_auc_score(y_test, y_ann2_test)\n",
        "\n",
        "false_positive_rate, true_positive_rate, thresolds = metrics.roc_curve(y_test, y_ann2_test)\n",
        "\n",
        "plt.figure(figsize=(5, 5), dpi=100)\n",
        "plt.axis('scaled')\n",
        "plt.xlim([0, 1])\n",
        "plt.ylim([0, 1])\n",
        "plt.title(\"AUC-ROC Curve\")\n",
        "plt.plot(false_positive_rate, true_positive_rate,'--' )\n",
        "plt.fill_between(false_positive_rate, true_positive_rate, facecolor='lightyellow', alpha=0.7)\n",
        "plt.text(0.95, 0.05, 'AUC = %0.4f' % auc, ha='right', fontsize=12, weight='bold', color='blue')\n",
        "plt.xlabel(\"False Positive Rate\")\n",
        "plt.ylabel(\"True Positive Rate\")\n",
        "plt.show()"
      ],
      "metadata": {
        "colab": {
          "base_uri": "https://localhost:8080/",
          "height": 496
        },
        "id": "tcQyg0aGo7tk",
        "outputId": "f1ba7ecc-1f30-46f6-ef6c-a351576084f5"
      },
      "execution_count": null,
      "outputs": [
        {
          "output_type": "display_data",
          "data": {
            "text/plain": [
              "<Figure size 500x500 with 1 Axes>"
            ],
            "image/png": "[encoded data removed]"
          },
          "metadata": {}
        }
      ]
    }
  ]
}